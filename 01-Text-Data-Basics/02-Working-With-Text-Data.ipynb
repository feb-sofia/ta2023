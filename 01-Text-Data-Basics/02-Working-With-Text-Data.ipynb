{
 "cells": [
  {
   "cell_type": "code",
   "execution_count": 11,
   "metadata": {
    "ExecuteTime": {
     "end_time": "2023-11-20T09:52:58.987128247Z",
     "start_time": "2023-11-20T09:52:58.027097640Z"
    }
   },
   "outputs": [],
   "source": [
    "import pandas as pd\n",
    "import re"
   ]
  },
  {
   "cell_type": "markdown",
   "metadata": {},
   "source": [
    "# Working with text data in Python\n",
    "\n",
    "Before we begin\n",
    "\n",
    "- String literals\n",
    "- Escaping special characters\n",
    "- String operations, indexing, slicing and formatting\n",
    "- Regular expressions\n",
    "\n",
    "## String literals\n",
    "\n",
    "For detailed information see the Python 3 [string documentation](https://docs.python.org/3/library/string.html)."
   ]
  },
  {
   "cell_type": "code",
   "execution_count": 12,
   "metadata": {
    "ExecuteTime": {
     "end_time": "2023-11-20T09:52:59.016235805Z",
     "start_time": "2023-11-20T09:52:58.445143143Z"
    }
   },
   "outputs": [],
   "source": [
    "## String literals\n",
    "simple_string = \"The dog chased the bat.\""
   ]
  },
  {
   "cell_type": "code",
   "execution_count": 13,
   "metadata": {
    "ExecuteTime": {
     "end_time": "2023-11-20T09:52:59.017333635Z",
     "start_time": "2023-11-20T09:52:58.456483327Z"
    }
   },
   "outputs": [],
   "source": [
    "## Quotation marks need to be escaped using \\ to remove their special meaning\n",
    "\n",
    "string_with_escape_char_1 = \"The building housing the John Snow pub was built in the 1870s and was originally called the \\\"Newcastle-upon-Tyne.\\\"\""
   ]
  },
  {
   "cell_type": "code",
   "execution_count": 14,
   "metadata": {
    "ExecuteTime": {
     "end_time": "2023-11-20T09:52:59.018816625Z",
     "start_time": "2023-11-20T09:52:58.477594956Z"
    }
   },
   "outputs": [
    {
     "data": {
      "text/plain": "'She said that this model is \"the best there is.\" '"
     },
     "execution_count": 14,
     "metadata": {},
     "output_type": "execute_result"
    }
   ],
   "source": [
    "## Long string format\n",
    "\n",
    "string_long_format = \"\"\"She said that this model is \"the best there is.\" \"\"\"\n",
    "string_long_format"
   ]
  },
  {
   "cell_type": "code",
   "execution_count": 15,
   "metadata": {
    "ExecuteTime": {
     "end_time": "2023-11-20T09:52:59.034782320Z",
     "start_time": "2023-11-20T09:52:58.517662334Z"
    }
   },
   "outputs": [
    {
     "name": "stdout",
     "output_type": "stream",
     "text": [
      "Press \t to align the piece of code...\n",
      "Press \\t to align the piece of code...\n",
      "Press \\t to align the piece of code...\n"
     ]
    }
   ],
   "source": [
    "## Some characters have a special meaning when preceeded by \\,\n",
    "\n",
    "string_with_escape_char_2 = \"Press \\t to align the piece of code...\"\n",
    "print(string_with_escape_char_2)\n",
    "\n",
    "string_with_escape_char_3 = \"Press \\\\t to align the piece of code...\"\n",
    "print(string_with_escape_char_3)\n",
    "\n",
    "## String prefixes: r\"string\": raw strings do not perform backspace interpolation and disable escape sequences\n",
    "string_with_escape_char_3 = r\"Press \\t to align the piece of code...\"\n",
    "print(string_with_escape_char_3)"
   ]
  },
  {
   "cell_type": "markdown",
   "source": [
    "## Selecting substrings\n",
    "\n",
    "Strings in Python work as immutable arrays."
   ],
   "metadata": {
    "collapsed": false
   }
  },
  {
   "cell_type": "code",
   "execution_count": 17,
   "outputs": [
    {
     "name": "stdout",
     "output_type": "stream",
     "text": [
      "T\n",
      "The Sam Al\n",
      "TeSmAta rm onst  eprslti h ehwrd\n",
      ".lo ctetn ip eedao tipaadnml a h\n"
     ]
    }
   ],
   "source": [
    "sentence = \"The Sam Altman drama points to a deeper split in the tech world.\"\n",
    "\n",
    "len(sentence)\n",
    "\n",
    "print(sentence[0])\n",
    "print(sentence[0:10])\n",
    "print(sentence[::2])\n",
    "print(sentence[::-2])"
   ],
   "metadata": {
    "collapsed": false,
    "ExecuteTime": {
     "end_time": "2023-11-20T14:09:24.015435443Z",
     "start_time": "2023-11-20T14:09:23.974678958Z"
    }
   }
  },
  {
   "cell_type": "markdown",
   "source": [
    "# Formatted String Literals\n",
    "\n",
    "Python 3.6 introduced *f-strings which are often more convenient to use\n",
    "than the `.format()` string method. With f-strings you can use outside variables which are interpolated into the string.\n",
    "\n",
    "For detailed information see the Python 3 [f-strings documentation](https://docs.python.org/3/reference/lexical_analysis.html#f-strings)."
   ],
   "metadata": {
    "collapsed": false
   }
  },
  {
   "cell_type": "code",
   "execution_count": 13,
   "outputs": [
    {
     "name": "stdout",
     "output_type": "stream",
     "text": [
      "Call +35988328349 for assistance.\n",
      "Dial +35988328349 for assistance.\n"
     ]
    }
   ],
   "source": [
    "phone_number = \"+35988328349\"\n",
    "\n",
    "print(f\"Call {phone_number} for assistance.\")\n",
    "print(\"Dial {phn} for assistance.\".format(phn = phone_number))"
   ],
   "metadata": {
    "collapsed": false,
    "ExecuteTime": {
     "end_time": "2023-11-20T14:02:24.515427060Z",
     "start_time": "2023-11-20T14:02:24.470532163Z"
    }
   }
  },
  {
   "cell_type": "markdown",
   "source": [
    "Printing the string representation of an object.\n"
   ],
   "metadata": {
    "collapsed": false
   }
  },
  {
   "cell_type": "code",
   "execution_count": 5,
   "outputs": [
    {
     "name": "stdout",
     "output_type": "stream",
     "text": [
      "Call '+35988328349'\n"
     ]
    }
   ],
   "source": [
    "print(f\"Call {phone_number!r}\")"
   ],
   "metadata": {
    "collapsed": false,
    "ExecuteTime": {
     "end_time": "2023-11-20T13:59:55.171441925Z",
     "start_time": "2023-11-20T13:59:55.127283686Z"
    }
   }
  },
  {
   "cell_type": "markdown",
   "source": [
    "When using values from a dictionary, pay attention to the quotation marks."
   ],
   "metadata": {
    "collapsed": false
   }
  },
  {
   "cell_type": "code",
   "execution_count": 10,
   "outputs": [],
   "source": [
    "dct = {\"phone_number\": \"+35988328349\"}"
   ],
   "metadata": {
    "collapsed": false,
    "ExecuteTime": {
     "end_time": "2023-11-20T14:02:05.893908155Z",
     "start_time": "2023-11-20T14:02:05.871436526Z"
    }
   }
  },
  {
   "cell_type": "code",
   "execution_count": 14,
   "outputs": [
    {
     "ename": "SyntaxError",
     "evalue": "invalid syntax (180812370.py, line 1)",
     "output_type": "error",
     "traceback": [
      "\u001B[0;36m  Cell \u001B[0;32mIn[14], line 1\u001B[0;36m\u001B[0m\n\u001B[0;31m    print(f\"Call {dct[\"phone_number\"]}\")\u001B[0m\n\u001B[0m                       ^\u001B[0m\n\u001B[0;31mSyntaxError\u001B[0m\u001B[0;31m:\u001B[0m invalid syntax\n"
     ]
    }
   ],
   "source": [
    "print(f\"Call {dct[\"phone_number\"]}\")"
   ],
   "metadata": {
    "collapsed": false,
    "ExecuteTime": {
     "end_time": "2023-11-20T14:02:27.208507384Z",
     "start_time": "2023-11-20T14:02:27.191262446Z"
    }
   }
  },
  {
   "cell_type": "code",
   "execution_count": 15,
   "outputs": [
    {
     "name": "stdout",
     "output_type": "stream",
     "text": [
      "Call +35988328349.\n"
     ]
    }
   ],
   "source": [
    "print(f\"Call {dct['phone_number']}.\")"
   ],
   "metadata": {
    "collapsed": false,
    "ExecuteTime": {
     "end_time": "2023-11-20T14:02:29.462034376Z",
     "start_time": "2023-11-20T14:02:29.455123014Z"
    }
   }
  },
  {
   "cell_type": "markdown",
   "metadata": {},
   "source": [
    "## Local Text Files\n",
    "\n",
    "In the following we will use a jupyter notebooks specific way to first write a local file and then read it back. "
   ]
  },
  {
   "cell_type": "code",
   "execution_count": 30,
   "outputs": [
    {
     "name": "stdout",
     "output_type": "stream",
     "text": [
      "Overwriting tweets_hashtags_callouts.txt\n"
     ]
    }
   ],
   "source": [
    "%%writefile tweets_hashtags_callouts.txt\n",
    "Just returned to the @WhiteHouse after a great evening @ Monroe, Louisiana with a massive turnout of Great American Patriots. With early voting underway until Sat, find your polling location below & go vote for your next #LAgov, @EddieRispone! #GeauxVote➡️https://vote.donaldjtrump.com\n",
    "The degenerate Washington Post MADE UP the story about me asking Bill Barr to hold a news conference. Never happened, and there were no sources!\n",
    "LOUISIANA! Early voting is underway until Saturday, it’s time to get out and VOTE to REPLACE Radical Liberal Democrat John Bel Edwards with a great new REPUBLICAN Governor, @EddieRispone! #GeauxVote\n",
    "“Based on the things I’ve seen, the Democrats have no case, or a weak case, at best. I don’t think there are, or will be, well founded articles of Impeachment here.” Robert Wray, respected former prosecutor. It is a phony scam by the Do Nothing Dems! @foxandfriends"
   ],
   "metadata": {
    "collapsed": false,
    "ExecuteTime": {
     "end_time": "2023-11-20T14:43:58.970398061Z",
     "start_time": "2023-11-20T14:43:58.944095706Z"
    }
   }
  },
  {
   "cell_type": "code",
   "execution_count": 31,
   "metadata": {
    "scrolled": false,
    "ExecuteTime": {
     "end_time": "2023-11-20T14:44:01.938712278Z",
     "start_time": "2023-11-20T14:44:01.886071375Z"
    }
   },
   "outputs": [
    {
     "name": "stdout",
     "output_type": "stream",
     "text": [
      "Just returned to the @WhiteHouse after a great evening @ Monroe, Louisiana with a massive turnout of Great American Patriots. With early voting underway until Sat, find your polling location below & go vote for your next #LAgov, @EddieRispone! #GeauxVote➡️https://vote.donaldjtrump.com\n",
      "The degenerate Washington Post MADE UP the story about me asking Bill Barr to hold a news conference. Never happened, and there were no sources!\n",
      "LOUISIANA! Early voting is underway until Saturday, it’s time to get out and VOTE to REPLACE Radical Liberal Democrat John Bel Edwards with a great new REPUBLICAN Governor, @EddieRispone! #GeauxVote\n",
      "“Based on the things I’ve seen, the Democrats have no case, or a weak case, at best. I don’t think there are, or will be, well founded articles of Impeachment here.” Robert Wray, respected former prosecutor. It is a phony scam by the Do Nothing Dems! @foxandfriends\n"
     ]
    }
   ],
   "source": [
    "### Read the whole file string into memory\n",
    "\n",
    "## Opens a file handle in read mode\n",
    "f = open('tweets_hashtags_callouts.txt', 'r')\n",
    "\n",
    "## Reads the contents of the file as one string\n",
    "callouts_text = f.read()\n",
    "f.close()\n",
    "\n",
    "print(callouts_text)"
   ]
  },
  {
   "cell_type": "markdown",
   "source": [
    "Wrong paths are a common source of errors when reading files from your local system. You can check the current working directory of the notebook with the `getcwd()` function. Other errors can arise because of read/write permissions on your system. Make sure that you have write permissions for the repository\n",
    "where you cloned the GitHub repository."
   ],
   "metadata": {
    "collapsed": false
   }
  },
  {
   "cell_type": "code",
   "execution_count": 32,
   "outputs": [
    {
     "name": "stdout",
     "output_type": "stream",
     "text": [
      "/home/amarov/proj/statistics/text-analytics-workshop-2022/01-Text-Data-Basics\n"
     ]
    }
   ],
   "source": [
    "import os\n",
    "print(os.getcwd())"
   ],
   "metadata": {
    "collapsed": false,
    "ExecuteTime": {
     "end_time": "2023-11-20T14:44:05.149861196Z",
     "start_time": "2023-11-20T14:44:05.136241006Z"
    }
   }
  },
  {
   "cell_type": "markdown",
   "source": [
    "Usually it is safer to use aliases and context managers when reading files, because they take care to close the file handles."
   ],
   "metadata": {
    "collapsed": false
   }
  },
  {
   "cell_type": "code",
   "execution_count": 35,
   "outputs": [
    {
     "name": "stdout",
     "output_type": "stream",
     "text": [
      "Just returned to the @WhiteHouse after a great evening @ Monroe, Louisiana with a massive turnout of Great American Patriots. With early voting underway until Sat, find your polling location below & go vote for your next #LAgov, @EddieRispone! #GeauxVote➡️https://vote.donaldjtrump.com\n",
      "The degenerate Washington Post MADE UP the story about me asking Bill Barr to hold a news conference. Never happened, and there were no sources!\n",
      "LOUISIANA! Early voting is underway until Saturday, it’s time to get out and VOTE to REPLACE Radical Liberal Democrat John Bel Edwards with a great new REPUBLICAN Governor, @EddieRispone! #GeauxVote\n",
      "“Based on the things I’ve seen, the Democrats have no case, or a weak case, at best. I don’t think there are, or will be, well founded articles of Impeachment here.” Robert Wray, respected former prosecutor. It is a phony scam by the Do Nothing Dems! @foxandfriends\n"
     ]
    }
   ],
   "source": [
    "with open('tweets_hashtags_callouts.txt', 'r') as f:\n",
    "    text = f.read()\n",
    "\n",
    "print(text)"
   ],
   "metadata": {
    "collapsed": false,
    "ExecuteTime": {
     "end_time": "2023-11-20T14:46:21.455292085Z",
     "start_time": "2023-11-20T14:46:21.411466199Z"
    }
   }
  },
  {
   "cell_type": "code",
   "execution_count": 34,
   "metadata": {
    "ExecuteTime": {
     "end_time": "2023-11-20T14:44:49.331596899Z",
     "start_time": "2023-11-20T14:44:49.286841091Z"
    }
   },
   "outputs": [
    {
     "name": "stdout",
     "output_type": "stream",
     "text": [
      "Read 5 tweets.\n"
     ]
    },
    {
     "data": {
      "text/plain": "['Just returned to the @WhiteHouse after a great evening @ Monroe, Louisiana with a massive turnout of Great American Patriots. With early voting underway until Sat, find your polling location below & go vote for your next #LAgov, @EddieRispone! #GeauxVote➡️https://vote.donaldjtrump.com',\n 'The degenerate Washington Post MADE UP the story about me asking Bill Barr to hold a news conference. Never happened, and there were no sources!',\n 'LOUISIANA! Early voting is underway until Saturday, it’s time to get out and VOTE to REPLACE Radical Liberal Democrat John Bel Edwards with a great new REPUBLICAN Governor, @EddieRispone! #GeauxVote',\n '“Based on the things I’ve seen, the Democrats have no case, or a weak case, at best. I don’t think there are, or will be, well founded articles of Impeachment here.” Robert Wray, respected former prosecutor. It is a phony scam by the Do Nothing Dems! @foxandfriends',\n '']"
     },
     "execution_count": 34,
     "metadata": {},
     "output_type": "execute_result"
    }
   ],
   "source": [
    "## It is common that each line in the file\n",
    "## corresponds to a single record (e.g. tweet)\n",
    "\n",
    "## Splits the strings on newline\n",
    "\n",
    "tweets = callouts_text.split(\"\\n\")\n",
    "tweets[:2]\n",
    "\n",
    "print(f\"Read {len(tweets)} tweets.\")\n",
    "tweets"
   ]
  },
  {
   "cell_type": "markdown",
   "metadata": {},
   "source": [
    "String length"
   ]
  },
  {
   "cell_type": "code",
   "execution_count": 18,
   "metadata": {
    "ExecuteTime": {
     "end_time": "2023-11-20T09:52:59.040459035Z",
     "start_time": "2023-11-20T09:52:58.607795257Z"
    }
   },
   "outputs": [
    {
     "name": "stdout",
     "output_type": "stream",
     "text": [
      "The first tweet has 285 characters.\n"
     ]
    }
   ],
   "source": [
    "tweet1 = tweets[0]\n",
    "print(f\"The first tweet has {len(tweet1)} characters.\")"
   ]
  },
  {
   "cell_type": "markdown",
   "metadata": {},
   "source": [
    "String slices"
   ]
  },
  {
   "cell_type": "code",
   "execution_count": 19,
   "metadata": {
    "ExecuteTime": {
     "end_time": "2023-11-20T09:52:59.041149674Z",
     "start_time": "2023-11-20T09:52:58.608579092Z"
    }
   },
   "outputs": [
    {
     "name": "stdout",
     "output_type": "stream",
     "text": [
      "The first four characters of the first tweet: 'Just'\n"
     ]
    }
   ],
   "source": [
    "print(f\"The first four characters of the first tweet: '{tweet1[:4]}'\")"
   ]
  },
  {
   "cell_type": "markdown",
   "metadata": {},
   "source": [
    "String operations: `istitle()`, `isalnum()`, `lower()`, etc."
   ]
  },
  {
   "cell_type": "code",
   "execution_count": 20,
   "metadata": {
    "ExecuteTime": {
     "end_time": "2023-11-20T09:52:59.041960649Z",
     "start_time": "2023-11-20T09:52:58.650330059Z"
    }
   },
   "outputs": [
    {
     "data": {
      "text/plain": "'Title String'"
     },
     "execution_count": 20,
     "metadata": {},
     "output_type": "execute_result"
    }
   ],
   "source": [
    "\"title string\".title()"
   ]
  },
  {
   "cell_type": "code",
   "execution_count": 21,
   "metadata": {
    "ExecuteTime": {
     "end_time": "2023-11-20T09:52:59.042507054Z",
     "start_time": "2023-11-20T09:52:58.650713932Z"
    }
   },
   "outputs": [
    {
     "data": {
      "text/plain": "True"
     },
     "execution_count": 21,
     "metadata": {},
     "output_type": "execute_result"
    }
   ],
   "source": [
    "\"Title String\".istitle()"
   ]
  },
  {
   "cell_type": "code",
   "execution_count": 22,
   "metadata": {
    "ExecuteTime": {
     "end_time": "2023-11-20T09:52:59.043676610Z",
     "start_time": "2023-11-20T09:52:58.650903615Z"
    }
   },
   "outputs": [
    {
     "data": {
      "text/plain": "'upcase'"
     },
     "execution_count": 22,
     "metadata": {},
     "output_type": "execute_result"
    }
   ],
   "source": [
    "\"Upcase\".lower()"
   ]
  },
  {
   "cell_type": "code",
   "execution_count": 23,
   "metadata": {
    "ExecuteTime": {
     "end_time": "2023-11-20T09:52:59.044380041Z",
     "start_time": "2023-11-20T09:52:58.693935810Z"
    }
   },
   "outputs": [
    {
     "data": {
      "text/plain": "True"
     },
     "execution_count": 23,
     "metadata": {},
     "output_type": "execute_result"
    }
   ],
   "source": [
    "\"upcase\".islower()"
   ]
  },
  {
   "cell_type": "code",
   "execution_count": 24,
   "metadata": {
    "ExecuteTime": {
     "end_time": "2023-11-20T09:52:59.045369692Z",
     "start_time": "2023-11-20T09:52:58.694084134Z"
    }
   },
   "outputs": [
    {
     "data": {
      "text/plain": "'LOWCASE'"
     },
     "execution_count": 24,
     "metadata": {},
     "output_type": "execute_result"
    }
   ],
   "source": [
    "\"lowcase\".upper()"
   ]
  },
  {
   "cell_type": "code",
   "execution_count": 25,
   "metadata": {
    "ExecuteTime": {
     "end_time": "2023-11-20T09:52:59.046045407Z",
     "start_time": "2023-11-20T09:52:58.695118324Z"
    }
   },
   "outputs": [
    {
     "data": {
      "text/plain": "True"
     },
     "execution_count": 25,
     "metadata": {},
     "output_type": "execute_result"
    }
   ],
   "source": [
    "\"LOWCASE\".isupper()"
   ]
  },
  {
   "cell_type": "markdown",
   "metadata": {},
   "source": [
    "Commonly it is useful to replace leading and trainling whitespace. The methods\n",
    "`strip()`, `rstrip()` and `lstrip()` are helpful."
   ]
  },
  {
   "cell_type": "code",
   "execution_count": 26,
   "metadata": {
    "ExecuteTime": {
     "end_time": "2023-11-20T09:52:59.046523785Z",
     "start_time": "2023-11-20T09:52:58.712784526Z"
    }
   },
   "outputs": [
    {
     "data": {
      "text/plain": "'with leading white space'"
     },
     "execution_count": 26,
     "metadata": {},
     "output_type": "execute_result"
    }
   ],
   "source": [
    "\"    with leading white space\".lstrip()"
   ]
  },
  {
   "cell_type": "code",
   "execution_count": 27,
   "metadata": {
    "ExecuteTime": {
     "end_time": "2023-11-20T09:52:59.046921618Z",
     "start_time": "2023-11-20T09:52:58.738977755Z"
    }
   },
   "outputs": [
    {
     "data": {
      "text/plain": "'with trainling whitespace'"
     },
     "execution_count": 27,
     "metadata": {},
     "output_type": "execute_result"
    }
   ],
   "source": [
    "\"with trailing whitespace        \".rstrip()"
   ]
  },
  {
   "cell_type": "code",
   "execution_count": 28,
   "metadata": {
    "ExecuteTime": {
     "end_time": "2023-11-20T09:52:59.047345900Z",
     "start_time": "2023-11-20T09:52:58.782255963Z"
    }
   },
   "outputs": [
    {
     "data": {
      "text/plain": "'with both leading and trailing whitespace'"
     },
     "execution_count": 28,
     "metadata": {},
     "output_type": "execute_result"
    }
   ],
   "source": [
    "\"   with both leading and trailing whitespace       \".strip()"
   ]
  },
  {
   "cell_type": "markdown",
   "metadata": {},
   "source": [
    "Another common operation is splitting a string on some character, e.g. whitespace"
   ]
  },
  {
   "cell_type": "code",
   "execution_count": 29,
   "metadata": {
    "ExecuteTime": {
     "end_time": "2023-11-20T09:52:59.047719819Z",
     "start_time": "2023-11-20T09:52:58.826027600Z"
    }
   },
   "outputs": [
    {
     "name": "stdout",
     "output_type": "stream",
     "text": [
      "['The', 'airplane', 'took', 'off.']\n"
     ]
    }
   ],
   "source": [
    "str_split = \"The airplane took off.\".split(\" \")\n",
    "print(str_split)"
   ]
  },
  {
   "cell_type": "markdown",
   "metadata": {},
   "source": [
    "Different from other languages, joining\n",
    "a list of strings is a method of string (the separator)."
   ]
  },
  {
   "cell_type": "code",
   "execution_count": 30,
   "metadata": {
    "ExecuteTime": {
     "end_time": "2023-11-20T09:52:59.048078687Z",
     "start_time": "2023-11-20T09:52:58.826358273Z"
    }
   },
   "outputs": [
    {
     "data": {
      "text/plain": "'The,airplane,took,off.'"
     },
     "execution_count": 30,
     "metadata": {},
     "output_type": "execute_result"
    }
   ],
   "source": [
    "\",\".join(str_split)"
   ]
  },
  {
   "cell_type": "markdown",
   "metadata": {},
   "source": [
    "Replacing substrings\n",
    "\n",
    "Note that as strings are immutable, the `.replace()` method returns a new string.\n"
   ]
  },
  {
   "cell_type": "code",
   "execution_count": 31,
   "outputs": [
    {
     "data": {
      "text/plain": "'some - to replace a -'"
     },
     "execution_count": 31,
     "metadata": {},
     "output_type": "execute_result"
    }
   ],
   "source": [
    "\"some string to replace a string\".replace(\"string\", \"-\")"
   ],
   "metadata": {
    "collapsed": false
   }
  },
  {
   "cell_type": "markdown",
   "metadata": {},
   "source": [
    "Use search to find substrings starting with @ and return it as a dictionary."
   ]
  },
  {
   "cell_type": "markdown",
   "metadata": {},
   "source": [
    "\n"
   ]
  },
  {
   "cell_type": "code",
   "execution_count": 44,
   "metadata": {
    "ExecuteTime": {
     "end_time": "2023-11-20T09:55:16.560951777Z",
     "start_time": "2023-11-20T09:55:16.548062430Z"
    }
   },
   "outputs": [
    {
     "data": {
      "text/plain": "                                             content\n0  Just returned to the @WhiteHouse after a great...\n1  The degenerate Washington Post MADE UP the sto...\n2  LOUISIANA! Early voting is underway until Satu...\n3  “Based on the things I’ve seen, the Democrats ...\n4                                                   ",
      "text/html": "<div>\n<style scoped>\n    .dataframe tbody tr th:only-of-type {\n        vertical-align: middle;\n    }\n\n    .dataframe tbody tr th {\n        vertical-align: top;\n    }\n\n    .dataframe thead th {\n        text-align: right;\n    }\n</style>\n<table border=\"1\" class=\"dataframe\">\n  <thead>\n    <tr style=\"text-align: right;\">\n      <th></th>\n      <th>content</th>\n    </tr>\n  </thead>\n  <tbody>\n    <tr>\n      <th>0</th>\n      <td>Just returned to the @WhiteHouse after a great...</td>\n    </tr>\n    <tr>\n      <th>1</th>\n      <td>The degenerate Washington Post MADE UP the sto...</td>\n    </tr>\n    <tr>\n      <th>2</th>\n      <td>LOUISIANA! Early voting is underway until Satu...</td>\n    </tr>\n    <tr>\n      <th>3</th>\n      <td>“Based on the things I’ve seen, the Democrats ...</td>\n    </tr>\n    <tr>\n      <th>4</th>\n      <td></td>\n    </tr>\n  </tbody>\n</table>\n</div>"
     },
     "execution_count": 44,
     "metadata": {},
     "output_type": "execute_result"
    }
   ],
   "source": []
  },
  {
   "cell_type": "markdown",
   "metadata": {},
   "source": [
    "Convert the `content` column to lowercase.\n"
   ]
  },
  {
   "cell_type": "code",
   "execution_count": 45,
   "metadata": {
    "ExecuteTime": {
     "end_time": "2023-11-20T09:55:19.099478378Z",
     "start_time": "2023-11-20T09:55:19.072146175Z"
    }
   },
   "outputs": [
    {
     "data": {
      "text/plain": "                                             content\n0  just returned to the @whitehouse after a great...\n1  the degenerate washington post made up the sto...\n2  louisiana! early voting is underway until satu...\n3  “based on the things i’ve seen, the democrats ...\n4                                                   ",
      "text/html": "<div>\n<style scoped>\n    .dataframe tbody tr th:only-of-type {\n        vertical-align: middle;\n    }\n\n    .dataframe tbody tr th {\n        vertical-align: top;\n    }\n\n    .dataframe thead th {\n        text-align: right;\n    }\n</style>\n<table border=\"1\" class=\"dataframe\">\n  <thead>\n    <tr style=\"text-align: right;\">\n      <th></th>\n      <th>content</th>\n    </tr>\n  </thead>\n  <tbody>\n    <tr>\n      <th>0</th>\n      <td>just returned to the @whitehouse after a great...</td>\n    </tr>\n    <tr>\n      <th>1</th>\n      <td>the degenerate washington post made up the sto...</td>\n    </tr>\n    <tr>\n      <th>2</th>\n      <td>louisiana! early voting is underway until satu...</td>\n    </tr>\n    <tr>\n      <th>3</th>\n      <td>“based on the things i’ve seen, the democrats ...</td>\n    </tr>\n    <tr>\n      <th>4</th>\n      <td></td>\n    </tr>\n  </tbody>\n</table>\n</div>"
     },
     "execution_count": 45,
     "metadata": {},
     "output_type": "execute_result"
    }
   ],
   "source": []
  },
  {
   "cell_type": "markdown",
   "metadata": {},
   "source": [
    "Count the number of mentions in each tweet."
   ]
  },
  {
   "cell_type": "code",
   "execution_count": 46,
   "metadata": {
    "ExecuteTime": {
     "end_time": "2023-11-20T09:55:21.774148104Z",
     "start_time": "2023-11-20T09:55:21.701459321Z"
    }
   },
   "outputs": [
    {
     "data": {
      "text/plain": "                                             content  mentions_cnt\n0  just returned to the @whitehouse after a great...             2\n1  the degenerate washington post made up the sto...             0\n2  louisiana! early voting is underway until satu...             1\n3  “based on the things i’ve seen, the democrats ...             1\n4                                                                0",
      "text/html": "<div>\n<style scoped>\n    .dataframe tbody tr th:only-of-type {\n        vertical-align: middle;\n    }\n\n    .dataframe tbody tr th {\n        vertical-align: top;\n    }\n\n    .dataframe thead th {\n        text-align: right;\n    }\n</style>\n<table border=\"1\" class=\"dataframe\">\n  <thead>\n    <tr style=\"text-align: right;\">\n      <th></th>\n      <th>content</th>\n      <th>mentions_cnt</th>\n    </tr>\n  </thead>\n  <tbody>\n    <tr>\n      <th>0</th>\n      <td>just returned to the @whitehouse after a great...</td>\n      <td>2</td>\n    </tr>\n    <tr>\n      <th>1</th>\n      <td>the degenerate washington post made up the sto...</td>\n      <td>0</td>\n    </tr>\n    <tr>\n      <th>2</th>\n      <td>louisiana! early voting is underway until satu...</td>\n      <td>1</td>\n    </tr>\n    <tr>\n      <th>3</th>\n      <td>“based on the things i’ve seen, the democrats ...</td>\n      <td>1</td>\n    </tr>\n    <tr>\n      <th>4</th>\n      <td></td>\n      <td>0</td>\n    </tr>\n  </tbody>\n</table>\n</div>"
     },
     "execution_count": 46,
     "metadata": {},
     "output_type": "execute_result"
    }
   ],
   "source": [
    "co_df[\"mentions_cnt\"] = co_df[\"content\"].str.count(r\"@\\w+\")\n",
    "co_df"
   ]
  },
  {
   "cell_type": "markdown",
   "metadata": {},
   "source": [
    "Count the number of uppercase words in each tweet. Use the [] to define a character class and the `\\b` character to match\n",
    "word boundaries."
   ]
  },
  {
   "cell_type": "code",
   "execution_count": 47,
   "metadata": {
    "ExecuteTime": {
     "end_time": "2023-11-20T09:55:24.730416231Z",
     "start_time": "2023-11-20T09:55:24.696868710Z"
    }
   },
   "outputs": [
    {
     "data": {
      "text/plain": "                                             content  mentions_cnt  cries_cnt\n0  just returned to the @whitehouse after a great...             2          0\n1  the degenerate washington post made up the sto...             0          0\n2  louisiana! early voting is underway until satu...             1          0\n3  “based on the things i’ve seen, the democrats ...             1          0\n4                                                                0          0",
      "text/html": "<div>\n<style scoped>\n    .dataframe tbody tr th:only-of-type {\n        vertical-align: middle;\n    }\n\n    .dataframe tbody tr th {\n        vertical-align: top;\n    }\n\n    .dataframe thead th {\n        text-align: right;\n    }\n</style>\n<table border=\"1\" class=\"dataframe\">\n  <thead>\n    <tr style=\"text-align: right;\">\n      <th></th>\n      <th>content</th>\n      <th>mentions_cnt</th>\n      <th>cries_cnt</th>\n    </tr>\n  </thead>\n  <tbody>\n    <tr>\n      <th>0</th>\n      <td>just returned to the @whitehouse after a great...</td>\n      <td>2</td>\n      <td>0</td>\n    </tr>\n    <tr>\n      <th>1</th>\n      <td>the degenerate washington post made up the sto...</td>\n      <td>0</td>\n      <td>0</td>\n    </tr>\n    <tr>\n      <th>2</th>\n      <td>louisiana! early voting is underway until satu...</td>\n      <td>1</td>\n      <td>0</td>\n    </tr>\n    <tr>\n      <th>3</th>\n      <td>“based on the things i’ve seen, the democrats ...</td>\n      <td>1</td>\n      <td>0</td>\n    </tr>\n    <tr>\n      <th>4</th>\n      <td></td>\n      <td>0</td>\n      <td>0</td>\n    </tr>\n  </tbody>\n</table>\n</div>"
     },
     "execution_count": 47,
     "metadata": {},
     "output_type": "execute_result"
    }
   ],
   "source": []
  },
  {
   "cell_type": "markdown",
   "metadata": {},
   "source": [
    "Count the length of the tweet in terms of characters."
   ]
  },
  {
   "cell_type": "code",
   "execution_count": 48,
   "metadata": {
    "ExecuteTime": {
     "end_time": "2023-11-20T09:55:27.469329282Z",
     "start_time": "2023-11-20T09:55:27.450357151Z"
    }
   },
   "outputs": [
    {
     "data": {
      "text/plain": "                                             content  mentions_cnt  cries_cnt  \\\n0  just returned to the @whitehouse after a great...             2          0   \n1  the degenerate washington post made up the sto...             0          0   \n2  louisiana! early voting is underway until satu...             1          0   \n3  “based on the things i’ve seen, the democrats ...             1          0   \n4                                                                0          0   \n\n   len  \n0  285  \n1  144  \n2  198  \n3  265  \n4    0  ",
      "text/html": "<div>\n<style scoped>\n    .dataframe tbody tr th:only-of-type {\n        vertical-align: middle;\n    }\n\n    .dataframe tbody tr th {\n        vertical-align: top;\n    }\n\n    .dataframe thead th {\n        text-align: right;\n    }\n</style>\n<table border=\"1\" class=\"dataframe\">\n  <thead>\n    <tr style=\"text-align: right;\">\n      <th></th>\n      <th>content</th>\n      <th>mentions_cnt</th>\n      <th>cries_cnt</th>\n      <th>len</th>\n    </tr>\n  </thead>\n  <tbody>\n    <tr>\n      <th>0</th>\n      <td>just returned to the @whitehouse after a great...</td>\n      <td>2</td>\n      <td>0</td>\n      <td>285</td>\n    </tr>\n    <tr>\n      <th>1</th>\n      <td>the degenerate washington post made up the sto...</td>\n      <td>0</td>\n      <td>0</td>\n      <td>144</td>\n    </tr>\n    <tr>\n      <th>2</th>\n      <td>louisiana! early voting is underway until satu...</td>\n      <td>1</td>\n      <td>0</td>\n      <td>198</td>\n    </tr>\n    <tr>\n      <th>3</th>\n      <td>“based on the things i’ve seen, the democrats ...</td>\n      <td>1</td>\n      <td>0</td>\n      <td>265</td>\n    </tr>\n    <tr>\n      <th>4</th>\n      <td></td>\n      <td>0</td>\n      <td>0</td>\n      <td>0</td>\n    </tr>\n  </tbody>\n</table>\n</div>"
     },
     "execution_count": 48,
     "metadata": {},
     "output_type": "execute_result"
    }
   ],
   "source": [
    "## Count the length of the tweet in characters\n",
    "co_df[\"len\"] = co_df[\"content\"].str.len()\n",
    "co_df"
   ]
  },
  {
   "cell_type": "code",
   "execution_count": 49,
   "metadata": {
    "ExecuteTime": {
     "end_time": "2023-11-20T09:55:30.963648973Z",
     "start_time": "2023-11-20T09:55:30.880268035Z"
    }
   },
   "outputs": [
    {
     "data": {
      "text/plain": "                                             content  mentions_cnt  cries_cnt  \\\n0  just returned to the @whitehouse after a great...             2          0   \n1  the degenerate washington post made up the sto...             0          0   \n2  louisiana! early voting is underway until satu...             1          0   \n3  “based on the things i’ve seen, the democrats ...             1          0   \n4                                                                0          0   \n\n   len  words_cnt  \n0  285         40  \n1  144         25  \n2  198         30  \n3  265         47  \n4    0          1  ",
      "text/html": "<div>\n<style scoped>\n    .dataframe tbody tr th:only-of-type {\n        vertical-align: middle;\n    }\n\n    .dataframe tbody tr th {\n        vertical-align: top;\n    }\n\n    .dataframe thead th {\n        text-align: right;\n    }\n</style>\n<table border=\"1\" class=\"dataframe\">\n  <thead>\n    <tr style=\"text-align: right;\">\n      <th></th>\n      <th>content</th>\n      <th>mentions_cnt</th>\n      <th>cries_cnt</th>\n      <th>len</th>\n      <th>words_cnt</th>\n    </tr>\n  </thead>\n  <tbody>\n    <tr>\n      <th>0</th>\n      <td>just returned to the @whitehouse after a great...</td>\n      <td>2</td>\n      <td>0</td>\n      <td>285</td>\n      <td>40</td>\n    </tr>\n    <tr>\n      <th>1</th>\n      <td>the degenerate washington post made up the sto...</td>\n      <td>0</td>\n      <td>0</td>\n      <td>144</td>\n      <td>25</td>\n    </tr>\n    <tr>\n      <th>2</th>\n      <td>louisiana! early voting is underway until satu...</td>\n      <td>1</td>\n      <td>0</td>\n      <td>198</td>\n      <td>30</td>\n    </tr>\n    <tr>\n      <th>3</th>\n      <td>“based on the things i’ve seen, the democrats ...</td>\n      <td>1</td>\n      <td>0</td>\n      <td>265</td>\n      <td>47</td>\n    </tr>\n    <tr>\n      <th>4</th>\n      <td></td>\n      <td>0</td>\n      <td>0</td>\n      <td>0</td>\n      <td>1</td>\n    </tr>\n  </tbody>\n</table>\n</div>"
     },
     "execution_count": 49,
     "metadata": {},
     "output_type": "execute_result"
    }
   ],
   "source": [
    "## Count the length of the tweet in terms of words (splitting on whitespace)\n",
    "from collections import Counter\n",
    "import numpy as np\n",
    "\n",
    "words_count = set()\n",
    "\n",
    "words_split = co_df[\"content\"].str.split(\"\\s+\", expand=True)\\\n",
    "    .stack() \\\n",
    "    .reset_index()\n",
    "\n",
    "counts = words_split.groupby(\"level_0\").apply(len).reset_index()\n",
    "co_df[\"words_cnt\"] = counts[0]\n",
    "co_df\n",
    "\n",
    "# co_df[\"words_cnt\"] = counts\n",
    "# words_count\n",
    "# words_split.apply()\n",
    "# co_df[\"words_cnt\"] = 1"
   ]
  }
 ],
 "metadata": {
  "kernelspec": {
   "display_name": "Python 3 (ipykernel)",
   "language": "python",
   "name": "python3"
  },
  "language_info": {
   "codemirror_mode": {
    "name": "ipython",
    "version": 3
   },
   "file_extension": ".py",
   "mimetype": "text/x-python",
   "name": "python",
   "nbconvert_exporter": "python",
   "pygments_lexer": "ipython3",
   "version": "3.8.13"
  }
 },
 "nbformat": 4,
 "nbformat_minor": 1
}
