{
 "cells": [
  {
   "cell_type": "code",
   "execution_count": 3,
   "metadata": {
    "ExecuteTime": {
     "end_time": "2023-11-20T16:31:55.467966296Z",
     "start_time": "2023-11-20T16:31:55.461923999Z"
    }
   },
   "outputs": [],
   "source": [
    "from collections import Counter\n",
    "from urllib import request"
   ]
  },
  {
   "cell_type": "markdown",
   "metadata": {
    "collapsed": true
   },
   "source": [
    "## Introduction\n",
    "\n",
    "Sources of textual data:\n",
    "\n",
    "- Wikipedia\n",
    "- Twitter\n",
    "- Facebook\n",
    "- News websites\n",
    "- Emails\n",
    "- .... and many more\n",
    "\n",
    "Why text analytics?\n",
    "\n",
    "- Machine translation\n",
    "- Contextual disambiguation\n",
    "- Information Extraction\n",
    "- Classification: hate speech, spam, etc.\n",
    "- Document retrieval\n",
    "- Sentiment analysis\n",
    "- Topic modelling\n",
    "\n",
    "- Classical data analysis: structured data, e.g. age, location, income\n",
    "\n",
    "## Example 1 (lexicon approach)\n",
    "\n",
    "We begin with a small example that to showcase one of the problems associated with unstructured textual data.\n",
    "In the following we read file `ballet.txt` from GitHub storage and decode it. The file contains  The goal in this example is to classify\n",
    "each sentence into four categories depending on the gender mentioned in each sentence: \"male\", \"female\", \"mixed\" or \"unknown\"."
   ]
  },
  {
   "cell_type": "code",
   "execution_count": 4,
   "metadata": {
    "ExecuteTime": {
     "end_time": "2023-11-20T16:31:59.000320510Z",
     "start_time": "2023-11-20T16:31:58.696866463Z"
    }
   },
   "outputs": [
    {
     "name": "stdout",
     "output_type": "stream",
     "text": [
      "With apologies to James Brown, the hardest working people in show business may well be ballet dancers. And at New York City Ballet, none work harder than the dancers in its lowest rank, the corps de ballet. During the first week of the company’s winter season, Claire Kretzschmar, 24, a rising corps \n"
     ]
    }
   ],
   "source": [
    "url_handle = request.urlopen(\"https://raw.githubusercontent.com/boyko/text-analytics-script/main/data/ballet.txt\")\n",
    "articles = url_handle.read().decode(\"utf-8\")\n",
    "print(articles[:300])"
   ]
  },
  {
   "cell_type": "markdown",
   "metadata": {},
   "source": [
    "First we divide the articles into individual sentences by splitting the string by \".\"."
   ]
  },
  {
   "cell_type": "code",
   "execution_count": 5,
   "metadata": {
    "ExecuteTime": {
     "end_time": "2023-11-20T16:32:01.628776679Z",
     "start_time": "2023-11-20T16:32:01.625020673Z"
    }
   },
   "outputs": [
    {
     "name": "stdout",
     "output_type": "stream",
     "text": [
      "The articles consist of 167 sentences.\n"
     ]
    }
   ],
   "source": [
    "articles_sent = articles.split(\".\")\n",
    "\n",
    "print(f\"The articles consist of {len(articles_sent)} sentences.\")"
   ]
  },
  {
   "cell_type": "code",
   "execution_count": 6,
   "metadata": {
    "ExecuteTime": {
     "end_time": "2023-11-20T16:32:07.999394540Z",
     "start_time": "2023-11-20T16:32:07.934915238Z"
    }
   },
   "outputs": [],
   "source": [
    "MALE_WORDS = set([\n",
    "    'guy', 'spokesman', 'chairman', \"men's\", 'men', 'him', \"he's\", 'his',\n",
    "    'boy', 'boyfriend', 'boyfriends', 'boys', 'brother', 'brothers', 'dad',\n",
    "    'dads', 'dude', 'father', 'fathers', 'fiance', 'gentleman', 'gentlemen',\n",
    "    'god', 'grandfather', 'grandpa', 'grandson', 'groom', 'he', 'himself',\n",
    "    'husband', 'husbands', 'king', 'male', 'man', 'mr', 'nephew', 'nephews',\n",
    "    'priest', 'prince', 'son', 'sons', 'uncle', 'uncles', 'waiter', 'widower',\n",
    "    'widowers'\n",
    "])\n",
    "\n",
    "FEMALE_WORDS = set([\n",
    "    'heroine', 'spokeswoman', 'chairwoman', \"women's\", 'actress', 'women',\n",
    "    \"she's\", 'her', 'aunt', 'aunts', 'bride', 'daughter', 'daughters', 'female',\n",
    "    'fiancee', 'girl', 'girlfriend', 'girlfriends', 'girls', 'goddess',\n",
    "    'granddaughter', 'grandma', 'grandmother', 'herself', 'ladies', 'lady',\n",
    "    'mom', 'moms', 'mother', 'mothers', 'mrs', 'ms', 'niece', 'nieces',\n",
    "    'priestess', 'princess', 'queens', 'she', 'sister', 'sisters', 'waitress',\n",
    "    'widow', 'widows', 'wife', 'wives', 'woman'\n",
    "])"
   ]
  },
  {
   "cell_type": "markdown",
   "metadata": {},
   "source": [
    "We define a simple function to classify each sentence, then apply it on each sentence in the `articles_sent` list."
   ]
  },
  {
   "cell_type": "code",
   "execution_count": 7,
   "metadata": {
    "ExecuteTime": {
     "end_time": "2023-11-20T16:32:12.905012537Z",
     "start_time": "2023-11-20T16:32:12.891508668Z"
    }
   },
   "outputs": [],
   "source": [
    "def classify_sentence_gender(sentence):\n",
    "    words = sentence.split(' ')\n",
    "    female_words = len(FEMALE_WORDS.intersection(words))\n",
    "    male_words =  len(MALE_WORDS.intersection(words))\n",
    "\n",
    "    if male_words > 0 and female_words == 0:\n",
    "        return 'male'\n",
    "    if male_words == 0 and female_words > 0:\n",
    "        return 'female'\n",
    "    if male_words == 0 and female_words == 0:\n",
    "        return 'unknown'\n",
    "\n",
    "    return 'mixed'\n",
    "\n",
    "categories = list(map(classify_sentence_gender, articles_sent))"
   ]
  },
  {
   "cell_type": "code",
   "execution_count": 8,
   "metadata": {
    "ExecuteTime": {
     "end_time": "2023-11-20T16:32:17.177895047Z",
     "start_time": "2023-11-20T16:32:17.170894513Z"
    }
   },
   "outputs": [
    {
     "name": "stdout",
     "output_type": "stream",
     "text": [
      "['unknown', 'unknown', 'unknown', 'female', 'unknown', 'female', 'unknown', 'unknown', 'unknown', 'female', 'unknown', 'unknown', 'unknown', 'unknown', 'female', 'male', 'unknown', 'unknown', 'unknown', 'unknown', 'unknown', 'unknown', 'unknown', 'unknown', 'unknown', 'unknown', 'unknown', 'unknown', 'female', 'unknown', 'unknown', 'unknown', 'male', 'unknown', 'unknown', 'unknown', 'unknown', 'female', 'unknown', 'unknown', 'female', 'female', 'female', 'female', 'unknown', 'unknown', 'unknown', 'female', 'unknown', 'unknown', 'unknown', 'female', 'unknown', 'female', 'unknown', 'female', 'female', 'unknown', 'unknown', 'unknown', 'unknown', 'unknown', 'unknown', 'unknown', 'unknown', 'unknown', 'unknown', 'unknown', 'unknown', 'unknown', 'unknown', 'female', 'female', 'unknown', 'female', 'unknown', 'unknown', 'unknown', 'unknown', 'unknown', 'unknown', 'female', 'unknown', 'female', 'unknown', 'unknown', 'unknown', 'female', 'unknown', 'mixed', 'unknown', 'unknown', 'unknown', 'unknown', 'unknown', 'unknown', 'unknown', 'unknown', 'unknown', 'unknown', 'unknown', 'unknown', 'female', 'unknown', 'unknown', 'unknown', 'unknown', 'female', 'female', 'female', 'female', 'unknown', 'unknown', 'unknown', 'unknown', 'unknown', 'unknown', 'unknown', 'unknown', 'female', 'female', 'female', 'unknown', 'female', 'male', 'male', 'female', 'unknown', 'unknown', 'unknown', 'unknown', 'unknown', 'unknown', 'unknown', 'female', 'unknown', 'unknown', 'unknown', 'unknown', 'unknown', 'female', 'unknown', 'unknown', 'unknown', 'unknown', 'unknown', 'female', 'unknown', 'female', 'unknown', 'unknown', 'female', 'unknown', 'female', 'female', 'unknown', 'unknown', 'unknown', 'unknown', 'unknown', 'unknown', 'female', 'female', 'female', 'female', 'unknown', 'unknown']\n"
     ]
    }
   ],
   "source": [
    "print(categories)"
   ]
  },
  {
   "cell_type": "code",
   "execution_count": 9,
   "metadata": {
    "ExecuteTime": {
     "end_time": "2023-11-20T16:32:22.139895237Z",
     "start_time": "2023-11-20T16:32:22.095307764Z"
    }
   },
   "outputs": [
    {
     "name": "stdout",
     "output_type": "stream",
     "text": [
      "Counter({'unknown': 120, 'female': 42, 'male': 4, 'mixed': 1})\n"
     ]
    }
   ],
   "source": [
    "counter = Counter(categories)\n",
    "print(counter)"
   ]
  },
  {
   "cell_type": "markdown",
   "source": [
    "# Artificial classification example\n",
    "\n",
    "In this example we look at two small sets of texts grouped into two classes: `positive_texts` and `negative_texts`."
   ],
   "metadata": {
    "collapsed": false
   }
  },
  {
   "cell_type": "code",
   "execution_count": 5,
   "outputs": [],
   "source": [
    "import nltk\n",
    "import pandas as pd\n",
    "\n",
    "positive_texts = [\n",
    "    \"we love you\",\n",
    "    \"they love us\",\n",
    "    \"you are good\",\n",
    "    \"he is good\",\n",
    "    \"they love mary\"\n",
    "]\n",
    "\n",
    "neg_texts = [\n",
    "    \"we hate you\",\n",
    "    \"they hate us\",\n",
    "    \"you are bad\",\n",
    "    \"he is bad\",\n",
    "    \"we hate mary\"\n",
    "]\n",
    "\n",
    "test_texts = [\n",
    "    \"they love mary\",\n",
    "    \"they are good\",\n",
    "    \"why do you hate mary\",\n",
    "    \"they are almost always good\",\n",
    "    \"we are very bad\"\n",
    "]"
   ],
   "metadata": {
    "collapsed": false,
    "ExecuteTime": {
     "end_time": "2023-11-20T13:49:42.003356241Z",
     "start_time": "2023-11-20T13:49:40.990534752Z"
    }
   }
  },
  {
   "cell_type": "markdown",
   "source": [
    "Combine `negative_texts` and `positive_texts` into a single list.\n"
   ],
   "metadata": {
    "collapsed": false
   }
  },
  {
   "cell_type": "code",
   "execution_count": 6,
   "outputs": [
    {
     "data": {
      "text/plain": "['we love you',\n 'they love us',\n 'you are good',\n 'he is good',\n 'they love mary',\n 'we hate you',\n 'they hate us',\n 'you are bad',\n 'he is bad',\n 'we hate mary']"
     },
     "execution_count": 6,
     "metadata": {},
     "output_type": "execute_result"
    }
   ],
   "source": [
    "all_texts = positive_texts + neg_texts\n",
    "all_texts"
   ],
   "metadata": {
    "collapsed": false,
    "ExecuteTime": {
     "end_time": "2023-11-20T13:49:44.984002565Z",
     "start_time": "2023-11-20T13:49:44.981369019Z"
    }
   }
  },
  {
   "cell_type": "markdown",
   "source": [
    "Create a list of all words occurring in the texts.\n"
   ],
   "metadata": {
    "collapsed": false
   }
  },
  {
   "cell_type": "code",
   "execution_count": 7,
   "outputs": [
    {
     "data": {
      "text/plain": "['we',\n 'love',\n 'you',\n 'they',\n 'love',\n 'us',\n 'you',\n 'are',\n 'good',\n 'he',\n 'is',\n 'good',\n 'they',\n 'love',\n 'mary',\n 'we',\n 'hate',\n 'you',\n 'they',\n 'hate',\n 'us',\n 'you',\n 'are',\n 'bad',\n 'he',\n 'is',\n 'bad',\n 'we',\n 'hate',\n 'mary']"
     },
     "execution_count": 7,
     "metadata": {},
     "output_type": "execute_result"
    }
   ],
   "source": [
    "def get_words(text):\n",
    "    # return list([word for word in text.split(' ')])\n",
    "    for word in text.split(' '):\n",
    "        yield word\n",
    "\n",
    "all_words = [word for text in all_texts for word in get_words(text)]\n",
    "all_words"
   ],
   "metadata": {
    "collapsed": false,
    "ExecuteTime": {
     "end_time": "2023-11-20T13:49:48.391943633Z",
     "start_time": "2023-11-20T13:49:48.385985220Z"
    }
   }
  },
  {
   "cell_type": "markdown",
   "source": [
    "The vocabulary is the list of all words (tokens) occurring in the documents."
   ],
   "metadata": {
    "collapsed": false
   }
  },
  {
   "cell_type": "code",
   "execution_count": 8,
   "outputs": [
    {
     "data": {
      "text/plain": "['are',\n 'bad',\n 'good',\n 'hate',\n 'he',\n 'is',\n 'love',\n 'mary',\n 'they',\n 'us',\n 'we',\n 'you']"
     },
     "execution_count": 8,
     "metadata": {},
     "output_type": "execute_result"
    }
   ],
   "source": [
    "unique_words = list(set(all_words))\n",
    "unique_words.sort()\n",
    "unique_words"
   ],
   "metadata": {
    "collapsed": false,
    "ExecuteTime": {
     "end_time": "2023-11-20T13:49:52.029430250Z",
     "start_time": "2023-11-20T13:49:52.023260809Z"
    }
   }
  },
  {
   "cell_type": "markdown",
   "source": [
    "Calculate the frequency distribution of words using nltk.FreqDist. Tabulate the result and plot\n",
    "the distribution of the 5 most common words."
   ],
   "metadata": {
    "collapsed": false
   }
  },
  {
   "cell_type": "code",
   "execution_count": 9,
   "outputs": [
    {
     "name": "stdout",
     "output_type": "stream",
     "text": [
      " you   we love they hate   us  are good   he   is mary  bad \n",
      "   4    3    3    3    3    2    2    2    2    2    2    2 \n"
     ]
    }
   ],
   "source": [
    "word_freqs = nltk.FreqDist(all_words)\n",
    "word_freqs.tabulate()"
   ],
   "metadata": {
    "collapsed": false,
    "ExecuteTime": {
     "end_time": "2023-11-20T13:49:58.472320157Z",
     "start_time": "2023-11-20T13:49:58.467687077Z"
    }
   }
  },
  {
   "cell_type": "markdown",
   "source": [
    "What are the 3 most common words?\n"
   ],
   "metadata": {
    "collapsed": false
   }
  },
  {
   "cell_type": "code",
   "execution_count": 10,
   "outputs": [
    {
     "data": {
      "text/plain": "[('you', 4), ('we', 3), ('love', 3)]"
     },
     "execution_count": 10,
     "metadata": {},
     "output_type": "execute_result"
    }
   ],
   "source": [
    "word_freqs.most_common(3)"
   ],
   "metadata": {
    "collapsed": false,
    "ExecuteTime": {
     "end_time": "2023-11-20T13:50:09.627543769Z",
     "start_time": "2023-11-20T13:50:09.622562723Z"
    }
   }
  },
  {
   "cell_type": "markdown",
   "source": [
    "In what percent of the text does the word \"mary\" occur?"
   ],
   "metadata": {
    "collapsed": false
   }
  },
  {
   "cell_type": "code",
   "execution_count": 11,
   "outputs": [
    {
     "data": {
      "text/plain": "0.06666666666666667"
     },
     "execution_count": 11,
     "metadata": {},
     "output_type": "execute_result"
    }
   ],
   "source": [
    "word_freqs.freq('mary')\n"
   ],
   "metadata": {
    "collapsed": false,
    "ExecuteTime": {
     "end_time": "2023-11-20T13:50:15.644615535Z",
     "start_time": "2023-11-20T13:50:15.641290401Z"
    }
   }
  },
  {
   "cell_type": "markdown",
   "source": [
    "Write a function that creates a vector of the same length as\n",
    "the number of unique words for each text. At each index the list\n",
    "should have value 1 if the vocabulary word is contained in the text\n",
    "and zero otherwise."
   ],
   "metadata": {
    "collapsed": false
   }
  },
  {
   "cell_type": "code",
   "execution_count": 13,
   "outputs": [
    {
     "data": {
      "text/plain": "   are  bad  good  hate  he  is  love  mary  they  us  we  you\n0    0    0     0     0   0   0     1     0     0   0   1    1\n1    0    0     0     0   0   0     1     0     1   1   0    0\n2    1    0     1     0   0   0     0     0     0   0   0    1\n3    0    0     1     0   1   1     0     0     0   0   0    0\n4    0    0     0     0   0   0     1     1     1   0   0    0\n5    0    0     0     1   0   0     0     0     0   0   1    1\n6    0    0     0     1   0   0     0     0     1   1   0    0\n7    1    1     0     0   0   0     0     0     0   0   0    1\n8    0    1     0     0   1   1     0     0     0   0   0    0\n9    0    0     0     1   0   0     0     1     0   0   1    0",
      "text/html": "<div>\n<style scoped>\n    .dataframe tbody tr th:only-of-type {\n        vertical-align: middle;\n    }\n\n    .dataframe tbody tr th {\n        vertical-align: top;\n    }\n\n    .dataframe thead th {\n        text-align: right;\n    }\n</style>\n<table border=\"1\" class=\"dataframe\">\n  <thead>\n    <tr style=\"text-align: right;\">\n      <th></th>\n      <th>are</th>\n      <th>bad</th>\n      <th>good</th>\n      <th>hate</th>\n      <th>he</th>\n      <th>is</th>\n      <th>love</th>\n      <th>mary</th>\n      <th>they</th>\n      <th>us</th>\n      <th>we</th>\n      <th>you</th>\n    </tr>\n  </thead>\n  <tbody>\n    <tr>\n      <th>0</th>\n      <td>0</td>\n      <td>0</td>\n      <td>0</td>\n      <td>0</td>\n      <td>0</td>\n      <td>0</td>\n      <td>1</td>\n      <td>0</td>\n      <td>0</td>\n      <td>0</td>\n      <td>1</td>\n      <td>1</td>\n    </tr>\n    <tr>\n      <th>1</th>\n      <td>0</td>\n      <td>0</td>\n      <td>0</td>\n      <td>0</td>\n      <td>0</td>\n      <td>0</td>\n      <td>1</td>\n      <td>0</td>\n      <td>1</td>\n      <td>1</td>\n      <td>0</td>\n      <td>0</td>\n    </tr>\n    <tr>\n      <th>2</th>\n      <td>1</td>\n      <td>0</td>\n      <td>1</td>\n      <td>0</td>\n      <td>0</td>\n      <td>0</td>\n      <td>0</td>\n      <td>0</td>\n      <td>0</td>\n      <td>0</td>\n      <td>0</td>\n      <td>1</td>\n    </tr>\n    <tr>\n      <th>3</th>\n      <td>0</td>\n      <td>0</td>\n      <td>1</td>\n      <td>0</td>\n      <td>1</td>\n      <td>1</td>\n      <td>0</td>\n      <td>0</td>\n      <td>0</td>\n      <td>0</td>\n      <td>0</td>\n      <td>0</td>\n    </tr>\n    <tr>\n      <th>4</th>\n      <td>0</td>\n      <td>0</td>\n      <td>0</td>\n      <td>0</td>\n      <td>0</td>\n      <td>0</td>\n      <td>1</td>\n      <td>1</td>\n      <td>1</td>\n      <td>0</td>\n      <td>0</td>\n      <td>0</td>\n    </tr>\n    <tr>\n      <th>5</th>\n      <td>0</td>\n      <td>0</td>\n      <td>0</td>\n      <td>1</td>\n      <td>0</td>\n      <td>0</td>\n      <td>0</td>\n      <td>0</td>\n      <td>0</td>\n      <td>0</td>\n      <td>1</td>\n      <td>1</td>\n    </tr>\n    <tr>\n      <th>6</th>\n      <td>0</td>\n      <td>0</td>\n      <td>0</td>\n      <td>1</td>\n      <td>0</td>\n      <td>0</td>\n      <td>0</td>\n      <td>0</td>\n      <td>1</td>\n      <td>1</td>\n      <td>0</td>\n      <td>0</td>\n    </tr>\n    <tr>\n      <th>7</th>\n      <td>1</td>\n      <td>1</td>\n      <td>0</td>\n      <td>0</td>\n      <td>0</td>\n      <td>0</td>\n      <td>0</td>\n      <td>0</td>\n      <td>0</td>\n      <td>0</td>\n      <td>0</td>\n      <td>1</td>\n    </tr>\n    <tr>\n      <th>8</th>\n      <td>0</td>\n      <td>1</td>\n      <td>0</td>\n      <td>0</td>\n      <td>1</td>\n      <td>1</td>\n      <td>0</td>\n      <td>0</td>\n      <td>0</td>\n      <td>0</td>\n      <td>0</td>\n      <td>0</td>\n    </tr>\n    <tr>\n      <th>9</th>\n      <td>0</td>\n      <td>0</td>\n      <td>0</td>\n      <td>1</td>\n      <td>0</td>\n      <td>0</td>\n      <td>0</td>\n      <td>1</td>\n      <td>0</td>\n      <td>0</td>\n      <td>1</td>\n      <td>0</td>\n    </tr>\n  </tbody>\n</table>\n</div>"
     },
     "execution_count": 13,
     "metadata": {},
     "output_type": "execute_result"
    }
   ],
   "source": [
    "def vectorize_text(text):\n",
    "    text_vec = [0] * len(unique_words)\n",
    "    text_words = text.split(' ')\n",
    "\n",
    "    for i in range(len(unique_words)):\n",
    "        unique_word = unique_words[i]\n",
    "        if unique_word in text_words:\n",
    "            text_vec[i] = 1\n",
    "\n",
    "    return text_vec\n",
    "\n",
    "def vectorize_collection(col):\n",
    "    return map(vectorize_text, col)\n",
    "\n",
    "text_vectors = list(vectorize_collection(all_texts))\n",
    "text_vectors_df = pd.DataFrame(text_vectors, columns = unique_words)\n",
    "text_vectors_df"
   ],
   "metadata": {
    "collapsed": false,
    "ExecuteTime": {
     "end_time": "2023-11-20T13:50:44.684871288Z",
     "start_time": "2023-11-20T13:50:44.675030068Z"
    }
   }
  },
  {
   "cell_type": "markdown",
   "source": [
    "Create a new list `labels` that contains \"positive\" for positive texts and \"negative\" for negative texts."
   ],
   "metadata": {
    "collapsed": false
   }
  },
  {
   "cell_type": "code",
   "execution_count": 14,
   "outputs": [
    {
     "data": {
      "text/plain": "['positive',\n 'positive',\n 'positive',\n 'positive',\n 'positive',\n 'negative',\n 'negative',\n 'negative',\n 'negative',\n 'negative']"
     },
     "execution_count": 14,
     "metadata": {},
     "output_type": "execute_result"
    }
   ],
   "source": [
    "labels = [\"positive\"] * len(positive_texts) + [\"negative\"] * len(neg_texts)\n",
    "labels"
   ],
   "metadata": {
    "collapsed": false,
    "ExecuteTime": {
     "end_time": "2023-11-20T13:50:54.315762440Z",
     "start_time": "2023-11-20T13:50:54.268262925Z"
    }
   }
  },
  {
   "cell_type": "markdown",
   "source": [
    "Train a classification tree (use default settings) on the vectorized texts\n"
   ],
   "metadata": {
    "collapsed": false
   }
  },
  {
   "cell_type": "code",
   "execution_count": 15,
   "outputs": [
    {
     "name": "stdout",
     "output_type": "stream",
     "text": [
      "['negative' 'positive']\n"
     ]
    },
    {
     "data": {
      "text/plain": "[Text(0.6, 0.8333333333333334, 'love <= 0.5\\ngini = 0.5\\nsamples = 10\\nvalue = [5, 5]'),\n Text(0.4, 0.5, 'good <= 0.5\\ngini = 0.408\\nsamples = 7\\nvalue = [5, 2]'),\n Text(0.2, 0.16666666666666666, 'gini = 0.0\\nsamples = 5\\nvalue = [5, 0]'),\n Text(0.6, 0.16666666666666666, 'gini = 0.0\\nsamples = 2\\nvalue = [0, 2]'),\n Text(0.8, 0.5, 'gini = 0.0\\nsamples = 3\\nvalue = [0, 3]')]"
     },
     "execution_count": 15,
     "metadata": {},
     "output_type": "execute_result"
    },
    {
     "data": {
      "text/plain": "<Figure size 640x480 with 1 Axes>",
      "image/png": "[encoded data removed]"
     },
     "metadata": {},
     "output_type": "display_data"
    }
   ],
   "source": [
    "from sklearn.tree import DecisionTreeClassifier, plot_tree\n",
    "\n",
    "classifier = DecisionTreeClassifier(random_state=0, max_leaf_nodes=3)\n",
    "classifier.fit(text_vectors, labels)\n",
    "# print(unique_words)\n",
    "print(classifier.classes_)\n",
    "\n",
    "plot_tree(classifier, feature_names=text_vectors_df.columns)"
   ],
   "metadata": {
    "collapsed": false,
    "ExecuteTime": {
     "end_time": "2023-11-20T13:50:59.410517699Z",
     "start_time": "2023-11-20T13:50:58.851982393Z"
    }
   }
  },
  {
   "cell_type": "markdown",
   "source": [
    "Predict the class of the test texts."
   ],
   "metadata": {
    "collapsed": false
   }
  },
  {
   "cell_type": "code",
   "execution_count": 17,
   "outputs": [
    {
     "data": {
      "text/plain": "array(['positive', 'positive', 'negative', 'positive', 'negative'],\n      dtype='<U8')"
     },
     "execution_count": 17,
     "metadata": {},
     "output_type": "execute_result"
    }
   ],
   "source": [
    "test_texts = [\n",
    "    \"they love mary\",\n",
    "    \"they are good\",\n",
    "    \"why do you hate mary\",\n",
    "    \"they are almost always good\",\n",
    "    \"we are very bad\"\n",
    "]\n",
    "\n",
    "test_text_vectors = list(vectorize_collection(test_texts))\n",
    "\n",
    "predictions = classifier.predict(test_text_vectors)\n",
    "predictions"
   ],
   "metadata": {
    "collapsed": false,
    "ExecuteTime": {
     "end_time": "2023-11-20T13:51:34.558216099Z",
     "start_time": "2023-11-20T13:51:34.555437589Z"
    }
   }
  }
 ],
 "metadata": {
  "kernelspec": {
   "display_name": "Python 3 (ipykernel)",
   "language": "python",
   "name": "python3"
  },
  "language_info": {
   "codemirror_mode": {
    "name": "ipython",
    "version": 3
   },
   "file_extension": ".py",
   "mimetype": "text/x-python",
   "name": "python",
   "nbconvert_exporter": "python",
   "pygments_lexer": "ipython3",
   "version": "3.8.13"
  }
 },
 "nbformat": 4,
 "nbformat_minor": 1
}
