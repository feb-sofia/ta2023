{
 "cells": [
  {
   "cell_type": "markdown",
   "source": [
    "## Latent Semantic Analysis (LSA)\n",
    "\n",
    "The LSA is a dimension reduction technique that can be used to uncover common topics in a corpus of text documents.\n"
   ],
   "metadata": {
    "collapsed": false
   },
   "id": "5688c17c3adb363b"
  },
  {
   "cell_type": "code",
   "execution_count": 10,
   "outputs": [
    {
     "name": "stdout",
     "output_type": "stream",
     "text": [
      "[nltk_data] Downloading package reuters to /home/amarov/nltk_data...\n",
      "[nltk_data]   Package reuters is already up-to-date!\n"
     ]
    }
   ],
   "source": [
    "import pandas as pd\n",
    "import re\n",
    "import nltk\n",
    "nltk.download('reuters')\n",
    "\n",
    "from nltk.corpus import reuters\n",
    "from sklearn.feature_extraction.text import TfidfVectorizer\n",
    "import seaborn as sns"
   ],
   "metadata": {
    "collapsed": false,
    "ExecuteTime": {
     "end_time": "2023-12-04T15:45:04.401848213Z",
     "start_time": "2023-12-04T15:45:04.209365692Z"
    }
   },
   "id": "1ba3b1861ef76d5a"
  },
  {
   "cell_type": "code",
   "execution_count": 11,
   "outputs": [
    {
     "data": {
      "text/plain": "['acq',\n 'alum',\n 'barley',\n 'bop',\n 'carcass',\n 'castor-oil',\n 'cocoa',\n 'coconut',\n 'coconut-oil',\n 'coffee',\n 'copper',\n 'copra-cake',\n 'corn',\n 'cotton',\n 'cotton-oil',\n 'cpi',\n 'cpu',\n 'crude',\n 'dfl',\n 'dlr',\n 'dmk',\n 'earn',\n 'fuel',\n 'gas',\n 'gnp',\n 'gold',\n 'grain',\n 'groundnut',\n 'groundnut-oil',\n 'heat',\n 'hog',\n 'housing',\n 'income',\n 'instal-debt',\n 'interest',\n 'ipi',\n 'iron-steel',\n 'jet',\n 'jobs',\n 'l-cattle',\n 'lead',\n 'lei',\n 'lin-oil',\n 'livestock',\n 'lumber',\n 'meal-feed',\n 'money-fx',\n 'money-supply',\n 'naphtha',\n 'nat-gas',\n 'nickel',\n 'nkr',\n 'nzdlr',\n 'oat',\n 'oilseed',\n 'orange',\n 'palladium',\n 'palm-oil',\n 'palmkernel',\n 'pet-chem',\n 'platinum',\n 'potato',\n 'propane',\n 'rand',\n 'rape-oil',\n 'rapeseed',\n 'reserves',\n 'retail',\n 'rice',\n 'rubber',\n 'rye',\n 'ship',\n 'silver',\n 'sorghum',\n 'soy-meal',\n 'soy-oil',\n 'soybean',\n 'strategic-metal',\n 'sugar',\n 'sun-meal',\n 'sun-oil',\n 'sunseed',\n 'tea',\n 'tin',\n 'trade',\n 'veg-oil',\n 'wheat',\n 'wpi',\n 'yen',\n 'zinc']"
     },
     "execution_count": 11,
     "metadata": {},
     "output_type": "execute_result"
    }
   ],
   "source": [
    "reuters.categories()\n"
   ],
   "metadata": {
    "collapsed": false,
    "ExecuteTime": {
     "end_time": "2023-12-04T15:45:04.535334803Z",
     "start_time": "2023-12-04T15:45:04.410565548Z"
    }
   },
   "id": "1eb4cb2117ad4252"
  },
  {
   "cell_type": "code",
   "execution_count": 12,
   "outputs": [
    {
     "data": {
      "text/plain": "67"
     },
     "execution_count": 12,
     "metadata": {},
     "output_type": "execute_result"
    }
   ],
   "source": [
    "housing_fileids = reuters.fileids([\"housing\"])\n",
    "income_fileids = reuters.fileids([\"income\"])\n",
    "heating_fileids = reuters.fileids([\"heat\"])\n",
    "\n",
    "housing_text = reuters.raw(fileids=housing_fileids).split(\"\\n\\n\")\n",
    "income_text = reuters.raw(fileids=income_fileids).split(\"\\n\\n\")\n",
    "heating_text = reuters.raw(fileids=heating_fileids).split(\"\\n\\n\")\n",
    "\n",
    "texts = housing_text + income_text + heating_text\n",
    "topics = [\"housing\"] * len(housing_text) + [\"income\"] * len(income_text) + [\"heating\"] * len(heating_text)\n",
    "\n",
    "len(texts)"
   ],
   "metadata": {
    "collapsed": false,
    "ExecuteTime": {
     "end_time": "2023-12-04T15:45:04.573143842Z",
     "start_time": "2023-12-04T15:45:04.542633555Z"
    }
   },
   "id": "29553f93c2f9bc07"
  },
  {
   "cell_type": "code",
   "execution_count": 13,
   "outputs": [
    {
     "data": {
      "text/plain": "'INTEREST RATES HURT U.S. MAY HOUSING SALES\\n  Sales of new single-family homes\\n  tumbled 14.9 pct in May from April levels because of higher\\n  mortgage interest rates, analysts said.\\n      \"There should be another month or two of very weak new home\\n  sales but with interest rates stabilizing, sale of new homes\\n  should become more stable by mid-summer,\" said economist\\n  Lawrence Chimerine of Wharton Econometrics Inc.\\n      The drop in May, to a seasonally adjusted annual rate of\\n  616,000 units, was the largest since January 1982, the Commerce\\n  Department said.\\n      Interest rates on conventional mortgages bottomed out at\\n  about 9.08 pct in March and rose to about 10.7 pct in April,\\n  according to Stephen Roach, economist at Morgan Stanley.\\n      The effect was to freeze some potential new homebuyers out\\n  of the market, he and others said.\\n      \"The rates moved very suddenly and were certainly\\n  unexpected by homebuyers,\" said Cynthia Latta, an economist\\n  with Data Resources. \"They were so startled, they wanted to\\n  hold back and see what would happen.\"\\n      The drop in sales of new single-family home sales was\\n  sharper than expected, some economists said. \"We fully expected\\n  a decline but the extent was more than we anticipated,\" said\\n  James Christian, chief economist for the U.S. League of Savings\\n  Institutions.\\n      Christian said there was a sharp rise in May in sales of\\n  existing homes, which are generally less expensive than new\\n  homes.\\n      Latta of Data Resources said strong sales of new\\n  condominiums in the Northeast and on the West Coast were\\n  reflected in sales of existing but not new homes.\\n      Christian of the U.S. League of Savings Institutions said,\\n  \"Underlying housing demand remains strong. I think the market\\n  is going to stabilize and give us a good second half.\"\\n      Others were less optimistic, however.\\n      \"We clearly won\\'t have a boom (in new home sales) but I\\n  don\\'t think this is the start of a collapse in single-family\\n  housing,\" said Chimerine of Wharton.\\n      Eugene Sherman, chief economist of the Federal Home Loan\\n  Bank of New York, said, \"The lower sales level will be\\n  maintained for awhile until there is another change in rates.\\n  There won\\'t be much specific improvement in coming months.\"\\n  '"
     },
     "execution_count": 13,
     "metadata": {},
     "output_type": "execute_result"
    }
   ],
   "source": [
    "texts[1]"
   ],
   "metadata": {
    "collapsed": false,
    "ExecuteTime": {
     "end_time": "2023-12-04T15:45:04.656939034Z",
     "start_time": "2023-12-04T15:45:04.567651613Z"
    }
   },
   "id": "b68b1dbdf24407a4"
  },
  {
   "cell_type": "code",
   "execution_count": 14,
   "outputs": [
    {
     "data": {
      "text/plain": "   according     added  adjusted  ago  analysts    annual     april  area  \\\n0   0.056346  0.051617  0.000000  0.0  0.000000  0.041284  0.041284   0.0   \n1   0.058931  0.000000  0.037393  0.0  0.058931  0.043178  0.086356   0.0   \n2   0.000000  0.000000  0.000000  0.0  0.000000  0.000000  0.000000   0.0   \n3   0.000000  0.000000  0.000000  0.0  0.000000  0.000000  0.000000   0.0   \n4   0.000000  0.000000  0.219761  0.0  0.000000  0.042293  0.000000   0.0   \n\n    average      bank  ...  unchanged  underlying      unit    united  \\\n0  0.080446  0.215250  ...   0.000000     0.00000  0.000000  0.059343   \n1  0.000000  0.056281  ...   0.000000     0.05196  0.000000  0.000000   \n2  0.000000  0.000000  ...   0.000000     0.00000  0.000000  0.000000   \n3  0.000000  0.000000  ...   0.000000     0.00000  0.000000  0.000000   \n4  0.000000  0.000000  ...   0.044703     0.00000  0.043455  0.000000   \n\n      units  wage  week      year     years      york  \n0  0.040223   0.0   0.0  0.365551  0.059343  0.000000  \n1  0.042068   0.0   0.0  0.000000  0.000000  0.044364  \n2  0.000000   0.0   0.0  0.000000  0.000000  0.000000  \n3  0.000000   0.0   0.0  0.000000  0.000000  0.000000  \n4  0.453269   0.0   0.0  0.000000  0.000000  0.000000  \n\n[5 rows x 202 columns]",
      "text/html": "<div>\n<style scoped>\n    .dataframe tbody tr th:only-of-type {\n        vertical-align: middle;\n    }\n\n    .dataframe tbody tr th {\n        vertical-align: top;\n    }\n\n    .dataframe thead th {\n        text-align: right;\n    }\n</style>\n<table border=\"1\" class=\"dataframe\">\n  <thead>\n    <tr style=\"text-align: right;\">\n      <th></th>\n      <th>according</th>\n      <th>added</th>\n      <th>adjusted</th>\n      <th>ago</th>\n      <th>analysts</th>\n      <th>annual</th>\n      <th>april</th>\n      <th>area</th>\n      <th>average</th>\n      <th>bank</th>\n      <th>...</th>\n      <th>unchanged</th>\n      <th>underlying</th>\n      <th>unit</th>\n      <th>united</th>\n      <th>units</th>\n      <th>wage</th>\n      <th>week</th>\n      <th>year</th>\n      <th>years</th>\n      <th>york</th>\n    </tr>\n  </thead>\n  <tbody>\n    <tr>\n      <th>0</th>\n      <td>0.056346</td>\n      <td>0.051617</td>\n      <td>0.000000</td>\n      <td>0.0</td>\n      <td>0.000000</td>\n      <td>0.041284</td>\n      <td>0.041284</td>\n      <td>0.0</td>\n      <td>0.080446</td>\n      <td>0.215250</td>\n      <td>...</td>\n      <td>0.000000</td>\n      <td>0.00000</td>\n      <td>0.000000</td>\n      <td>0.059343</td>\n      <td>0.040223</td>\n      <td>0.0</td>\n      <td>0.0</td>\n      <td>0.365551</td>\n      <td>0.059343</td>\n      <td>0.000000</td>\n    </tr>\n    <tr>\n      <th>1</th>\n      <td>0.058931</td>\n      <td>0.000000</td>\n      <td>0.037393</td>\n      <td>0.0</td>\n      <td>0.058931</td>\n      <td>0.043178</td>\n      <td>0.086356</td>\n      <td>0.0</td>\n      <td>0.000000</td>\n      <td>0.056281</td>\n      <td>...</td>\n      <td>0.000000</td>\n      <td>0.05196</td>\n      <td>0.000000</td>\n      <td>0.000000</td>\n      <td>0.042068</td>\n      <td>0.0</td>\n      <td>0.0</td>\n      <td>0.000000</td>\n      <td>0.000000</td>\n      <td>0.044364</td>\n    </tr>\n    <tr>\n      <th>2</th>\n      <td>0.000000</td>\n      <td>0.000000</td>\n      <td>0.000000</td>\n      <td>0.0</td>\n      <td>0.000000</td>\n      <td>0.000000</td>\n      <td>0.000000</td>\n      <td>0.0</td>\n      <td>0.000000</td>\n      <td>0.000000</td>\n      <td>...</td>\n      <td>0.000000</td>\n      <td>0.00000</td>\n      <td>0.000000</td>\n      <td>0.000000</td>\n      <td>0.000000</td>\n      <td>0.0</td>\n      <td>0.0</td>\n      <td>0.000000</td>\n      <td>0.000000</td>\n      <td>0.000000</td>\n    </tr>\n    <tr>\n      <th>3</th>\n      <td>0.000000</td>\n      <td>0.000000</td>\n      <td>0.000000</td>\n      <td>0.0</td>\n      <td>0.000000</td>\n      <td>0.000000</td>\n      <td>0.000000</td>\n      <td>0.0</td>\n      <td>0.000000</td>\n      <td>0.000000</td>\n      <td>...</td>\n      <td>0.000000</td>\n      <td>0.00000</td>\n      <td>0.000000</td>\n      <td>0.000000</td>\n      <td>0.000000</td>\n      <td>0.0</td>\n      <td>0.0</td>\n      <td>0.000000</td>\n      <td>0.000000</td>\n      <td>0.000000</td>\n    </tr>\n    <tr>\n      <th>4</th>\n      <td>0.000000</td>\n      <td>0.000000</td>\n      <td>0.219761</td>\n      <td>0.0</td>\n      <td>0.000000</td>\n      <td>0.042293</td>\n      <td>0.000000</td>\n      <td>0.0</td>\n      <td>0.000000</td>\n      <td>0.000000</td>\n      <td>...</td>\n      <td>0.044703</td>\n      <td>0.00000</td>\n      <td>0.043455</td>\n      <td>0.000000</td>\n      <td>0.453269</td>\n      <td>0.0</td>\n      <td>0.0</td>\n      <td>0.000000</td>\n      <td>0.000000</td>\n      <td>0.000000</td>\n    </tr>\n  </tbody>\n</table>\n<p>5 rows × 202 columns</p>\n</div>"
     },
     "execution_count": 14,
     "metadata": {},
     "output_type": "execute_result"
    }
   ],
   "source": [
    "# We will remove the numbers from the text, because here these are very common in every article and obfuscate\n",
    "# the results\n",
    "\n",
    "texts = [re.sub(\"\\d+\", \"\", text) for text in texts]\n",
    "\n",
    "tfidf = TfidfVectorizer(\n",
    "    lowercase=True,\n",
    "    stop_words=\"english\",\n",
    "    min_df=0.05\n",
    ")\n",
    "term_doc_matrix = tfidf.fit_transform(texts)\n",
    "\n",
    "term_doc_df = pd.DataFrame(\n",
    "    term_doc_matrix.toarray(),\n",
    "    columns=tfidf.get_feature_names_out()\n",
    ")\n",
    "\n",
    "## Should probably remove numbers\n",
    "term_doc_df.head()"
   ],
   "metadata": {
    "collapsed": false,
    "ExecuteTime": {
     "end_time": "2023-12-04T15:45:04.783924869Z",
     "start_time": "2023-12-04T15:45:04.631103979Z"
    }
   },
   "id": "3fdb7537108ae7ae"
  },
  {
   "cell_type": "code",
   "execution_count": 15,
   "outputs": [
    {
     "name": "stdout",
     "output_type": "stream",
     "text": [
      "<class 'pandas.core.frame.DataFrame'>\n",
      "RangeIndex: 67 entries, 0 to 66\n",
      "Columns: 202 entries, according to york\n",
      "dtypes: float64(202)\n",
      "memory usage: 105.9 KB\n"
     ]
    }
   ],
   "source": [
    "term_doc_df.info()"
   ],
   "metadata": {
    "collapsed": false,
    "ExecuteTime": {
     "end_time": "2023-12-04T15:45:04.865786273Z",
     "start_time": "2023-12-04T15:45:04.701268682Z"
    }
   },
   "id": "f5aaf69140301fdf"
  },
  {
   "cell_type": "markdown",
   "source": [
    "$$\n",
    "A_{m\\times n} = \\mathbf{U}_{m \\times m} \\mathbf{\\Sigma}_{m \\times n} \\mathbf{V}^T_{n \\times n}\n",
    "$$\n",
    "Where $\\mathbb{U}$ and $\\mathbb{V}$ are orthogonal matrices.\n",
    "\n",
    "$$\n",
    "\\mathbf{A} = \\begin{pmatrix}\n",
    "u_{11} & u_{12} & \\cdots & u_{1m} \\\\\n",
    "u_{21} & u_{22} & \\cdots & u_{2m} \\\\\n",
    "\\vdots \\\\\n",
    "u_{m1} & u_{m2} & \\cdots & u_{mm} \\\\\n",
    "\\end{pmatrix}\n",
    "\\begin{pmatrix}\n",
    "\\sigma_1 & 0 & \\cdots & 0 & 0\\\\\n",
    "0 & \\sigma_2 & \\cdots & 0 & 0\\\\\n",
    "0 & 0 & \\ddots & \\sigma_k & \\vdots \\\\\n",
    "0 & 0 & \\cdots & 0 & \\mathbf{0}_{n - k \\times m - k}\n",
    "\\end{pmatrix}\n",
    "\n",
    "\\begin{pmatrix}\n",
    "v_{11} & v_{12} & \\cdots & v_{1n} \\\\\n",
    "v_{21} & v_{22} & \\cdots & v_{2n} \\\\\n",
    "\\vdots \\\\\n",
    "v_{n1} & v_{m2} & \\cdots & v_{nn} \\\\\n",
    "\\end{pmatrix}^T\n",
    "$$\n",
    "\n",
    "$$\n",
    "\\begin{align}\n",
    "\\mathbf{A} & = \\begin{pmatrix}\n",
    "u_{11} \\\\\n",
    "u_{21} \\\\\n",
    "\\vdots\\\\\n",
    "u_{m1}\n",
    "\\end{pmatrix}\n",
    "\\times \\sigma_1 \\times \n",
    "\\begin{pmatrix}\n",
    "v_{11} & v_{12} & \\ldots & v_{1n}\n",
    "\\end{pmatrix} +  \\\\\n",
    "\n",
    "& \\begin{pmatrix}\n",
    "u_{12} \\\\\n",
    "u_{22} \\\\\n",
    "\\vdots\\\\\n",
    "u_{m2}\n",
    "\\end{pmatrix}\n",
    "\\times \\sigma_2 \\times \n",
    "\\begin{pmatrix}\n",
    "v_{21} & v_{22} & \\ldots & v_{2n}\n",
    "\\end{pmatrix} + \\\\\n",
    "& \\vdots \\\\\n",
    "\\end{align}\n",
    "$$\n",
    "\n",
    "You can think about matrix multiplication as a sum of outer products\n",
    "\n",
    "$$\n",
    "\\begin{pmatrix}\n",
    "0 & 1 \\\\\n",
    "2 & 3\n",
    "\\end{pmatrix}\n",
    "\\begin{pmatrix}\n",
    "a & b \\\\\n",
    "c & d\n",
    "\\end{pmatrix}\n",
    "= \\begin{pmatrix}\n",
    "0a & 0b \\\\\n",
    "2a & 2b\n",
    "\\end{pmatrix}\n",
    "+ \n",
    "\\begin{pmatrix}\n",
    "1c & 1d \\\\\n",
    "3c & 3d\n",
    "\\end{pmatrix} = \n",
    "\\begin{pmatrix}\n",
    "0a + 1c & 0b + 1d \\\\\n",
    "2a + 3c & 2b + 3d\n",
    "\\end{pmatrix}\n",
    "$$\n",
    "\n",
    "Using this you can write the singular value decomposition as a sum of outer products.\n",
    "\n",
    "$$\n",
    "\\mathbf{A} = \\sum_{i} \\sigma_i \\mathbf{u}_i\\mathbf{v}_i^T\n",
    "$$\n",
    "\n",
    "While the outer products represent directions, you can think about the singular values as describing the _importance_ of these directions.\n",
    "\n",
    "Some of the terms in the sum contribute less to A, so dropping these from the sum results in a lower-rank (p) approximation of the matrix.\n",
    "\n",
    "$$\n",
    "\\mathbf{A} \\approx \\sum_{i = 1}^{p} \\sigma_i \\mathbf{u}_i\\mathbf{v}_i^T\n",
    "$$\n"
   ],
   "metadata": {
    "collapsed": false
   },
   "id": "b747bec136377a5b"
  },
  {
   "cell_type": "markdown",
   "source": [
    "\n",
    "\n",
    "Example document-term matrix:\n",
    "\n",
    "| Documents/Terms | house | oil  | wage |\n",
    "|-----------------|-------|------|------|\n",
    "| Doc1 (housing)  | 1.43  | 0.02 | 0.3  |\n",
    "| Doc2 (income)   | 0.4   | 0.01 | 1.2  |\n",
    "| Doc3 (heat)     | 0.35  | 1.7  | 0.04 |\n",
    "\n",
    "Example terms-topic matrix: values indicate how strongly a word is related to a topic.\n",
    "\n",
    "| Word/Topic | housing | income | heat |\n",
    "|------------|---------|--------|------|\n",
    "| house      | 1.43    | 0.022  | 0.34 |\n",
    "| wage       | 0.14    | 2.01   | 0.25 |\n",
    "| oil        | 0.35    | 0.21   | 1.12 |\n",
    "\n",
    "Example document-topic matrix: the values in this matrix indicate how strongly\n",
    "a document is related to a topic.\n",
    "\n",
    "| Document/Topic | housing | income | heat |\n",
    "|----------------|---------|--------|------|\n",
    "| Doc1 (housing) | 1.43    | 0.01   | 0.21 |\n",
    "| Doc2 (income)  | 0.14    | 2      | 0.25 |\n",
    "| Doc3 (heat)    | 0.38    | 0.21   | 1.17 |\n",
    "\n",
    "\n",
    "The singular values indicate how strongly a topic contributes to explaining\n",
    "the data (term-document frequencies).\n",
    "\n",
    "| Topic   | singular value |\n",
    "|---------|----------------|\n",
    "| housing | 6.2            |\n",
    "| wage    | 2.3            |\n",
    "| oil     | 0.02           |\n"
   ],
   "metadata": {
    "collapsed": false
   },
   "id": "bd9f6404824b5469"
  },
  {
   "cell_type": "code",
   "execution_count": 16,
   "outputs": [
    {
     "data": {
      "text/plain": "array([[ 1.10156219e-02,  2.43982282e-02,  1.61363323e-03],\n       [ 1.68306103e-02,  1.45461777e-03,  1.69189971e-02],\n       [ 1.05488006e-01, -2.91553395e-02, -1.14195689e-01],\n       [ 2.06903122e-02,  1.50899547e-03,  1.31938140e-02],\n       [ 1.93665775e-02,  1.41184731e-02,  2.07468964e-03],\n       [ 4.22589600e-02, -8.48312759e-03, -4.37299297e-02],\n       [ 7.05348267e-02,  3.22548507e-02,  1.07232827e-01],\n       [ 1.31378791e-02,  3.21920028e-02,  6.75154636e-04],\n       [ 8.77853570e-02, -4.63507671e-03,  1.67233912e-01],\n       [ 4.47924219e-02, -1.49157718e-03,  3.88844053e-02],\n       [ 3.51364324e-02,  2.82534589e-01, -2.23862624e-02],\n       [ 1.28842379e-02,  3.81546062e-02,  3.40036664e-03],\n       [ 1.22422198e-02,  2.92266027e-02, -9.05972346e-03],\n       [ 1.63592371e-02,  1.02111237e-02,  1.36255886e-02],\n       [ 1.90902478e-02, -7.09486093e-03, -2.41722192e-02],\n       [ 8.69480390e-02, -4.27456143e-03,  4.80298530e-02],\n       [ 1.36905035e-02,  8.51098075e-02, -3.52250026e-03],\n       [ 2.23824508e-02,  9.75093363e-03, -3.56131733e-02],\n       [ 3.06854870e-02, -5.69636275e-03, -2.08561654e-02],\n       [ 1.56530227e-02,  1.16098688e-01, -7.85661717e-03],\n       [ 1.37556879e-02,  1.09752091e-01, -8.67637170e-03],\n       [ 4.21241421e-02, -1.19367573e-02, -4.63903548e-02],\n       [ 1.64202756e-02,  8.39610070e-02, -2.05619220e-03],\n       [ 2.33082512e-02, -1.76404037e-03,  1.63589490e-02],\n       [ 1.46300843e-02, -5.45428300e-03, -1.19917878e-02],\n       [ 4.10783998e-02, -4.89133581e-03,  4.50760013e-02],\n       [ 2.24466456e-02,  2.00433329e-03,  2.52541206e-02],\n       [ 3.36937883e-02,  2.36339879e-01, -1.69230082e-02],\n       [ 2.38294427e-02,  6.38119800e-02, -1.35547068e-02],\n       [ 1.36503761e-02, -1.25917694e-04,  1.27954260e-02],\n       [ 3.96309872e-02, -6.65204078e-03,  6.87690956e-02],\n       [ 1.78239180e-02,  1.54098027e-03, -3.94114435e-04],\n       [ 2.12224880e-02,  4.77844949e-02,  3.04997609e-03],\n       [ 4.31474895e-02,  2.05701281e-01,  3.86397498e-03],\n       [ 1.37556879e-02,  1.09752091e-01, -8.67637170e-03],\n       [ 8.62769552e-03,  5.20345203e-02, -2.33795845e-03],\n       [ 3.83394167e-02,  4.66022660e-03,  2.16800092e-02],\n       [ 8.44268183e-02, -1.33117728e-02, -7.67146165e-02],\n       [ 1.23178065e-02,  4.38488233e-03,  2.15566102e-04],\n       [ 8.62843963e-03,  3.79921842e-02, -6.07304852e-04],\n       [ 1.01433622e-02,  4.87709408e-02, -2.44715094e-03],\n       [ 1.05913425e-01, -1.59594232e-02, -2.11852691e-02],\n       [ 1.14408491e-02,  6.15535021e-04,  1.25661796e-02],\n       [ 1.09730412e-02,  1.21561659e-02,  9.20676513e-03],\n       [ 1.19005053e-01,  5.73403653e-02,  5.43802451e-02],\n       [ 1.50828841e-02,  1.11670419e-02,  3.23080264e-04],\n       [ 3.81472638e-02,  2.06234614e-03, -1.31121819e-02],\n       [ 1.20838080e-02, -1.44578319e-04, -9.80786356e-03],\n       [ 3.22606262e-02, -7.05564597e-04,  1.12560452e-02],\n       [ 1.15456533e-01, -3.18259329e-02,  2.34962439e-01],\n       [ 1.39757183e-02, -1.78878038e-04,  9.56290928e-03],\n       [ 2.06248607e-02,  5.57993159e-03,  1.17714311e-03],\n       [ 1.86931779e-02,  1.04419929e-03,  1.18474756e-03],\n       [ 2.81711355e-02,  5.31157016e-04,  1.23838649e-02],\n       [ 1.98326933e-02,  1.07566949e-01, -8.07023658e-03],\n       [ 3.36090212e-02, -2.61332763e-03,  2.43501050e-02],\n       [ 2.18714674e-02,  2.24368469e-04,  2.05518793e-02],\n       [ 1.07483873e-02,  2.27254430e-02, -5.72046966e-03],\n       [ 3.21377995e-02,  1.66118586e-02,  2.57464180e-02],\n       [ 8.94578659e-03, -8.01030142e-04,  2.08335562e-03],\n       [ 2.33468920e-02,  7.38515998e-02,  1.83364463e-03],\n       [ 2.34027834e-02,  1.30360342e-02,  5.74759215e-03],\n       [ 1.21542314e-02,  3.41982920e-06,  1.40788008e-02],\n       [ 1.98830579e-02, -2.43882575e-03,  1.87665659e-02],\n       [ 1.39794264e-02, -1.30883444e-03,  1.55917975e-03],\n       [ 3.33999337e-02, -5.95851709e-03, -4.08804282e-02],\n       [ 1.59776628e-02, -3.94413319e-03, -1.23278416e-02],\n       [ 1.25474516e-01, -4.63433465e-02, -1.77034975e-01],\n       [ 6.31918381e-03,  4.07960736e-03,  4.95568044e-03],\n       [ 5.90132762e-02, -3.19403886e-02,  1.07091518e-02],\n       [ 1.86316747e-01, -2.51939130e-02,  4.74260402e-02],\n       [ 1.74288839e-02,  2.63160571e-03, -2.74531835e-03],\n       [ 1.25196702e-01, -4.10303799e-02, -1.32464412e-01],\n       [ 1.13395304e-02,  2.17664038e-02,  6.55248069e-03],\n       [ 9.27014540e-03,  1.97065955e-02,  7.43430315e-04],\n       [ 1.36634650e-02,  6.52897593e-04,  1.37056551e-02],\n       [ 1.75868384e-02,  3.16793131e-02,  1.38936756e-02],\n       [ 1.45196869e-02, -4.36441680e-03, -1.29928090e-02],\n       [ 3.09581017e-02,  1.47801073e-01, -2.01257265e-03],\n       [ 5.13735089e-02, -1.33941955e-02, -6.94141539e-03],\n       [ 2.32293839e-02,  1.80465583e-02, -8.49008085e-03],\n       [ 2.84837814e-02,  2.05206515e-01, -1.24845162e-02],\n       [ 2.63958739e-02,  2.60785294e-02,  1.81752228e-02],\n       [ 1.68475535e-02,  2.48069118e-02,  3.85728110e-03],\n       [ 2.68888913e-02, -3.98139014e-03,  1.15646381e-02],\n       [ 2.19044564e-02,  1.92413793e-03,  1.79512976e-02],\n       [ 8.40462041e-02, -1.75191731e-02, -1.44145169e-02],\n       [ 1.72432653e-02,  1.11449020e-01, -5.24096245e-03],\n       [ 4.83643610e-02,  3.02546017e-01, -1.19500742e-02],\n       [ 1.13476664e-02,  3.58997112e-03,  1.07571985e-03],\n       [ 3.40612418e-02,  4.90659967e-02,  1.06458973e-02],\n       [ 1.99324598e-02, -3.73403767e-03, -2.32522883e-02],\n       [ 4.95637508e-02, -6.44537124e-03, -3.84864393e-02],\n       [ 5.46304986e-02, -4.62345478e-03, -7.52219095e-02],\n       [ 1.73010823e-01, -6.66157316e-02, -1.99120161e-01],\n       [ 9.94152897e-03, -1.21941287e-03,  9.38328296e-03],\n       [ 1.04648648e-02, -6.71457902e-04, -5.37993616e-04],\n       [ 1.45796468e-02,  9.39811583e-03,  3.21315086e-03],\n       [ 1.20764735e-01, -3.05571821e-02,  2.07884286e-01],\n       [ 5.21207022e-02,  4.16655676e-02,  2.77353219e-02],\n       [ 1.40259663e-02,  2.81360882e-02,  5.71735538e-03],\n       [ 1.49478111e-02,  2.65023990e-02,  1.40462480e-02],\n       [ 1.03469647e-02,  5.70262689e-03,  1.11961255e-02],\n       [ 2.65445572e-02,  2.45660353e-04,  2.63318074e-02],\n       [ 1.18010352e-02, -1.35508120e-03,  5.21355579e-03],\n       [ 3.48302808e-02,  7.47852684e-04,  3.65532127e-02],\n       [ 1.44346020e-02, -4.86310271e-03, -1.67324726e-02],\n       [ 6.15343469e-02, -2.63012235e-02,  6.95662282e-02],\n       [ 2.12756087e-01, -4.18338877e-02, -9.34072992e-02],\n       [ 1.70894801e-02, -2.88894166e-04,  1.82843847e-02],\n       [ 3.02223825e-02, -8.31858506e-03,  5.33206788e-02],\n       [ 9.73337409e-03, -8.49448554e-05, -9.19654152e-03],\n       [ 1.49708124e-02,  5.43940630e-03,  7.30029529e-03],\n       [ 3.20218994e-02, -5.63238901e-03, -2.30159291e-02],\n       [ 3.70302130e-02, -7.91715345e-03, -3.91524476e-02],\n       [ 2.84787648e-02, -1.72846740e-03,  2.95844087e-02],\n       [ 3.27292741e-02,  2.64865300e-02, -3.28505613e-03],\n       [ 1.73282203e-02,  1.21202439e-01, -8.14011345e-03],\n       [ 2.64841226e-02, -2.16151638e-03,  2.70838337e-02],\n       [ 3.36464623e-02,  2.43569856e-02,  2.40304736e-02],\n       [ 4.13268037e-02,  4.87343067e-02,  2.06767913e-02],\n       [ 9.04630256e-03,  6.29748083e-02, -4.60483170e-03],\n       [ 1.07218598e-02,  3.37743589e-02, -2.15090418e-03],\n       [ 2.23224473e-01, -6.90676086e-02, -2.83020658e-01],\n       [ 5.38359379e-02,  1.25657755e-02, -2.86961453e-04],\n       [ 4.70726791e-02, -3.76304308e-03,  5.95421826e-02],\n       [ 3.10928183e-02, -3.91135055e-03, -3.05568179e-02],\n       [ 5.70735909e-02, -2.35958475e-02, -9.72926872e-02],\n       [ 2.93708003e-02,  6.45747158e-03, -1.23522894e-02],\n       [ 1.46247942e-02,  8.60691521e-03, -1.01670332e-02],\n       [ 5.24431361e-02,  1.41405792e-01, -4.21121846e-02],\n       [ 3.30014378e-02, -8.77079746e-03, -4.62648260e-02],\n       [ 1.71398716e-02,  8.84877945e-03, -9.01046824e-03],\n       [ 7.91425806e-02, -3.12247808e-02,  2.13434204e-01],\n       [ 1.41364392e-02,  1.10827973e-04,  1.55420882e-02],\n       [ 7.97819734e-02,  4.14843729e-01, -9.97153475e-03],\n       [ 2.13597715e-02, -5.82598254e-03, -2.00408996e-02],\n       [ 1.28702407e-02,  1.91979319e-03,  1.13933517e-02],\n       [ 1.77995973e-02, -8.98620713e-04,  1.78805211e-02],\n       [ 5.16697558e-01, -1.23311166e-01,  2.31129368e-01],\n       [ 1.17975406e-01, -5.84819656e-02, -1.32141212e-01],\n       [ 1.09523174e-01, -2.93240033e-02,  1.99903687e-01],\n       [ 2.25024784e-02,  5.97086134e-02,  1.05671375e-02],\n       [ 1.87054287e-02, -6.92314754e-03, -1.90682531e-02],\n       [ 3.29498991e-02,  1.25105955e-05, -1.90242111e-02],\n       [ 7.15547519e-02,  3.64675225e-01, -2.08401451e-02],\n       [ 6.19584302e-02,  8.63078083e-02,  3.68327668e-02],\n       [ 7.85740686e-03,  1.28129049e-02, -1.63276072e-03],\n       [ 7.35333730e-03,  1.99731241e-02,  1.73247008e-03],\n       [ 3.51374510e-02, -3.65044237e-03, -7.18319797e-03],\n       [ 1.62662409e-02,  6.72827951e-02,  6.01340458e-03],\n       [ 9.85394273e-02, -1.90038786e-02, -9.02408702e-02],\n       [ 4.67980171e-02,  1.13774839e-03, -3.02085821e-02],\n       [ 4.01178515e-02, -9.15147322e-03,  6.36271302e-02],\n       [ 1.07866404e-02,  6.24068032e-02,  1.78751142e-03],\n       [ 1.89655249e-02, -9.56919173e-04, -6.00851300e-03],\n       [ 3.27101499e-02,  1.51775712e-02,  2.14923039e-02],\n       [ 2.39796886e-02, -3.49436487e-03, -3.42114504e-03],\n       [ 1.52109483e-02, -2.49705933e-03,  8.42629204e-03],\n       [ 4.20871037e-02, -1.06827214e-02,  2.69854844e-03],\n       [ 1.36912136e-01, -1.64841889e-02,  1.13003138e-01],\n       [ 1.18634484e-02,  1.77834568e-02,  8.27898375e-03],\n       [ 1.93041052e-02,  6.01761601e-04,  1.82379774e-02],\n       [ 2.21273596e-01, -7.62303405e-02,  1.46633990e-01],\n       [ 1.78061194e-01,  1.97110975e-01, -5.33613806e-02],\n       [ 8.58835202e-02,  6.66655913e-03, -8.57364842e-02],\n       [ 1.01728178e-02,  1.21127421e-03, -2.34869114e-03],\n       [ 1.78411934e-02, -1.31561853e-03, -1.86340484e-03],\n       [ 1.02324774e-01, -2.85138923e-02, -1.20075851e-01],\n       [ 1.06657267e-02,  1.93501348e-02, -9.21758889e-03],\n       [ 1.70237050e-02,  2.27358872e-03, -8.05824108e-03],\n       [ 1.14649832e-02,  4.91985043e-02, -2.78997689e-03],\n       [ 7.87569907e-02, -2.75561916e-02, -1.05900197e-01],\n       [ 1.55601784e-02,  2.94262376e-03,  1.63332426e-02],\n       [ 1.16723977e-01, -1.58167531e-02,  2.15921879e-01],\n       [ 1.00576017e-02,  7.07541415e-02, -4.74516433e-03],\n       [ 9.27494997e-03,  1.37760529e-02, -6.04085169e-03],\n       [ 1.84785192e-01, -8.36909791e-02, -2.22975428e-01],\n       [ 2.06380610e-02,  1.46137169e-02, -1.84561936e-02],\n       [ 1.05315672e-02, -1.88431629e-04,  4.20314772e-03],\n       [ 1.35694497e-02, -1.97837859e-03, -3.80106603e-03],\n       [ 2.72751146e-02,  3.38404105e-03, -2.56018066e-02],\n       [ 2.07056717e-02, -5.01012458e-03, -1.80213260e-02],\n       [ 9.00748435e-03,  7.56546090e-02, -5.98045814e-03],\n       [ 2.30523634e-02,  1.23221107e-02,  5.09677571e-03],\n       [ 1.98499659e-02,  2.10992607e-02, -4.49702729e-04],\n       [ 1.00955378e-02, -7.02231762e-04,  2.81728284e-04],\n       [ 2.66298940e-02,  8.12970162e-02,  9.74614085e-03],\n       [ 3.07633256e-02,  4.23197556e-03,  2.14581808e-02],\n       [ 3.24333426e-02,  1.68514276e-01, -9.66071132e-03],\n       [ 1.34806003e-02,  4.01690856e-02,  4.24386254e-03],\n       [ 8.11708802e-02, -3.25853009e-02,  2.21663334e-01],\n       [ 4.28883953e-02,  1.48447225e-02,  4.26599852e-02],\n       [ 8.14830738e-02, -2.49906445e-02,  1.76140293e-01],\n       [ 4.62568611e-02,  3.30753045e-02,  1.62863432e-02],\n       [ 1.05315672e-02, -1.88431629e-04,  4.20314772e-03],\n       [ 2.42587953e-01, -8.61179377e-02, -3.90857851e-01],\n       [ 3.62127546e-02, -6.49909586e-03,  6.76360981e-02],\n       [ 2.54134260e-02,  3.86853360e-02,  1.59615449e-04],\n       [ 1.59726072e-01, -2.64021607e-02,  8.13618425e-02],\n       [ 1.33531114e-02,  9.19130053e-03,  8.76962610e-03],\n       [ 2.66795673e-02,  1.49446490e-01, -8.80958211e-03]])"
     },
     "execution_count": 16,
     "metadata": {},
     "output_type": "execute_result"
    }
   ],
   "source": [
    "from sklearn.decomposition import TruncatedSVD\n",
    "\n",
    "lsa = TruncatedSVD(n_components=3, n_iter=100, random_state=42)\n",
    "lsa_result = lsa.fit_transform(term_doc_df)\n",
    "Sigma = lsa.singular_values_\n",
    "V_T = lsa.components_.T\n",
    "V_T"
   ],
   "metadata": {
    "collapsed": false,
    "ExecuteTime": {
     "end_time": "2023-12-04T15:45:05.024385424Z",
     "start_time": "2023-12-04T15:45:04.817723289Z"
    }
   },
   "id": "bd12334690eb710c"
  },
  {
   "cell_type": "code",
   "execution_count": 17,
   "outputs": [
    {
     "data": {
      "text/plain": "<Axes: >"
     },
     "execution_count": 17,
     "metadata": {},
     "output_type": "execute_result"
    },
    {
     "data": {
      "text/plain": "<Figure size 640x480 with 1 Axes>",
      "image/png": "[encoded data removed]"
     },
     "metadata": {},
     "output_type": "display_data"
    }
   ],
   "source": [
    "sns.barplot(x=list(range(len(Sigma))), y = Sigma)"
   ],
   "metadata": {
    "collapsed": false,
    "ExecuteTime": {
     "end_time": "2023-12-04T15:45:05.274034458Z",
     "start_time": "2023-12-04T15:45:04.950567235Z"
    }
   },
   "id": "a5ccb0f3927b4172"
  },
  {
   "cell_type": "code",
   "execution_count": 18,
   "outputs": [
    {
     "data": {
      "text/plain": "           Component 0  Component 1  Component 2\naccording     0.011016     0.024398     0.001614\nadded         0.016831     0.001455     0.016919\nadjusted      0.105488    -0.029155    -0.114196\nago           0.020690     0.001509     0.013194\nanalysts      0.019367     0.014118     0.002075\n...                ...          ...          ...\nwage          0.036213    -0.006499     0.067636\nweek          0.025413     0.038685     0.000160\nyear          0.159726    -0.026402     0.081362\nyears         0.013353     0.009191     0.008770\nyork          0.026680     0.149446    -0.008810\n\n[202 rows x 3 columns]",
      "text/html": "<div>\n<style scoped>\n    .dataframe tbody tr th:only-of-type {\n        vertical-align: middle;\n    }\n\n    .dataframe tbody tr th {\n        vertical-align: top;\n    }\n\n    .dataframe thead th {\n        text-align: right;\n    }\n</style>\n<table border=\"1\" class=\"dataframe\">\n  <thead>\n    <tr style=\"text-align: right;\">\n      <th></th>\n      <th>Component 0</th>\n      <th>Component 1</th>\n      <th>Component 2</th>\n    </tr>\n  </thead>\n  <tbody>\n    <tr>\n      <th>according</th>\n      <td>0.011016</td>\n      <td>0.024398</td>\n      <td>0.001614</td>\n    </tr>\n    <tr>\n      <th>added</th>\n      <td>0.016831</td>\n      <td>0.001455</td>\n      <td>0.016919</td>\n    </tr>\n    <tr>\n      <th>adjusted</th>\n      <td>0.105488</td>\n      <td>-0.029155</td>\n      <td>-0.114196</td>\n    </tr>\n    <tr>\n      <th>ago</th>\n      <td>0.020690</td>\n      <td>0.001509</td>\n      <td>0.013194</td>\n    </tr>\n    <tr>\n      <th>analysts</th>\n      <td>0.019367</td>\n      <td>0.014118</td>\n      <td>0.002075</td>\n    </tr>\n    <tr>\n      <th>...</th>\n      <td>...</td>\n      <td>...</td>\n      <td>...</td>\n    </tr>\n    <tr>\n      <th>wage</th>\n      <td>0.036213</td>\n      <td>-0.006499</td>\n      <td>0.067636</td>\n    </tr>\n    <tr>\n      <th>week</th>\n      <td>0.025413</td>\n      <td>0.038685</td>\n      <td>0.000160</td>\n    </tr>\n    <tr>\n      <th>year</th>\n      <td>0.159726</td>\n      <td>-0.026402</td>\n      <td>0.081362</td>\n    </tr>\n    <tr>\n      <th>years</th>\n      <td>0.013353</td>\n      <td>0.009191</td>\n      <td>0.008770</td>\n    </tr>\n    <tr>\n      <th>york</th>\n      <td>0.026680</td>\n      <td>0.149446</td>\n      <td>-0.008810</td>\n    </tr>\n  </tbody>\n</table>\n<p>202 rows × 3 columns</p>\n</div>"
     },
     "execution_count": 18,
     "metadata": {},
     "output_type": "execute_result"
    }
   ],
   "source": [
    "term_topic_matrix = pd.DataFrame(data=V_T,\n",
    "                                 index=term_doc_df.columns,\n",
    "                                 columns = [f'Component {r}' for r in range(0,V_T.shape[1])])\n",
    "term_topic_matrix"
   ],
   "metadata": {
    "collapsed": false,
    "ExecuteTime": {
     "end_time": "2023-12-04T15:45:16.709404385Z",
     "start_time": "2023-12-04T15:45:16.663390789Z"
    }
   },
   "id": "6f9a37db54c0e377"
  },
  {
   "cell_type": "markdown",
   "source": [
    "## Count Based Methods\n",
    "\n",
    "A weakness of word2vec representations is that these fail to capture information about relationships like the following one, because it only relies on _local_ context.\n",
    "\n",
    "An Idea: why not simply count how many times a word occurs close to another word. As in the case of word2vec we can \n",
    "create a sliding window of a fixed size and count how words occur together in that window. This will capture \n",
    "semantic and syntactic information.\n",
    "\n",
    "\"The car parked by the bank.\"\n",
    "\n",
    "Is \"The\" special in the context of \"car\" or \"bank\"?\n",
    "\n",
    "As word2vec, GloVe relies on a context window of fixed width to define a co-occurrence matrix of all tokens.\n",
    "\n",
    "For example the sentence \"The car parked by the bank.\" with a window size 1 will have the following co-occurrence matrix.\n",
    "\n",
    "\n",
    "|        | The | car | parked | by  | bank |\n",
    "|--------|-----|-----|--------|-----|------|\n",
    "| The    | 0   | 1   | 0      | 1   | 1    |\n",
    "| car    | 1   | 0   | 1      | 0   | 0    |\n",
    "| parked | 0   | 1   | 0      | 1   | 0    |\n",
    "| by     | 1   | 0   | 1      | 0   | 0    |\n",
    "| bank   | 1   | 0   | 0      | 0   | 0    |\n",
    "\n",
    "This matrix provides representations of the words in terms of co-occurrence. Howevere, there are several problems with this\n",
    "representation.\n",
    "\n",
    "- Sparse and high dimensional\n",
    "- The size of the vectors is not fixed, because it dependes on the size of the vocabulary.\n",
    "\n",
    "We can mitigate these problems by \"compressing\" the co-occurence vectors. How?\n"
   ],
   "metadata": {
    "collapsed": false
   },
   "id": "4a86d06a46c3e09f"
  },
  {
   "cell_type": "markdown",
   "source": [
    "Instead of using SVD to reduce dimensionality, Pennington et al. (2014) propose to model the counts in the \n",
    "co-occurrence matrix using word representations. \n",
    "\n",
    "Pennington, J., Socher, R. and Manning, C. (2014) ‘Glove: Global Vectors for Word Representation’, in Proceedings of the 2014 Conference on Empirical Methods in Natural Language Processing (EMNLP). Proceedings of the 2014 Conference on Empirical Methods in Natural Language Processing (EMNLP), Doha, Qatar: Association for Computational Linguistics, pp. 1532–1543. Available at: https://doi.org/10.3115/v1/D14-1162."
   ],
   "metadata": {
    "collapsed": false
   },
   "id": "756a8a3f17ff28d8"
  },
  {
   "cell_type": "markdown",
   "source": [
    "\n",
    "The crucial idea of their research is to model **ratios** of conditional probabilities.\n",
    "\n",
    "| Prob. and Prob. Ratio              | k = solid          | k = gas            | k = water          | k = random         |\n",
    "|------------------------------------|--------------------|--------------------|--------------------|--------------------|\n",
    "| P(k &#124; ice)                    | $2 \\times 10^{-4}$ | $6\\times 10^{-5}$  | $3 \\times 10^{-3}$ | $2 \\times 10^{-7}$ |\n",
    "| P(k &#124; steam)                  | $2 \\times 10^{-5}$ | $6 \\times 10^{-4}$ | $3 \\times 10^{-3}$ | $2 \\times 10^{-7}$ |\n",
    "| P(k &#124; ice) /P(k &#124; steam) | $10$               | $1/10$             | $1$                | $1$                |\n"
   ],
   "metadata": {
    "collapsed": false
   },
   "id": "9467ce8b0a19029a"
  },
  {
   "cell_type": "markdown",
   "source": [
    "Let $X_{ij}$ be the co-occurrence count of words $i$ and $j$. The number of occurrences of word $j$ is then $\\sum_{j = 1}^{V} X_{ij}$.\n",
    "\n",
    "The conditional frequency of observing word $i$ given word $j$ is\n",
    "\n",
    "$$\n",
    "P(j | i) = X(i,j) / X_{i} \n",
    "$$\n",
    "\n",
    "They propose a log-linear model for the conditional probabilities\n",
    "\n",
    "$$\n",
    "w_i \\cdot w_j = \\log P(i|j) \\\\\n",
    "$$\n",
    "\n",
    "\n",
    "Therefore, the ratio log ratio of the probabilities equals the dot product of a context word vector and the difference between the two word vectors.\n",
    "\n",
    "$$\n",
    "\\tilde{w}_k \\cdot (w_i - w_j) = w_k \\cdot w_i - w_k \\cdot w_j = \\log P(k|i) - \\log P(k | j) \n",
    "$$\n",
    "\n",
    "$$\n",
    "\\tilde{w}_k \\cdot w_i = \\log(X_{ik} / X_i) = \\log X_{ik}- \\log X_i\n",
    "$$\n",
    "\n",
    "The loss function of their model penalizes deviations between the dot product of a word and a context word representation\n",
    "\n",
    "$$\n",
    "J = \\sum_{i,j = 1}^{V} f(X_{ij})(w_i \\cdot \\tilde{w_j} + b_i + \\tilde{b}_j - \\log X_{ij})^2\n",
    "$$\n",
    "\n",
    "where $F(X_{ij})$ is used to clip high counts, e.g. resulting from syntactic rules.\n"
   ],
   "metadata": {
    "collapsed": false
   },
   "id": "9f5ae62e125e6e58"
  }
 ],
 "metadata": {
  "kernelspec": {
   "display_name": "Python 3",
   "language": "python",
   "name": "python3"
  },
  "language_info": {
   "codemirror_mode": {
    "name": "ipython",
    "version": 2
   },
   "file_extension": ".py",
   "mimetype": "text/x-python",
   "name": "python",
   "nbconvert_exporter": "python",
   "pygments_lexer": "ipython2",
   "version": "2.7.6"
  }
 },
 "nbformat": 4,
 "nbformat_minor": 5
}
