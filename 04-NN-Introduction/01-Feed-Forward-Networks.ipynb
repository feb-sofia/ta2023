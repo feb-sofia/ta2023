{
 "cells": [
  {
   "cell_type": "code",
   "execution_count": 2,
   "id": "initial_id",
   "metadata": {
    "collapsed": true,
    "ExecuteTime": {
     "end_time": "2023-12-13T15:24:51.182302294Z",
     "start_time": "2023-12-13T15:24:51.027033382Z"
    }
   },
   "outputs": [],
   "source": [
    "import matplotlib.pyplot as plt\n",
    "import numpy as np\n",
    "import pandas as pd\n",
    "\n",
    "np.random.seed(40)"
   ]
  },
  {
   "cell_type": "markdown",
   "source": [
    "# Introduction\n",
    "\n",
    "The neural network models were inspired by the human brain and present (XXX, w) a mathematical model of the brain (XXX, w).\n",
    "\n",
    "![Single perceptron example](./01-single-perceptron-example-1.png)"
   ],
   "metadata": {
    "collapsed": false
   },
   "id": "8ac411ae526fecb2"
  },
  {
   "cell_type": "markdown",
   "source": [
    "The following data table is an example of an input with three features (columns) and four samples (rows)."
   ],
   "metadata": {
    "collapsed": false
   },
   "id": "de061cea73843ffb"
  },
  {
   "cell_type": "code",
   "execution_count": 3,
   "outputs": [
    {
     "data": {
      "text/plain": "   x0   x1  x2\n0   1  1.0   2\n1   1  2.5   3\n2   1  8.0   4\n3   1  7.0   5",
      "text/html": "<div>\n<style scoped>\n    .dataframe tbody tr th:only-of-type {\n        vertical-align: middle;\n    }\n\n    .dataframe tbody tr th {\n        vertical-align: top;\n    }\n\n    .dataframe thead th {\n        text-align: right;\n    }\n</style>\n<table border=\"1\" class=\"dataframe\">\n  <thead>\n    <tr style=\"text-align: right;\">\n      <th></th>\n      <th>x0</th>\n      <th>x1</th>\n      <th>x2</th>\n    </tr>\n  </thead>\n  <tbody>\n    <tr>\n      <th>0</th>\n      <td>1</td>\n      <td>1.0</td>\n      <td>2</td>\n    </tr>\n    <tr>\n      <th>1</th>\n      <td>1</td>\n      <td>2.5</td>\n      <td>3</td>\n    </tr>\n    <tr>\n      <th>2</th>\n      <td>1</td>\n      <td>8.0</td>\n      <td>4</td>\n    </tr>\n    <tr>\n      <th>3</th>\n      <td>1</td>\n      <td>7.0</td>\n      <td>5</td>\n    </tr>\n  </tbody>\n</table>\n</div>"
     },
     "execution_count": 3,
     "metadata": {},
     "output_type": "execute_result"
    }
   ],
   "source": [
    "inputs = pd.DataFrame({\n",
    "    \"x0\": [1, 1, 1, 1],  # bias\n",
    "    \"x1\": [1, 2.5, 8, 7],\n",
    "    \"x2\": [2, 3, 4, 5],\n",
    "})\n",
    "inputs"
   ],
   "metadata": {
    "collapsed": false,
    "ExecuteTime": {
     "end_time": "2023-12-13T15:24:51.203740368Z",
     "start_time": "2023-12-13T15:24:51.181825401Z"
    }
   },
   "id": "9670d6e9a056091e"
  },
  {
   "cell_type": "code",
   "execution_count": 4,
   "outputs": [
    {
     "data": {
      "text/plain": "array([0.1, 2. , 3. , 2. ])"
     },
     "execution_count": 4,
     "metadata": {},
     "output_type": "execute_result"
    }
   ],
   "source": [
    "target = np.array([0.1, 2, 3, 2])\n",
    "target"
   ],
   "metadata": {
    "collapsed": false,
    "ExecuteTime": {
     "end_time": "2023-12-13T15:24:51.268862766Z",
     "start_time": "2023-12-13T15:24:51.195589457Z"
    }
   },
   "id": "6bbf01d5edc328a9"
  },
  {
   "cell_type": "code",
   "execution_count": 5,
   "outputs": [
    {
     "data": {
      "text/plain": "array([0.1, 0.2, 0.3])"
     },
     "execution_count": 5,
     "metadata": {},
     "output_type": "execute_result"
    }
   ],
   "source": [
    "w = np.array([0.1, 0.2, 0.3])\n",
    "w"
   ],
   "metadata": {
    "collapsed": false,
    "ExecuteTime": {
     "end_time": "2023-12-13T15:24:51.295903865Z",
     "start_time": "2023-12-13T15:24:51.256875304Z"
    }
   },
   "id": "1e234b010fe5ca11"
  },
  {
   "cell_type": "markdown",
   "source": [
    "The neuron receives the weighted sum of the inputs for each sample (observation).\n",
    "\n",
    "$$\n",
    "z = x_1 w_1 + x_2 w_2 + x_3 w_3\n",
    "$$\n",
    "\n",
    "The weights describe the importance of the inputs for the neuron.\n",
    "\n",
    "After receiving the weighted sum of the inputs, the neuron passes this sum to an activation function. For now, let's consider the identity activation function, i.e. the neuron simply passes its net value forward.\n"
   ],
   "metadata": {
    "collapsed": false
   },
   "id": "bd32c7aeaa899a00"
  },
  {
   "cell_type": "code",
   "execution_count": 6,
   "outputs": [],
   "source": [
    "sample1 = inputs.iloc[0]"
   ],
   "metadata": {
    "collapsed": false,
    "ExecuteTime": {
     "end_time": "2023-12-13T15:24:51.408453751Z",
     "start_time": "2023-12-13T15:24:51.270797845Z"
    }
   },
   "id": "f6fe7ffb5a79fbf5"
  },
  {
   "cell_type": "code",
   "execution_count": 7,
   "outputs": [
    {
     "data": {
      "text/plain": "0.9"
     },
     "execution_count": 7,
     "metadata": {},
     "output_type": "execute_result"
    }
   ],
   "source": [
    "z = np.sum(sample1 * w)\n",
    "z"
   ],
   "metadata": {
    "collapsed": false,
    "ExecuteTime": {
     "end_time": "2023-12-13T15:24:51.443326576Z",
     "start_time": "2023-12-13T15:24:51.331238951Z"
    }
   },
   "id": "23292e22a626b21e"
  },
  {
   "cell_type": "markdown",
   "source": [
    "Alternatively, we can compute the dot product of the weights and the inputs as follows"
   ],
   "metadata": {
    "collapsed": false
   },
   "id": "5723b1cc5bd607b6"
  },
  {
   "cell_type": "code",
   "execution_count": 8,
   "outputs": [
    {
     "data": {
      "text/plain": "0.9"
     },
     "execution_count": 8,
     "metadata": {},
     "output_type": "execute_result"
    }
   ],
   "source": [
    "sample1.dot(w)"
   ],
   "metadata": {
    "collapsed": false,
    "ExecuteTime": {
     "end_time": "2023-12-13T15:24:51.501011190Z",
     "start_time": "2023-12-13T15:24:51.430979177Z"
    }
   },
   "id": "113fb6c2f28a9651"
  },
  {
   "cell_type": "code",
   "execution_count": 8,
   "outputs": [],
   "source": [],
   "metadata": {
    "collapsed": false,
    "ExecuteTime": {
     "end_time": "2023-12-13T15:24:51.564518697Z",
     "start_time": "2023-12-13T15:24:51.460145109Z"
    }
   },
   "id": "a45256296336ebb0"
  },
  {
   "cell_type": "markdown",
   "source": [
    "More generally, for arbitrary weights and inputs, the *net value* of the neuron is given by the dot product of the weights and the inputs. Its output value if the net value passed through its activation function.\n",
    "\n",
    "![Single perceptron example](./01-single-perceptron-1.png)"
   ],
   "metadata": {
    "collapsed": false
   },
   "id": "22fb11b9603ff7bf"
  },
  {
   "cell_type": "markdown",
   "source": [
    "## Loss function\n",
    "\n",
    "In order to train the neuron, we need a loss function that measures the error of the prediction. For regression problems, the squared residual is often used. Once you have a loss function, you can use gradient descent to find the weights that minimize the loss function.\n",
    "\n",
    "Let's see how the squared residual looks like for our example. For the sake of simplicity, we will subsume the bias term in the weights, and we will count from one (a feature with index 1 will be the feature corresponding to the bias weight).\n",
    "\n",
    "We are already familiar with the mean squared error (MSE) loss function from basic linear model courses. Given $n$ samples (we called these observations in statistics), the MSE is defined as the average squared residual.\n",
    "\n",
    "$$\n",
    "\\text{MSE} = \\frac{1}{n} \\sum_{i = 1}^{n} (y_i - \\hat{y}_i)^2\n",
    "$$\n"
   ],
   "metadata": {
    "collapsed": false
   },
   "id": "2c021a54647e68a0"
  },
  {
   "cell_type": "code",
   "execution_count": 9,
   "outputs": [
    {
     "data": {
      "text/plain": "0.6400000000000001"
     },
     "execution_count": 9,
     "metadata": {},
     "output_type": "execute_result"
    }
   ],
   "source": [
    "# If we have one sample (observation), the MSE is simply the squared residual\n",
    "\n",
    "y_hat = sample1.dot(w)\n",
    "(target[0] - y_hat) ** 2"
   ],
   "metadata": {
    "collapsed": false,
    "ExecuteTime": {
     "end_time": "2023-12-13T15:24:51.585041258Z",
     "start_time": "2023-12-13T15:24:51.524075860Z"
    }
   },
   "id": "83e54946a5c776d5"
  },
  {
   "cell_type": "code",
   "execution_count": 10,
   "outputs": [
    {
     "data": {
      "text/plain": "0.475"
     },
     "execution_count": 10,
     "metadata": {},
     "output_type": "execute_result"
    }
   ],
   "source": [
    "# For multiple samples, we need to average the squared residuals\n",
    "1 / 4 * np.sum((target - inputs.dot(w)) ** 2)"
   ],
   "metadata": {
    "collapsed": false,
    "ExecuteTime": {
     "end_time": "2023-12-13T15:24:51.663294852Z",
     "start_time": "2023-12-13T15:24:51.586010336Z"
    }
   },
   "id": "88c68cf0eb2a65f4"
  },
  {
   "cell_type": "markdown",
   "source": [
    "In linear regression analysis, we chose the model coefficients that minimize the MSE. As the model was simple enough, we could derive a formula for the optimal coefficients.\n",
    "\n",
    "In the case of neural networks, the model is more complex, and we cannot derive a formula for the optimal weights. Instead, we will use gradient descent to find the optimal weights.\n",
    "\n",
    "The gradient descent algorithm is an iterative algorithm that starts with an initial guess for the weights and then updates the weights in the direction of the negative gradient of the loss function. The gradient is the vector of partial derivatives of the loss function with respect to the weights.\n",
    "\n",
    "$$\n",
    "\\nabla_w J(w) = \\left(\\frac{\\partial J(w)}{\\partial w_1}, \\ldots, \\frac{\\partial J(w)}{\\partial w_p}\\right)\n",
    "$$\n",
    "To illustrate the gradient descent algorithm, let's compute the gradient of the MSE loss function for our example.\n",
    "\n",
    "$$\n",
    "\\begin{align}\n",
    "\\frac{\\partial J(w)}{\\partial w} & = \\frac{\\partial}{\\partial w} \\frac{1}{n} \\sum_{i = 1}^{n} (y_i - \\hat{y}_i)^2 \\\\\n",
    "& = \\frac{1}{n} \\sum_{i = 1}^{n} \\frac{\\partial}{\\partial w} (y_i - \\hat{y}_i)^2 \\\\\n",
    "& = \\frac{1}{n} \\sum_{i = 1}^{n} 2(y_i - \\hat{y}_i) \\frac{\\partial}{\\partial w} (y_i - \\hat{y}_i) \\\\\n",
    "& = \\frac{1}{n} \\sum_{i = 1}^{n} 2(y_i - \\hat{y}_i) \\frac{\\partial}{\\partial w} (y_i - x_i w) \\\\\n",
    "& = \\frac{1}{n} \\sum_{i = 1}^{n} 2(y_i - \\hat{y}_i) (-x_i) \\\\\n",
    "& = \\frac{1}{n} \\sum_{i = 1}^{n} -2(y_i - \\hat{y}_i) x_i \\\\\n",
    "\\end{align}\n",
    "$$\n",
    "We can write the sum in a matrix form as follows:\n",
    "\n",
    "$$\n",
    "\\frac{\\partial J(w)}{\\partial w} = -\\frac{2}{n} X^T(y - \\hat{y})\n",
    "$$\n",
    "Setting this derivative to zero and solving for $w$ gives us the least squares formula for the optimal weights:\n",
    "\n",
    "$$\n",
    "w = (X^T X)^{-1} X^T y\n",
    "$$\n",
    "\n",
    "Here we will find the optimal weights using gradient descent. We will start with an initial guess for the weights and then update the weights in the direction of the negative gradient of the loss function.\n",
    "\n",
    "$$\n",
    "w^{k + 1} = w^{k} - \\eta \\frac{\\partial J(w)}{\\partial w}\n",
    "$$\n",
    "\n",
    "where $\\eta$ is a hyperparameter of the algorithm called the learning rate.\n"
   ],
   "metadata": {
    "collapsed": false
   },
   "id": "a9f6ec2e8e26dfd"
  },
  {
   "cell_type": "code",
   "execution_count": 11,
   "outputs": [
    {
     "name": "stdout",
     "output_type": "stream",
     "text": [
      "Initial weights (random)\n",
      "[0.40768703 0.05536604 0.78853488]\n",
      "Epoch 0, loss: 3.2752610699915605\n",
      "Epoch 100, loss: 0.360109817770056\n",
      "Epoch 200, loss: 0.35090575065311397\n",
      "Epoch 300, loss: 0.34881958131011137\n",
      "Epoch 400, loss: 0.347148837880945\n",
      "Epoch 500, loss: 0.345760359879551\n",
      "Epoch 600, loss: 0.3446058587102899\n",
      "Epoch 700, loss: 0.3436458992939786\n",
      "Epoch 800, loss: 0.3428476998664324\n",
      "Epoch 900, loss: 0.3421840027182179\n",
      "Epoch 1000, loss: 0.3416321432588461\n",
      "Epoch 1100, loss: 0.3411732760424997\n",
      "Epoch 1200, loss: 0.34079173121498657\n",
      "Epoch 1300, loss: 0.34047447940397024\n",
      "Epoch 1400, loss: 0.34021068677900085\n",
      "Epoch 1500, loss: 0.3399913450870958\n",
      "Epoch 1600, loss: 0.33980896402995553\n",
      "Epoch 1700, loss: 0.3396573154778049\n",
      "Epoch 1800, loss: 0.33953122078502307\n",
      "Epoch 1900, loss: 0.3394263739445998\n",
      "Epoch 2000, loss: 0.33933919454232464\n",
      "Epoch 2100, loss: 0.33926670548924204\n",
      "Epoch 2200, loss: 0.3392064313570535\n",
      "Epoch 2300, loss: 0.33915631384473177\n",
      "Epoch 2400, loss: 0.3391146414896077\n",
      "Epoch 2500, loss: 0.33907999122264326\n",
      "Epoch 2600, loss: 0.3390511797720505\n",
      "Epoch 2700, loss: 0.339027223255753\n",
      "Epoch 2800, loss: 0.3390073035828\n",
      "Epoch 2900, loss: 0.33899074051638295\n",
      "Epoch 3000, loss: 0.3389769684444323\n",
      "Epoch 3100, loss: 0.3389655170645349\n",
      "Epoch 3200, loss: 0.33895599532357784\n",
      "Epoch 3300, loss: 0.33894807806367877\n",
      "Epoch 3400, loss: 0.3389414949183697\n",
      "Epoch 3500, loss: 0.33893602107985643\n",
      "Epoch 3600, loss: 0.3389314696220557\n",
      "Epoch 3700, loss: 0.3389276851172584\n",
      "Epoch 3800, loss: 0.33892453832843017\n",
      "Epoch 3900, loss: 0.33892192179589536\n",
      "Epoch 4000, loss: 0.33891974616769804\n",
      "Epoch 4100, loss: 0.33891793714832236\n",
      "Epoch 4200, loss: 0.33891643296157486\n",
      "Epoch 4300, loss: 0.33891518224099026\n",
      "Epoch 4400, loss: 0.33891414227571764\n",
      "Epoch 4500, loss: 0.33891327755198836\n",
      "Epoch 4600, loss: 0.33891255854035623\n",
      "Epoch 4700, loss: 0.3389119606872969\n",
      "Epoch 4800, loss: 0.3389114635767293\n",
      "Epoch 4900, loss: 0.33891105023282697\n",
      "Final weights\n",
      "x0    0.640590\n",
      "x1    0.337125\n",
      "x2   -0.121443\n",
      "dtype: float64\n"
     ]
    }
   ],
   "source": [
    "model_lireg = {\n",
    "    \"w1\": np.random.rand(3)\n",
    "}\n",
    "\n",
    "print(\"Initial weights (random)\")\n",
    "print(model_lireg[\"w1\"])\n",
    "\n",
    "\n",
    "def forward(inp, model):\n",
    "    w1 = model[\"w1\"]\n",
    "    prediction = inp.dot(w1)\n",
    "    return prediction\n",
    "\n",
    "\n",
    "def loss(actual, prediction):\n",
    "    return np.mean((actual - prediction) ** 2)\n",
    "\n",
    "\n",
    "def backward(inp, actual, prediction):\n",
    "    return -2 / len(inp) * inp.T.dot(actual - prediction)\n",
    "\n",
    "\n",
    "def update(model, gradient, learning_rate):\n",
    "    model[\"w1\"] = model[\"w1\"] - learning_rate * gradient\n",
    "\n",
    "\n",
    "def train(inp, actual, model, learning_rate, epochs):\n",
    "    for epoch in range(epochs):\n",
    "        prediction = forward(inp, model)\n",
    "        gradient = backward(inp, actual, prediction)\n",
    "        update(model, gradient, learning_rate)\n",
    "        if epoch % 100 == 0:\n",
    "            print(f\"Epoch {epoch}, loss: {loss(actual, prediction)}\")\n",
    "    return model\n",
    "\n",
    "\n",
    "train(inp=inputs, actual=target, model=model_lireg, learning_rate=0.01, epochs=int(5e3))\n",
    "print(\"Final weights\")\n",
    "print(model_lireg[\"w1\"])\n"
   ],
   "metadata": {
    "collapsed": false,
    "ExecuteTime": {
     "end_time": "2023-12-13T15:24:55.488950076Z",
     "start_time": "2023-12-13T15:24:51.640709388Z"
    }
   },
   "id": "48b158c8ae23e840"
  },
  {
   "cell_type": "markdown",
   "source": [
    "For comparison, let's see how the sklearn implementation of linear regression performs on the same data."
   ],
   "metadata": {
    "collapsed": false
   },
   "id": "5b8b7d2cc948c016"
  },
  {
   "cell_type": "code",
   "execution_count": 12,
   "outputs": [
    {
     "data": {
      "text/plain": "array([ 0.64611307,  0.33780919, -0.12385159])"
     },
     "execution_count": 12,
     "metadata": {},
     "output_type": "execute_result"
    }
   ],
   "source": [
    "from sklearn.linear_model import LinearRegression\n",
    "\n",
    "# We suppress the intercept in the sklearn model, because we already have a constant term in the inputs\n",
    "model_sklearn = LinearRegression(fit_intercept=False)\n",
    "model_sklearn.fit(inputs, target)\n",
    "model_sklearn.coef_"
   ],
   "metadata": {
    "collapsed": false,
    "ExecuteTime": {
     "end_time": "2023-12-13T15:24:55.532700734Z",
     "start_time": "2023-12-13T15:24:55.486838964Z"
    }
   },
   "id": "8c1e87da6c373a81"
  },
  {
   "cell_type": "markdown",
   "source": [
    "As you can see, the weights are very similar to the ones we found with gradient descent, however, the sklearn model is much faster. The speed of OLS comes at the cost of not being able to handle more complex models.\n",
    "\n",
    "Before we move on, let's see how the logistic regression model can be implemented as a neural network."
   ],
   "metadata": {
    "collapsed": false
   },
   "id": "38af16c3ac579703"
  },
  {
   "cell_type": "markdown",
   "source": [
    "For binary classification problems, the logistic regression model assumes that the target variable is distributed according a binomial distribution with one trial ($n = 1$, Bernoulli distribution). For simplicity, we will assume that the design matrix $\\mathbf{X}$ includes a constant term.\n",
    "\n",
    "$$\n",
    "i = 1,\\ldots, N \\quad \\text{observations}\\\\\n",
    "p_i = \\text{Pr}(y_i = 1) \\\\\n",
    "y_i \\sim \\text{Binom}(n = 1, p_i) \\\\\n",
    "\\text{logit}(p_i) = \\mathbf{X}_{N\\times K} \\beta_{K \\times 1}\n",
    "$$\n",
    "\n",
    "The logit function is defined as: \n",
    "\n",
    "$$\n",
    "f(p) = \\log \\frac{p}{1 - p}\n",
    "$$\n",
    "\n",
    "Assuming independence, the likelihood for this distribution is given by\n",
    "\n",
    "$$\n",
    "L(\\beta) = \\prod \\hat{p}_{i}^{y_i}(1 - \\hat{p}_{i})^{1 - y_i}\n",
    "$$\n",
    "\n",
    "and therefore the log-likelihood is\n",
    "\n",
    "$$\n",
    "l(\\beta) = \\sum_{i = 1}^{n} \\log\\left(\\hat{p}_{i}^{y_i}(1 - \\hat{p}_{i})^{1 - y_i}\\right) = \\sum_{i = 1}^{n}\\left(y_i \\log(\\hat{p}_{i}) + (1 - y_i)\\log(1 - \\hat{p}_{i})\\right)\n",
    "$$\n",
    "\n",
    "Given an estimate $\\hat{\\beta}$ for $\\beta$, the predicted probabilities are:\n",
    "\n",
    "$$\n",
    "\\text{logit}(\\hat{p}_i) = \\mathbf{X}\\beta\n",
    "$$\n",
    "\n",
    "\n",
    "If we set it equal to some value $x$, solving for $p$ yields:\n",
    "\n",
    "$$\n",
    "\\begin{align}\n",
    "\\frac{p}{1 - p} & = e^x \\\\\n",
    "p & = (1 - p)e^x \\\\\n",
    "p(1 + e^x) & = e^x\\\\\n",
    "p & = \\frac{e^x}{1 + e^x} \\frac{e^{-x}}{e^{-x}} \\\\\n",
    "p & = \\frac{1}{1 + e^{-x}}\n",
    "\\end{align}\n",
    "$$\n",
    "\n",
    "Therefore, the predicted probabilities are\n",
    "\n",
    "\n",
    "$$\n",
    "\\hat{p} = \\frac{1}{1 + e^{-(\\mathbf{X}\\beta)}\n",
    "$$\n",
    "\n",
    "The last function is a special case of the logistic function and is often called the *sigmoid* function.\n",
    "\n",
    "Given a neural network with one output neuron with sigmoid activation the prediction of the network will be\n",
    "identical to the ones of the logistic regression.\n",
    "\n",
    "$$\n",
    "\\hat{p} = \\sigma(\\mathbf{X} w) = \\frac{1}{1 + e^{-(\\mathbf{X} w)}\n",
    "$$\n",
    "\n",
    "\n",
    "An often used activation function for classification tasks is the sigmoid function (a special case of the logistic function).\n",
    "\n",
    "$$\n",
    "\\sigma(x) = \\frac{1}{1 + e^{-x}}\n",
    "$$\n",
    "\n",
    "Using this notation, we can write the prediction of the logistic regression as\n",
    "\n",
    "$$\n",
    "\\hat{p} = \\sigma(\\mathbf{X} \\beta)\n",
    "$$\n",
    "\n",
    "## Note\n",
    "\n",
    "More generally, the logistic function is defined as: \n",
    "\n",
    "$$\n",
    "f(x) = \\frac{M}{1 - e^{(x - \\mu) / s}}\n",
    "$$\n",
    "\n",
    "The logistic function maps $x \\in \\mathbb{R}$ to the interval $(0, M)$. Thus, the sigmoid function is a special case with $M = 1, s = 1$, and $\\mu = 0$.\n"
   ],
   "metadata": {
    "collapsed": false
   },
   "id": "754d2f3de9316540"
  },
  {
   "cell_type": "code",
   "execution_count": 13,
   "outputs": [
    {
     "data": {
      "text/plain": "<Figure size 640x480 with 1 Axes>",
      "image/png": "[encoded data removed]"
     },
     "metadata": {},
     "output_type": "display_data"
    }
   ],
   "source": [
    "# An illustration of the logistic function\n",
    "\n",
    "x = np.linspace(-10, 10, num=50)\n",
    "M = 2\n",
    "s = 1\n",
    "mu = 2\n",
    "\n",
    "# Sigmoid: M = 1, s = 1, mu = 0\n",
    "\n",
    "y = M / (1 + np.exp(-(x - mu) / s))\n",
    "\n",
    "plt.plot(x, y, \"-\")\n",
    "plt.show()"
   ],
   "metadata": {
    "collapsed": false,
    "ExecuteTime": {
     "end_time": "2023-12-13T15:24:55.739323357Z",
     "start_time": "2023-12-13T15:24:55.533620384Z"
    }
   },
   "id": "b9317aa6fb89bbeb"
  },
  {
   "cell_type": "markdown",
   "source": [
    "Let's look at the same architecture and data, except that we will change the target variable to 0-1 vector. "
   ],
   "metadata": {
    "collapsed": false
   },
   "id": "352d1cd6c5a51de"
  },
  {
   "cell_type": "code",
   "execution_count": 14,
   "outputs": [
    {
     "data": {
      "text/plain": "array([1, 0, 1, 0])"
     },
     "execution_count": 14,
     "metadata": {},
     "output_type": "execute_result"
    }
   ],
   "source": [
    "target = np.array([1, 0, 1, 0])\n",
    "target"
   ],
   "metadata": {
    "collapsed": false,
    "ExecuteTime": {
     "end_time": "2023-12-13T15:24:55.817131474Z",
     "start_time": "2023-12-13T15:24:55.741785145Z"
    }
   },
   "id": "1de22278f5d0032a"
  },
  {
   "cell_type": "markdown",
   "source": [
    "# Entropy and Cross-Entropy\n",
    "\n",
    "In evaluating a model's accuracy, we need a measure between our model's prediction and a perfect (out-of-sample) prediction. This measure should be able to account for the fact that some outcomes (targets) are easier to predict than others. Consider the task of predicting the weather (sunshine/rain) in a deser, where it almost never rains. A model that always predicts sunshine will be correct most of the time, but it is not a very useful model as you will always be surprised when it rains.\n",
    "\n",
    "The *entropy* of a distribution is a measure of its uncertainty that has four properties\n",
    "\n",
    "- It is zero if the distribution is degenerate (i.e. the outcome is always sunshine)\n",
    "- It is continuous, so a small change in the distribution will result in a small change in the entropy\n",
    "- It is higher for distributions with can produce more different outcomes than for distributions that can produce fewer outcomes\n",
    "- It is additive, so the entropy of a distribution is the sum of the entropies of its components. This means that if we first measure the uncertainty about being male/female and then measure the uncertainty about being a soccer fan or not, the uncertainty of the combinations (male/soccer fan, male/not soccer fan, female/soccer-fan, female/not soccer fan) should the sum of the two uncertainties.\n",
    "\n",
    "It is easy to show that the entropy defined as the expected value of the log-probabilities of the outcomes satisfies these four properties.\n",
    "\n",
    "$$\n",
    "H(p) = \\sum_{i} p_i \\log p_i\n",
    "$$\n",
    "\n",
    "So the entropy gives us the uncertainty when predicting outcomes using the true distribution. In classification problems, however, we don't know this distribution. Instead, we rely on a model to produce probabilities that we hope are close to the true probabilities. We can ask: how much does the uncertainty increase if we use the wrong (the model's) probabilities (Q) instead of the true probabilities? This is the *cross-entropy*.\n",
    "\n",
    "$$\n",
    "H(P, Q) = H(p) + \\text{KL}(p, q)\n",
    "$$\n",
    "\n",
    "In the above expression, H(p) is the entropy of the data-generating distribution, and KL(p, q) is the Kullback-Leibler divergence between the data-generating distribution and the model distribution. The KL divergence is always non-negative, and it is zero if the two distributions are identical. Therefore, the cross-entropy is always greater than or equal to the entropy of the data-generating distribution.\n",
    "\n",
    "$$\n",
    "\\text{KL} = \\sum_{i} p_i (\\log p_i - \\log q_i) = \\sum_{i} p_i \\log \\frac{p_i}{q_i}\n",
    "$$\n",
    "\n",
    "The KL-divergence describes how different P and Q are on average (in units of entropy). You have likely encountered a scaled version of it when studying generalized linear models (GLM) under the name of *deviance*. The deviance is the KL-divergence between the data-generating distribution and the model distribution, scaled by a factor of two.  \n"
   ],
   "metadata": {
    "collapsed": false
   },
   "id": "ad1abdaeac479973"
  },
  {
   "cell_type": "code",
   "execution_count": 15,
   "outputs": [
    {
     "data": {
      "text/plain": "-0.3250829733914482"
     },
     "execution_count": 15,
     "metadata": {},
     "output_type": "execute_result"
    }
   ],
   "source": [
    "p = np.array([0.1, 0.9])\n",
    "q = np.array([0.1, 0.9])\n",
    "\n",
    "# Cross entropy\n",
    "ce = np.sum(p * np.log(q))\n",
    "ce"
   ],
   "metadata": {
    "collapsed": false,
    "ExecuteTime": {
     "end_time": "2023-12-13T15:24:55.818879617Z",
     "start_time": "2023-12-13T15:24:55.784934335Z"
    }
   },
   "id": "e0c7036937798a2f"
  },
  {
   "cell_type": "code",
   "execution_count": 16,
   "outputs": [
    {
     "data": {
      "text/plain": "-0.3250829733914482"
     },
     "execution_count": 16,
     "metadata": {},
     "output_type": "execute_result"
    }
   ],
   "source": [
    "# Entropy of p\n",
    "ep = np.sum(p * np.log(p))\n",
    "ep"
   ],
   "metadata": {
    "collapsed": false,
    "ExecuteTime": {
     "end_time": "2023-12-13T15:24:55.820228927Z",
     "start_time": "2023-12-13T15:24:55.785282424Z"
    }
   },
   "id": "3a7431b21cbaaf71"
  },
  {
   "cell_type": "code",
   "execution_count": 17,
   "outputs": [
    {
     "data": {
      "text/plain": "0.0"
     },
     "execution_count": 17,
     "metadata": {},
     "output_type": "execute_result"
    }
   ],
   "source": [
    "# KL divergence\n",
    "ce - ep"
   ],
   "metadata": {
    "collapsed": false,
    "ExecuteTime": {
     "end_time": "2023-12-13T15:24:55.821515955Z",
     "start_time": "2023-12-13T15:24:55.785544768Z"
    }
   },
   "id": "137e3391192341d"
  },
  {
   "cell_type": "markdown",
   "source": [
    "The cross-entropy (CE) loss is often used classification problems. Given a model that produces predicted probabilities for $c = 1,\\ldots, C$ classes $\\hat{y}_1, \\ldots, \\hat{y}_C$ (that sum to one) and true probabilities $y_1, \\ldots, y_C$, the CE loss for a single observation is defined as\n",
    "\n",
    "$$\n",
    "\\xi(y_i, \\hat{y}_i) = -\\sum_{c = 1}^{C} y_{ci} \\log \\hat{y}_{ci}\n",
    "$$\n",
    "\n",
    "In classification problems like the logistic model, where each observation belongs to its true class with probability 1, the CE loss is simply the negative log-likelihood of the data. The vectors $y_i$ containing the true probability distribution are called *one-hot* encoded vectors.\n",
    "\n",
    "For example, let's have a problem with three classes ($C = 3$) and four observations ($N = 3$). The first and the last observations belong to the first class, the second observation belongs to the second class, and the third observation belongs to the third class.\n",
    "\n",
    "$$\n",
    "y_1 = \\begin{pmatrix} 1 \\\\ 0 \\\\ 0 \\end{pmatrix} \\quad \\\\\n",
    "y_2 = \\begin{pmatrix} 0 \\\\ 1 \\\\ 0 \\end{pmatrix} \\quad \\\\\n",
    "y_3 = \\begin{pmatrix} 0 \\\\ 0 \\\\ 1 \\end{pmatrix} \\quad \\\\\n",
    "y_4 = \\begin{pmatrix} 1 \\\\ 0 \\\\ 0 \\end{pmatrix} \\quad \\\\\n",
    "$$"
   ],
   "metadata": {
    "collapsed": false
   },
   "id": "3cae55249fc9f184"
  },
  {
   "cell_type": "code",
   "execution_count": 18,
   "outputs": [
    {
     "data": {
      "text/plain": "0.549833997312478"
     },
     "execution_count": 18,
     "metadata": {},
     "output_type": "execute_result"
    }
   ],
   "source": [
    "def sigmoid(x):\n",
    "    return 1 / (1 + np.exp(-x))\n",
    "\n",
    "\n",
    "sigmoid(0.2)"
   ],
   "metadata": {
    "collapsed": false,
    "ExecuteTime": {
     "end_time": "2023-12-13T15:24:55.832699759Z",
     "start_time": "2023-12-13T15:24:55.785731065Z"
    }
   },
   "id": "99ff41b791db6abd"
  },
  {
   "cell_type": "markdown",
   "source": [
    "Let's see how this could work with numpy."
   ],
   "metadata": {
    "collapsed": false
   },
   "id": "a72840f897c6950a"
  },
  {
   "cell_type": "code",
   "execution_count": 19,
   "outputs": [
    {
     "data": {
      "text/plain": "0.7109495026250039"
     },
     "execution_count": 19,
     "metadata": {},
     "output_type": "execute_result"
    }
   ],
   "source": [
    "# The net value of the neuron is the same as before\n",
    "z = sample1.dot(w)\n",
    "\n",
    "# The outputut of the neuron is now the predicted probability\n",
    "\n",
    "p_pred = sigmoid(z)\n",
    "p_pred"
   ],
   "metadata": {
    "collapsed": false,
    "ExecuteTime": {
     "end_time": "2023-12-13T15:24:55.941641481Z",
     "start_time": "2023-12-13T15:24:55.786008234Z"
    }
   },
   "id": "b92328eba0ac0ee7"
  },
  {
   "cell_type": "code",
   "execution_count": 20,
   "outputs": [
    {
     "data": {
      "text/plain": "0.3411538747320879"
     },
     "execution_count": 20,
     "metadata": {},
     "output_type": "execute_result"
    }
   ],
   "source": [
    "# The loss is the CE loss\n",
    "- target[0] * np.log(p_pred)"
   ],
   "metadata": {
    "collapsed": false,
    "ExecuteTime": {
     "end_time": "2023-12-13T15:24:55.943097317Z",
     "start_time": "2023-12-13T15:24:55.828954Z"
    }
   },
   "id": "4ab29ad5ae433ce4"
  },
  {
   "cell_type": "markdown",
   "source": [
    "## Homework\n",
    "\n",
    "Implement the gradient descent algorithm for the logistic regression model. Compare the results with the sklearn implementation.\n"
   ],
   "metadata": {
    "collapsed": false
   },
   "id": "aa387e3eaa8670b7"
  },
  {
   "cell_type": "markdown",
   "source": [
    "# Hidden layer classification network\n",
    "\n",
    "The problem of using only an output neuron is that it cannot accommodate non-linear relationships. We will take the moons dataset as an example.\n",
    "\n",
    "We will train a simple hidden layer neural network with one hidden layer with three neurons. The output layer will have two neurons with a softmax activation.\n",
    "\n",
    "![Simple network](https://peterroelants.github.io/images/neural_net_implementation/SimpleANN04.png)\n"
   ],
   "metadata": {
    "collapsed": false
   },
   "id": "60fd8d816df6e62d"
  },
  {
   "cell_type": "code",
   "execution_count": 21,
   "outputs": [
    {
     "data": {
      "text/plain": "<Figure size 640x480 with 1 Axes>",
      "image/png": "[encoded data removed]"
     },
     "metadata": {},
     "output_type": "display_data"
    }
   ],
   "source": [
    "from sklearn.datasets import make_moons\n",
    "\n",
    "X, y = make_moons(n_samples=200, noise=0.2, random_state=43)\n",
    "\n",
    "plt.scatter(X[:, 0], X[:, 1], c=y)\n",
    "plt.show()"
   ],
   "metadata": {
    "collapsed": false,
    "ExecuteTime": {
     "end_time": "2023-12-13T15:24:55.999057577Z",
     "start_time": "2023-12-13T15:24:55.829318195Z"
    }
   },
   "id": "132fdc465f46ee96"
  },
  {
   "cell_type": "markdown",
   "source": [
    "## The forward pass\n",
    "\n",
    "To produce predictions, we need to initialize the weights and then use these together with the inputs to calculate the predicted probabilities. This is called the forward pass. For simplicity, we will omit the bias terms.\n",
    "\n",
    "Let $\\mathbf{X}_{N\\times K}$ be a matrix of inputs.\n",
    "\n",
    "$$\n",
    "\\mathbf{X} = \\begin{pmatrix} \n",
    "x_{11} & x_{12} & \\ldots & x_{1K} \\\\\n",
    "x_{21} & x_{22} & \\ldots & x_{2K} \\\\\n",
    "\\vdots & \\vdots & \\ddots & \\vdots \\\\\n",
    "x_{N1} & x_{N2} & \\ldots & x_{NK} \\\\\n",
    "\\end{pmatrix}\n",
    "$$\n",
    "\n",
    "Let $\\mathbf{W}^{h}_{K\\times M}$ be the matrix of weights mapping the inputs to the hidden layer (with $M = 3$) neurons in our case. As we will consider two inputs $K = 2$.\n",
    "\n",
    "$$\n",
    "z^{h}_{N \\times M} = \\mathbf{X} \\mathbf{W}^{h}\n",
    "$$\n",
    "\n",
    "In our example we have two inputs and three neurons in the hidden layer. The net values of the hidden layer are given by\n",
    "\n",
    "\n",
    "Let's see this for a single training sample (one observation).\n",
    "\n",
    "$$\n",
    "\\mathbf{X} = \\begin{pmatrix}\n",
    "x_{i1} & x_{i2} \\\\\n",
    "\\end{pmatrix}\n",
    "$$\n",
    "\n",
    "$$\n",
    "\\mathbf{W}^h = \\begin{pmatrix}\n",
    "w^h_{11} & w^h_{12} & w^h_{13} \\\\\n",
    "w^h_{21} & w^h_{22} & w^h_{23} \\\\\n",
    "\\end{pmatrix}\n",
    "$$\n",
    "\n",
    "The result will be a $1 \\times 3$ matrix of net values of the hidden layer.\n",
    "\n",
    "$$\n",
    "\\mathbf{z}^h = X W^h = \\begin{pmatrix}\n",
    "x_{i1} w^h_{11} + x_{i2} w^h_{21} &\n",
    "x_{i1} w^h_{12} + x_{i2} w^h_{22} &\n",
    "x_{i1} w^h_{13} + x_{i2} w^h_{23} \\\\\n",
    "\\end{pmatrix} \n",
    "$$\n",
    "\n",
    "\n",
    "$$\n",
    "\\begin{pmatrix}\n",
    "z^{h}_{11} & z^{h}_{12} & z^{h}_{13} \\\\\n",
    "\\end{pmatrix}\n",
    "$$\n",
    "\n",
    "We obtain the outputs of the hidden layer by passing the net values through the activation function. The activation function is applied *element-wise*.\n",
    "\n",
    "$$\n",
    "\\mathbf{h}_{N \\times M} = \\sigma(\\mathbf{z}^h)\n",
    "$$\n",
    "\n",
    "In our example with one training sample and 3 hidden neurons this will be a $1 \\times 3$ matrix.\n",
    "\n",
    "The next step is to map the output values of the hidden layer ot the output layer. Let $\\mathbf{W}^o$ be an $M \\times C$ matrix of weights mapping the hidden layer to the output layer. In our example this will be a $3 \\times 2$ matrix.\n",
    "\n",
    "$$\n",
    "\\mathbf{W}^o = \\begin{pmatrix}\n",
    "w^h_{11} & w^h_{12} \\\\\n",
    "w^h_{21} & w^h_{22} \\\\\n",
    "w^h_{31} & w^h_{32} \\\\\n",
    "\\end{pmatrix}\n",
    "$$\n",
    "\n",
    "$$\n",
    "\\mathbf{z}^o = \\mathbf{h} \\mathbf{W}^o = \\begin{pmatrix}\n",
    "h_{11} w^h_{11} + h_{12} w^h_{21} + h_{13} w^h_{31} &\n",
    "h_{11} w^h_{12} + h_{12} w^h_{22} + h_{13} w^h_{32} \\\\\n",
    "\\end{pmatrix}\n",
    "$$\n",
    "\n",
    "So we have obtained the $1 \\times 2$ matrix of net values of the output layer. This is not the final output, though, as we must pass the matrix $o$ through the softmax function.\n",
    "\n",
    "The output of the softmax function is a matrix of probabilities. The rows of the matrix sum to one. In the case of $C = 2$ classes,\n",
    "the softmax function is equivalent to the sigmoid function.\n",
    "\n",
    "$$\n",
    "Y_{N \\times C} = \\text{softmax}(o) = \\frac{e^{o}}{\\sum_{j = 1}^{C} e^{oj}} = \\frac{e^{\\mathbf{H}W_o}}{\\sum_{j = 1}^{C} e^{\\mathbf{H}W_{oj}}}\n",
    "$$\n",
    "\n",
    "$$\n",
    "Y_{N \\times C} = \\begin{pmatrix}\n",
    "y_{11} & y_{12} \\\\\n",
    "y_{21} & y_{22} \\\\\n",
    "\\vdots & \\vdots \\\\\n",
    "y_{N1} & y_{N2} \\\\\n",
    "\\end{pmatrix} \n",
    "$$\n",
    "\n",
    "Let's implement the forward pass in numpy."
   ],
   "metadata": {
    "collapsed": false
   },
   "id": "3ea82dd2125365fb"
  },
  {
   "cell_type": "markdown",
   "source": [
    "# Backpropagation and Gradient Descent\n",
    "\n",
    "Now that we have the predictions, we can start computing the gradients of the loss function with respect to the weights. We will start with the weights of the output layer. We will use the cross-entropy function discussed above. Note that $y_i$ and $\\hat{y}_i$ are $C$-dimensional vectors here.\n",
    "\n",
    "$$\n",
    "\\xi(Y, \\hat{Y}) = -\\frac{1}{N} \\sum_{i = 1}^{N} \\sum_{c = 1}^{C} y_{ic} \\log \\hat{y}_{ic} = \\sum_{i = 1}^{N} \\xi(y_i, \\hat{y}_i)\n",
    "$$\n",
    "\n",
    "As in the simple examples of linear regression and logistic regression, we will need the derivatives of the loss function with respect to all model parameters (the weights) so that we can apply gradient descent.\n",
    "\n",
    "There are $M \\times C$ ($3 \\times 2$) weights mapping the hidden to the output layer, wo the Jacobian matrix will be $M \\times C$.\n",
    "\n",
    "$$\n",
    "\\nabla_{\\mathbf{W}^o} \\xi = \\begin{pmatrix}\n",
    "\\frac{\\partial \\xi}{\\partial w_{o11}} & \\frac{\\partial \\xi}{\\partial w_{o12}} \\\\\n",
    "\\frac{\\partial \\xi}{\\partial w_{o21}} & \\frac{\\partial \\xi}{\\partial w_{o22}} \\\\\n",
    "\\frac{\\partial \\xi}{\\partial w_{o31}} & \\frac{\\partial \\xi}{\\partial w_{o32}} \\\\\n",
    "\\end{pmatrix}\n",
    "$$\n",
    "\n",
    "There are $K \\times M$ weights in the matrix mapping the inputs to the hidden layer, so the Jacobian matrix will be $K \\times M$ ($2 \\times 3)$.\n",
    "\n",
    "$$\n",
    "\\nabla_{\\mathbf{W}^h} \\xi = \\begin{pmatrix}\n",
    "\\frac{\\partial \\xi}{\\partial w_{h11}} & \\frac{\\partial \\xi}{\\partial w_{h12}} & \\frac{\\partial \\xi}{\\partial w_{h13}} \\\\\n",
    "\\frac{\\partial \\xi}{\\partial w_{h21}} & \\frac{\\partial \\xi}{\\partial w_{h22}} & \\frac{\\partial \\xi}{\\partial w_{h23}} \\\\\n",
    "\\end{pmatrix}\n",
    "$$\n",
    "\n",
    "Backpropagation is an algorithm for computing the derivatives using the chain rule for differentiation. The chain rule states that the derivative of a function $f$ with respect to $x$ is given by\n",
    "\n",
    "$$\n",
    "\\frac{\\partial }{\\partial x}f(g(x)) = \\frac{\\partial f}{\\partial g} \\frac{\\partial g}{\\partial x}(x)\n",
    "$$\n",
    "\n",
    "In our case the loss depends on the weights of the network through the predicted probabilities. These are a function (softmax) of the net values of the output layer.  \n",
    "\n",
    "![Backpropagation](https://i0.wp.com/analyticsarora.com/wp-content/uploads/2021/09/Understand-The-Backpropagation-Algorithm-Interview-Question.png?w=800&ssl=1)\n",
    "\n",
    "\n",
    "Starting from the loss, we will apply the chain rule to compute all derivatives.\n",
    "\n",
    "## Output Layer Gradient\n",
    "\n",
    "### Softmax Derivative\n",
    "\n",
    "The softmax function is given by\n",
    "\n",
    "$$\n",
    "s(z_{ok}) = \\frac{e^{z_{ok}}}{\\sum_{j = 1}^{C} e^{z_{oj}}}\n",
    "$$\n",
    "\n",
    "We need to distinguish two cases: $k = l$ and $k \\neq l$.\n",
    "In the first case the derivative is:\n",
    "\n",
    "$$\n",
    "\\frac{\\partial s(z_{ok})}{\\partial z_{ok}} = \\frac{e^{z_{ok}} \\sum_{j = 1}^{C} e^{z_{oj}} - e^{z_{ok}} e^{z_{ok}}}{\\left(\\sum_{j = 1}^{C} e^{z_{oj}}\\right)^2} = s(z_{ok}) - s(z_{ok})^2 = s(z_{ok})(1 - s(z_{ok}))\n",
    "$$\n",
    "\n",
    "In the second case the derivative is:\n",
    "\n",
    "$$\n",
    "\\frac{\\partial s(z_{ok})}{\\partial z_{ol}} = \\frac{-e^{z_{ok}} e^{z_{ol}}}{\\left(\\sum_{j = 1}^{C} e^{z_{oj}}\\right)^2} = -s(z_{ok}) s(z_{ol})\n",
    "$$\n",
    "\n",
    "### Cross-Entropy Derivative\n",
    "\n",
    "The derivative of the cross-entropy loss function with respect to the inputs of the softmax function is given by\n",
    "\n",
    "\n",
    "\\begin{align}\n",
    "\\frac{\\partial \\xi}{\\partial z_i} & = - \\sum_{c=1}^C \\frac{\\partial y_c \\log(\\hat{y}_c)}{\\partial z_i}{} \n",
    "= - \\sum_{c=1}^C y_c \\frac{\\partial \\log(\\hat{y}_c)}{\\partial z_i} \n",
    "= - \\sum_{c=1}^C y_c \\frac{1}{\\hat{y}_c} \\frac{\\partial \\hat{y}_c}{\\partial z_i} \\\\\n",
    "& = - \\frac{y_c}{\\hat{y}_i} \\frac{\\partial \\hat{y}_i}{\\partial z_i} - \\sum_{c \\neq i}^C \\frac{y_c}{\\hat{y}_c} \\frac{\\partial \\hat{y}_c}{\\partial z_i}\n",
    "= - \\frac{y_c}{\\hat{y}_i} \\hat{y}_i (1-\\hat{y}_i) - \\sum_{c \\neq i}^C \\frac{y_c}{\\hat{y}_c} (-\\hat{y}_c \\hat{y}_i) \\\\\n",
    "& = - y_i + y_i \\hat{y}_i + \\sum_{c \\neq i}^C y_c \\hat{y}_i = - y_i + \\sum_{c = 1}^C y_c \\hat{y}_i\n",
    "= -y_i + \\hat{y}_i \\sum_{c = 1}^C y_c \\\\\n",
    "& = \\hat{y}_i - y_i\n",
    "\\end{align}\n",
    "\n",
    "The last step uses the fact that the target vectors $y$ are on-hot encoded and sum to one.\n",
    "\n",
    "We have already seen that the gradient of the cross-entropy loss function with respect to the weights of the output layer is given by:\n",
    "\n",
    "$$\n",
    "\\delta_o = \\frac{\\partial \\xi}{\\partial Z^o} = (Y - \\hat{Y})\n",
    "$$\n",
    "\n",
    "Here $Z^o$ is an $N \\times C$ dimensional matrix of inputs to the softmax layer. $\\mathbf{Y}$ is an $N \\times C$ dimensional matrix.\n",
    "\n",
    "$$\n",
    "Z^o= \\mathbf{H} \\mathbf{W}^o\n",
    "$$\n",
    "\n",
    "The first weights that we need to update are the ones mapping the hidden layer to the output layer $W_o$ ($M \\times C$).\n",
    "\n",
    "Using the chain rule we can derive it as follows:\n",
    "\n",
    "$$\n",
    "\\frac{\\partial \\xi}{\\partial W_o} = \\frac{\\partial \\xi}{\\partial w_{oj}} \\frac{\\partial \\xi}{\\partial \\mathbf{Y}} \\frac{\\partial \\mathbf{Y}}{\\partial \\mathbf{Z^o}} \\frac{\\partial \\mathbf{Z}_o}{\\partial \\mathbf{w}_{oj}} = \\sum_{i = 1}^{N} h_{ij} (\\hat{y}_{ij} - y_{i}) = \\sum_{i = 1}^{N} h_{ij} \\delta_{oj}\n",
    "$$\n",
    "\n",
    "We calculated the derivative with respect to $w_{oj}$, the $j$-th row of $\\mathbf{W}^o$, which is a $1 \\times 2$ vector. For the computer implementation it is useful to vectorize the operation. We can write the full Jacobian matrix as follows:\n",
    "\n",
    "$$\n",
    "\\frac{\\partial \\xi}{\\partial \\mathbf{W}^o} = \\mathbf{H}^T (\\hat{\\mathbf{Y}} - \\mathbf{Y}) = \\mathbf{H}^T \\mathbf{\\delta}_o\n",
    "$$\n",
    "\n",
    "This is a $3 \\times 2$ matrix of partial derivatives.\n",
    "\n",
    "$$\n",
    "\\mathbf{J}_{\\mathbf{W}^o} = \\begin{pmatrix}\n",
    "\\frac{\\partial \\xi}{\\partial w_{o11}} & \\frac{\\partial \\xi}{\\partial w_{o12}} \\\\\n",
    "\\frac{\\partial \\xi}{\\partial w_{o21}} & \\frac{\\partial \\xi}{\\partial w_{o22}} \\\\\n",
    "\\frac{\\partial \\xi}{\\partial w_{o31}} & \\frac{\\partial \\xi}{\\partial w_{o32}} \\\\\n",
    "\\end{pmatrix}\n",
    "$$\n",
    "\n",
    "Let's implement these in Python"
   ],
   "metadata": {
    "collapsed": false
   },
   "id": "dd613ca15feafb1b"
  },
  {
   "cell_type": "markdown",
   "source": [
    "The component for the gradient descent method is the gradient of the loss function with respect to the weights of the hidden layer.\n",
    "\n",
    "## Hidden Layer Gradient\n",
    "\n",
    "To get the gradient of the loss with respect to the weights of the hidden layer, we need to first differentiate with respect to the output values of the hidden layer, then differentiate these output values of the with respect to the net values (sigmoid). Last, we will need to differentiate the net values with respect to the weights of the hidden layer.\n",
    "\n",
    "$$\n",
    "\\frac{\\partial \\xi}{\\partial \\mathbf{W}^h} = \\frac{\\partial \\xi}{\\partial \\mathbf{H}} \\frac{\\partial \\mathbf{H}}{\\partial \\mathbf{Z}^h} \\frac{\\partial \\mathbf{Z}^h}{\\partial \\mathbf{W}^h}\n",
    "$$\n",
    " \n",
    "When computing the derivatives here we need to account for the fact that the weights of the hidden layer enter the loss function through two distinct paths, so we need to sum the derivatives of the loss function with respect to the weights of the output layer for each hidden neuron. If this remains unclear, take a look at the Appendix that shows the derivation of the derivatives with respect to $w^h_{11}$ for a single sample from start to end. \n",
    "\n",
    "$$\n",
    "\\delta_h = \\frac{\\partial \\xi}{\\partial \\mathbf{Z}^h} = \\frac{\\partial \\xi}{\\partial \\mathbf{H}} \\frac{\\partial \\mathbf{H}}{\\partial \\mathbf{Z}^h} = (\\mathbf{Y} - \\hat{\\mathbf{Y}}) \\mathbf{W}^{oT} \\odot \\mathbf{H} \\odot (1 - \\mathbf{H})\n",
    "$$\n",
    "\n",
    "$\\odot$ signifies element-wise multiplication."
   ],
   "metadata": {
    "collapsed": false
   },
   "id": "c3a6d9aba7300704"
  },
  {
   "cell_type": "markdown",
   "source": [
    "# Appendix\n",
    "\n",
    "## Derivative\n",
    "\n",
    "Although the backpropagation is simply an application of the chain rule from calculus, it may be difficult to follow all the details. Let's take a look at the derivatives of the loss function with respect to the weights of the hidden layer for a single sample. We will start with the derivative of the loss function with respect to $w^h_{11}$.\n",
    "\n",
    "$$\n",
    "\\begin{align}\n",
    "\\frac{\\partial \\xi}{\\partial w^h_{11}} & = \\frac{\\partial \\xi}{\\partial w^h_{11}}(y_1 \\log \\hat{y}_1 + y_2\\log \\hat{y}_2) \\\\\n",
    "& = \\frac{\\partial \\xi}{\\partial \\hat{y}_1} \\frac{\\partial \\hat{y}_1}{\\partial w^h_{11}} + \\frac{\\partial \\xi}{\\partial \\hat{y}_2} \\frac{\\partial \\hat{y}_2}{\\partial w^h_{11}} \\\\\n",
    "& = \\frac{\\partial \\xi}{\\partial \\hat{y}_1} \\frac{\\partial \\hat{y}_1}{\\partial z^o_1} \\frac{\\partial z^o_1}{\\partial w^h_{11}} + \\frac{\\partial \\xi}{\\partial \\hat{y}_2} \\frac{\\partial \\hat{y}_2}{\\partial z^o_2} \\frac{\\partial z^o_2}{\\partial w^h_{11}} \\\\\n",
    "& = \\frac{y_1}{\\hat{y}_1}\\hat{y}_1(1 - \\hat{y}_1)\\frac{\\partial z^o_1}{\\partial w^h_{11}} - y_2 \\hat{y}_1 \\frac{\\partial z^o_2}{\\partial w^h_{11}}\n",
    "\\end{align}\n",
    "$$\n",
    "Let's look at the derivative in the first term\n",
    "\n",
    "$$\n",
    "\\begin{align}\n",
    "\\frac{\\partial z^o_1}{\\partial w^h_{11}} & = \\frac{\\partial}{\\partial w^h_{11}}\\left(\\sigma(z^h_1)w^o_{11} + \\sigma(z^h_2)w^o_{21} \\right)\\\\\n",
    "& = w^o_{11}\\sigma(z^h_1)(1 - \\sigma(z^h_1))\\frac{\\partial z^h_1}{\\partial w^h_{11}} + w^o_{21}\\sigma(z^h_2)(1 - \\sigma(z^h_2))\\frac{\\partial z^h_2}{\\partial w^h_{11}} \\\\\n",
    "\\end{align}\n",
    "$$\n",
    "\n",
    "The second term is zero due to the fact $w^h_{11}$ is not used to compute $z^h_2$. The derivative of the hidden layer net value with respect to the weight is simply the value of the input. Therefore, we have\n",
    "\n",
    "\n",
    "$$\n",
    "\\begin{align}\n",
    "\\frac{\\partial z^o_1}{\\partial w^h_{11}} & = w^o_{11}\\sigma(z^h_1)(1 - \\sigma(z^h_1))x_1\n",
    "\\end{align}\n",
    "$$\n",
    "\n",
    "The derivative in the second term is\n",
    "\n",
    "$$\n",
    "\\begin{align}\n",
    "\\frac{\\partial z^o_2}{\\partial w^h_{11}} & = \\frac{\\partial}{\\partial w^h_{11}}\\left(w^o_{12}\\sigma(z^h_1) + w^h_{22} \\sigma(z^h_{2})\\right) \\\\\n",
    "& = w^o_{12}\\sigma(z^h_1)(1 - \\sigma(z^h_1))x_1\n",
    "\\end{align}\n",
    "$$\n",
    "\n",
    "Substituting the derivatives back into the original equation, we have\n",
    "\n",
    "$$\n",
    "\\begin{align}\n",
    "\\frac{\\partial \\xi}{\\partial w^h_{11}} & = y_1(1 - \\hat{y})\\sigma(z^h_1)(1 - \\sigma(z^h_1))w^o_{11} - y_2 \\hat{y}_1 \\sigma(z^h_1)(1 - \\sigma(z^h_1))w^o_{12} \\\\\n",
    "& = \\sigma(z^h_1)(1 - \\sigma(z^h_1))x_1\\left(y_1(1 - \\hat{y})w^o_{11} - y_2 \\hat{y}_1 w^o_{12}\\right)\n",
    "\\end{align}\n",
    "$$\n"
   ],
   "metadata": {
    "collapsed": false
   },
   "id": "a186941ababf96a9"
  },
  {
   "cell_type": "code",
   "execution_count": 70,
   "outputs": [
    {
     "data": {
      "text/plain": "array(['a', 'b', 'a', 'b'], dtype='<U1')"
     },
     "execution_count": 70,
     "metadata": {},
     "output_type": "execute_result"
    }
   ],
   "source": [
    "target = np.array([\"a\", \"b\", \"a\", \"b\"])\n",
    "target"
   ],
   "metadata": {
    "collapsed": false,
    "ExecuteTime": {
     "end_time": "2023-12-13T15:12:27.689053972Z",
     "start_time": "2023-12-13T15:12:27.684822739Z"
    }
   },
   "id": "2aa88cf40f25e628"
  },
  {
   "cell_type": "code",
   "execution_count": 22,
   "outputs": [
    {
     "data": {
      "text/plain": "array([[1, 0],\n       [1, 0],\n       [1, 0],\n       [1, 0],\n       [1, 0],\n       [0, 1],\n       [0, 1],\n       [1, 0],\n       [0, 1],\n       [1, 0],\n       [1, 0],\n       [1, 0],\n       [0, 1],\n       [0, 1],\n       [0, 1],\n       [1, 0],\n       [0, 1],\n       [0, 1],\n       [1, 0],\n       [1, 0],\n       [1, 0],\n       [1, 0],\n       [0, 1],\n       [0, 1],\n       [1, 0],\n       [0, 1],\n       [0, 1],\n       [1, 0],\n       [1, 0],\n       [1, 0],\n       [1, 0],\n       [1, 0],\n       [1, 0],\n       [1, 0],\n       [0, 1],\n       [1, 0],\n       [1, 0],\n       [0, 1],\n       [0, 1],\n       [0, 1],\n       [0, 1],\n       [0, 1],\n       [0, 1],\n       [1, 0],\n       [0, 1],\n       [0, 1],\n       [0, 1],\n       [1, 0],\n       [1, 0],\n       [1, 0],\n       [1, 0],\n       [0, 1],\n       [0, 1],\n       [0, 1],\n       [0, 1],\n       [1, 0],\n       [1, 0],\n       [0, 1],\n       [1, 0],\n       [0, 1],\n       [1, 0],\n       [1, 0],\n       [0, 1],\n       [1, 0],\n       [1, 0],\n       [0, 1],\n       [0, 1],\n       [0, 1],\n       [1, 0],\n       [1, 0],\n       [1, 0],\n       [0, 1],\n       [0, 1],\n       [1, 0],\n       [1, 0],\n       [0, 1],\n       [0, 1],\n       [0, 1],\n       [0, 1],\n       [0, 1],\n       [0, 1],\n       [1, 0],\n       [1, 0],\n       [1, 0],\n       [0, 1],\n       [0, 1],\n       [0, 1],\n       [1, 0],\n       [1, 0],\n       [0, 1],\n       [1, 0],\n       [1, 0],\n       [0, 1],\n       [1, 0],\n       [0, 1],\n       [0, 1],\n       [0, 1],\n       [0, 1],\n       [0, 1],\n       [0, 1],\n       [0, 1],\n       [1, 0],\n       [0, 1],\n       [1, 0],\n       [0, 1],\n       [1, 0],\n       [1, 0],\n       [0, 1],\n       [1, 0],\n       [0, 1],\n       [0, 1],\n       [1, 0],\n       [1, 0],\n       [1, 0],\n       [1, 0],\n       [1, 0],\n       [1, 0],\n       [1, 0],\n       [0, 1],\n       [0, 1],\n       [1, 0],\n       [1, 0],\n       [0, 1],\n       [0, 1],\n       [0, 1],\n       [0, 1],\n       [0, 1],\n       [1, 0],\n       [0, 1],\n       [0, 1],\n       [1, 0],\n       [0, 1],\n       [1, 0],\n       [1, 0],\n       [1, 0],\n       [0, 1],\n       [0, 1],\n       [0, 1],\n       [1, 0],\n       [0, 1],\n       [1, 0],\n       [1, 0],\n       [0, 1],\n       [0, 1],\n       [1, 0],\n       [1, 0],\n       [0, 1],\n       [0, 1],\n       [0, 1],\n       [1, 0],\n       [0, 1],\n       [1, 0],\n       [1, 0],\n       [1, 0],\n       [0, 1],\n       [0, 1],\n       [0, 1],\n       [0, 1],\n       [0, 1],\n       [1, 0],\n       [0, 1],\n       [1, 0],\n       [1, 0],\n       [1, 0],\n       [0, 1],\n       [0, 1],\n       [1, 0],\n       [0, 1],\n       [1, 0],\n       [0, 1],\n       [1, 0],\n       [0, 1],\n       [1, 0],\n       [1, 0],\n       [0, 1],\n       [1, 0],\n       [0, 1],\n       [0, 1],\n       [1, 0],\n       [1, 0],\n       [0, 1],\n       [1, 0],\n       [0, 1],\n       [0, 1],\n       [0, 1],\n       [1, 0],\n       [0, 1],\n       [1, 0],\n       [0, 1],\n       [0, 1],\n       [1, 0],\n       [0, 1],\n       [0, 1],\n       [1, 0],\n       [1, 0],\n       [1, 0],\n       [1, 0],\n       [1, 0],\n       [1, 0],\n       [1, 0]], dtype=int32)"
     },
     "execution_count": 22,
     "metadata": {},
     "output_type": "execute_result"
    }
   ],
   "source": [
    "\n",
    "target_Y = pd.get_dummies(y).astype(np.int32).values\n",
    "target_Y"
   ],
   "metadata": {
    "collapsed": false,
    "ExecuteTime": {
     "end_time": "2023-12-13T15:25:17.126883098Z",
     "start_time": "2023-12-13T15:25:17.075991040Z"
    }
   },
   "id": "a7806e69fdb94661"
  },
  {
   "cell_type": "code",
   "execution_count": 78,
   "outputs": [
    {
     "data": {
      "text/plain": "   x0   x1  x2\n0   1  1.0   2\n1   1  2.5   3\n2   1  8.0   4\n3   1  7.0   5",
      "text/html": "<div>\n<style scoped>\n    .dataframe tbody tr th:only-of-type {\n        vertical-align: middle;\n    }\n\n    .dataframe tbody tr th {\n        vertical-align: top;\n    }\n\n    .dataframe thead th {\n        text-align: right;\n    }\n</style>\n<table border=\"1\" class=\"dataframe\">\n  <thead>\n    <tr style=\"text-align: right;\">\n      <th></th>\n      <th>x0</th>\n      <th>x1</th>\n      <th>x2</th>\n    </tr>\n  </thead>\n  <tbody>\n    <tr>\n      <th>0</th>\n      <td>1</td>\n      <td>1.0</td>\n      <td>2</td>\n    </tr>\n    <tr>\n      <th>1</th>\n      <td>1</td>\n      <td>2.5</td>\n      <td>3</td>\n    </tr>\n    <tr>\n      <th>2</th>\n      <td>1</td>\n      <td>8.0</td>\n      <td>4</td>\n    </tr>\n    <tr>\n      <th>3</th>\n      <td>1</td>\n      <td>7.0</td>\n      <td>5</td>\n    </tr>\n  </tbody>\n</table>\n</div>"
     },
     "execution_count": 78,
     "metadata": {},
     "output_type": "execute_result"
    }
   ],
   "source": [
    "inputs"
   ],
   "metadata": {
    "collapsed": false,
    "ExecuteTime": {
     "end_time": "2023-12-13T15:15:08.937283048Z",
     "start_time": "2023-12-13T15:15:08.894941342Z"
    }
   },
   "id": "fcb1891469a36842"
  },
  {
   "cell_type": "code",
   "execution_count": 38,
   "outputs": [
    {
     "ename": "ValueError",
     "evalue": "operands could not be broadcast together with shapes (200,3) (200,2) ",
     "output_type": "error",
     "traceback": [
      "\u001B[0;31m---------------------------------------------------------------------------\u001B[0m",
      "\u001B[0;31mValueError\u001B[0m                                Traceback (most recent call last)",
      "Cell \u001B[0;32mIn[38], line 64\u001B[0m\n\u001B[1;32m     59\u001B[0m             \u001B[38;5;28mprint\u001B[39m(\u001B[38;5;124mf\u001B[39m\u001B[38;5;124m\"\u001B[39m\u001B[38;5;124mEpoch \u001B[39m\u001B[38;5;132;01m{\u001B[39;00mepoch\u001B[38;5;132;01m}\u001B[39;00m\u001B[38;5;124m, loss: \u001B[39m\u001B[38;5;132;01m{\u001B[39;00mloss_ce(target,\u001B[38;5;250m \u001B[39mforward_pass(inputs,\u001B[38;5;250m \u001B[39mmodel))\u001B[38;5;132;01m}\u001B[39;00m\u001B[38;5;124m\"\u001B[39m)\n\u001B[1;32m     61\u001B[0m     \u001B[38;5;28;01mreturn\u001B[39;00m model\n\u001B[0;32m---> 64\u001B[0m trained_model \u001B[38;5;241m=\u001B[39m \u001B[43mtrain\u001B[49m\u001B[43m(\u001B[49m\u001B[43minputs\u001B[49m\u001B[38;5;241;43m=\u001B[39;49m\u001B[43mX\u001B[49m\u001B[43m,\u001B[49m\u001B[43m \u001B[49m\u001B[43mtarget\u001B[49m\u001B[38;5;241;43m=\u001B[39;49m\u001B[43mtarget_Y\u001B[49m\u001B[43m,\u001B[49m\u001B[43m \u001B[49m\u001B[43mlearning_rate\u001B[49m\u001B[38;5;241;43m=\u001B[39;49m\u001B[38;5;241;43m0.01\u001B[39;49m\u001B[43m,\u001B[49m\u001B[43m \u001B[49m\u001B[43mepochs\u001B[49m\u001B[38;5;241;43m=\u001B[39;49m\u001B[38;5;28;43mint\u001B[39;49m\u001B[43m(\u001B[49m\u001B[38;5;241;43m5e3\u001B[39;49m\u001B[43m)\u001B[49m\u001B[43m)\u001B[49m\n\u001B[1;32m     66\u001B[0m \u001B[38;5;28mprint\u001B[39m(\u001B[38;5;124m\"\u001B[39m\u001B[38;5;124mFinal hidden weights\u001B[39m\u001B[38;5;124m\"\u001B[39m)\n\u001B[1;32m     67\u001B[0m \u001B[38;5;28mprint\u001B[39m(trained_model[\u001B[38;5;124m\"\u001B[39m\u001B[38;5;124mWh\u001B[39m\u001B[38;5;124m\"\u001B[39m])\n",
      "Cell \u001B[0;32mIn[38], line 56\u001B[0m, in \u001B[0;36mtrain\u001B[0;34m(inputs, target, learning_rate, epochs)\u001B[0m\n\u001B[1;32m     51\u001B[0m model \u001B[38;5;241m=\u001B[39m {\n\u001B[1;32m     52\u001B[0m     \u001B[38;5;124m\"\u001B[39m\u001B[38;5;124mWh\u001B[39m\u001B[38;5;124m\"\u001B[39m: np\u001B[38;5;241m.\u001B[39mrandom\u001B[38;5;241m.\u001B[39mrand(\u001B[38;5;241m2\u001B[39m, \u001B[38;5;241m3\u001B[39m),\n\u001B[1;32m     53\u001B[0m     \u001B[38;5;124m\"\u001B[39m\u001B[38;5;124mWo\u001B[39m\u001B[38;5;124m\"\u001B[39m: np\u001B[38;5;241m.\u001B[39mrandom\u001B[38;5;241m.\u001B[39mrand(\u001B[38;5;241m3\u001B[39m, \u001B[38;5;241m2\u001B[39m)\n\u001B[1;32m     54\u001B[0m }\n\u001B[1;32m     55\u001B[0m \u001B[38;5;28;01mfor\u001B[39;00m epoch \u001B[38;5;129;01min\u001B[39;00m np\u001B[38;5;241m.\u001B[39marange(epochs):\n\u001B[0;32m---> 56\u001B[0m     gradient \u001B[38;5;241m=\u001B[39m \u001B[43mbackprop\u001B[49m\u001B[43m(\u001B[49m\u001B[43minputs\u001B[49m\u001B[43m,\u001B[49m\u001B[43m \u001B[49m\u001B[43mtarget\u001B[49m\u001B[43m,\u001B[49m\u001B[43m \u001B[49m\u001B[43mmodel\u001B[49m\u001B[43m[\u001B[49m\u001B[38;5;124;43m\"\u001B[39;49m\u001B[38;5;124;43mWh\u001B[39;49m\u001B[38;5;124;43m\"\u001B[39;49m\u001B[43m]\u001B[49m\u001B[43m,\u001B[49m\u001B[43m \u001B[49m\u001B[43mmodel\u001B[49m\u001B[43m[\u001B[49m\u001B[38;5;124;43m\"\u001B[39;49m\u001B[38;5;124;43mWo\u001B[39;49m\u001B[38;5;124;43m\"\u001B[39;49m\u001B[43m]\u001B[49m\u001B[43m)\u001B[49m\n\u001B[1;32m     57\u001B[0m     model \u001B[38;5;241m=\u001B[39m update_weights(model, gradient, learning_rate)\n\u001B[1;32m     58\u001B[0m     \u001B[38;5;28;01mif\u001B[39;00m epoch \u001B[38;5;241m%\u001B[39m \u001B[38;5;241m100\u001B[39m \u001B[38;5;241m==\u001B[39m \u001B[38;5;241m0\u001B[39m:\n",
      "Cell \u001B[0;32mIn[38], line 34\u001B[0m, in \u001B[0;36mbackprop\u001B[0;34m(X, Y, Wh, Wo)\u001B[0m\n\u001B[1;32m     30\u001B[0m JWo \u001B[38;5;241m=\u001B[39m H\u001B[38;5;241m.\u001B[39mT \u001B[38;5;241m@\u001B[39m ErrOutp\n\u001B[1;32m     32\u001B[0m \u001B[38;5;66;03m# The gradient at the hidden layer\u001B[39;00m\n\u001B[0;32m---> 34\u001B[0m JWh \u001B[38;5;241m=\u001B[39m X\u001B[38;5;241m.\u001B[39mT \u001B[38;5;241m@\u001B[39m (\u001B[43mH\u001B[49m\u001B[43m \u001B[49m\u001B[38;5;241;43m*\u001B[39;49m\u001B[43m \u001B[49m\u001B[43m(\u001B[49m\u001B[38;5;241;43m1\u001B[39;49m\u001B[43m \u001B[49m\u001B[38;5;241;43m-\u001B[39;49m\u001B[43m \u001B[49m\u001B[43mH\u001B[49m\u001B[43m)\u001B[49m\u001B[43m \u001B[49m\u001B[38;5;241;43m*\u001B[39;49m\u001B[43m \u001B[49m\u001B[43mErrOutp\u001B[49m \u001B[38;5;241m@\u001B[39m Wo\u001B[38;5;241m.\u001B[39mT)\n\u001B[1;32m     36\u001B[0m \u001B[38;5;28;01mreturn\u001B[39;00m [JWh, JWo]\n",
      "\u001B[0;31mValueError\u001B[0m: operands could not be broadcast together with shapes (200,3) (200,2) "
     ]
    }
   ],
   "source": [
    "def softmax(x):\n",
    "    return np.exp(x) / np.sum(np.exp(x), axis=1, keepdims=True)\n",
    "\n",
    "\n",
    "def forward_pass(X, model):\n",
    "    Wh, Wo = model[\"Wh\"], model[\"Wo\"]\n",
    "\n",
    "    # Compute the hidden layer net values\n",
    "    zh = X @ Wh\n",
    "\n",
    "    # Compute the hidden layer activations\n",
    "    H = sigmoid(zh)\n",
    "\n",
    "    # Compute the output layer net values\n",
    "    zo = H @ Wo\n",
    "\n",
    "    # Compute the output layer activations\n",
    "    Y_hat = softmax(zo)\n",
    "\n",
    "    return Y_hat\n",
    "\n",
    "\n",
    "def backprop(X, Y, Wh, Wo):\n",
    "    H = sigmoid(X @ Wh)\n",
    "    Y_hat = softmax(H @ Wo)\n",
    "\n",
    "    ErrOutp = Y_hat - Y\n",
    "\n",
    "    # The gradient at the output layer\n",
    "    JWo = H.T @ ErrOutp\n",
    "\n",
    "    # The gradient at the hidden layer\n",
    "    JWh = X.T @ (H * (1 - H) * ErrOutp @ Wo.T)\n",
    "\n",
    "    return [JWh, JWo]\n",
    "\n",
    "\n",
    "def update_weights(model, gradient, learning_rate):\n",
    "    model[\"Wh\"] = model[\"Wh\"] - learning_rate * gradient[0]\n",
    "    model[\"Wo\"] = model[\"Wo\"] - learning_rate * gradient[1]\n",
    "\n",
    "    return model\n",
    "\n",
    "\n",
    "def loss_ce(Y, Y_hat):\n",
    "    return -np.sum(Y * np.log(Y_hat))\n",
    "\n",
    "\n",
    "def train(inputs, target, learning_rate, epochs):\n",
    "    model = {\n",
    "        \"Wh\": np.random.rand(2, 3),\n",
    "        \"Wo\": np.random.rand(3, 2)\n",
    "    }\n",
    "    for epoch in np.arange(epochs):\n",
    "        gradient = backprop(inputs, target, model[\"Wh\"], model[\"Wo\"])\n",
    "        model = update_weights(model, gradient, learning_rate)\n",
    "        if epoch % 100 == 0:\n",
    "            print(f\"Epoch {epoch}, loss: {loss_ce(target, forward_pass(inputs, model))}\")\n",
    "\n",
    "    return model\n",
    "\n",
    "\n",
    "trained_model = train(inputs=X, target=target_Y, learning_rate=0.01, epochs=int(5e3))\n",
    "\n",
    "print(\"Final hidden weights\")\n",
    "print(trained_model[\"Wh\"])\n",
    "\n",
    "print(\"Final output weights\")\n",
    "print(trained_model[\"Wh\"])\n"
   ],
   "metadata": {
    "collapsed": false,
    "ExecuteTime": {
     "end_time": "2023-12-13T15:32:39.575027859Z",
     "start_time": "2023-12-13T15:32:39.508972336Z"
    }
   },
   "id": "209f086a215c649d"
  },
  {
   "cell_type": "code",
   "execution_count": 36,
   "outputs": [
    {
     "data": {
      "text/plain": "(200, 2)"
     },
     "execution_count": 36,
     "metadata": {},
     "output_type": "execute_result"
    }
   ],
   "source": [
    "X.shape"
   ],
   "metadata": {
    "collapsed": false,
    "ExecuteTime": {
     "end_time": "2023-12-13T15:30:19.313154273Z",
     "start_time": "2023-12-13T15:30:19.265699610Z"
    }
   },
   "id": "7aea1cfa1043c7ec"
  },
  {
   "cell_type": "markdown",
   "source": [
    "\n",
    "\n",
    "## Sigmoid and tanh\n",
    "\n",
    "It can be shown that it is a scaled and shifted version of the tanh function.\n",
    "\n",
    "$$\n",
    "\\sigma(x) = \\frac{1}{2} + \\frac{1}{2}\\tanh (x / 2)\n",
    "$$\n",
    "\n",
    "which is defined as:\n",
    "\n",
    "$$\n",
    "\\tanh x = \\frac{e^{x} - e{-x}}{e^{x} + e^{-x}}\n",
    "$$\n",
    "\n",
    "$$\n",
    "\\begin{align}\n",
    "\\sigma(x) & = \\frac{1}{2}\\left(1 + \\tanh (x / 2)\\right)\\\\\n",
    "          & = \\frac{1}{2}\\left(1 + \\frac{e^{x/2} - e^{-x/2}}{e^{x/2} + e^{-x/2}}\\right) \\\\\n",
    "          & = \\frac{1}{2}\\left(\\frac{e^{x/2} + e^{-x/2} + e^{x/2} - e^{-x/2}}{e^{x/2} + e^{-x/2}}\\right)\\\\\n",
    "          & = \\frac{1}{2}\\left(\\frac{2e^{x/2}}{e^{x/2} + e^{-x/2}}\\right)\\\\\n",
    "          & =\\frac{e^{x/2}}{e^{x/2} + e^{-x/2}}\\\\\n",
    "          & =\\frac{e^{x/2}}{e^{x/2} + e^{-x/2}}\\frac{e^{-x/2}}{e^{-x/2}}\\\\\n",
    "          & = \\frac{1}{1 + e^{-2x/2}}\\\\\n",
    "          & = \\frac{1}{1 + e^{-x}}\\\\\n",
    "\\end{align}\n",
    "$$"
   ],
   "metadata": {
    "collapsed": false
   },
   "id": "5f2fee9effabfd15"
  },
  {
   "cell_type": "markdown",
   "source": [],
   "metadata": {
    "collapsed": false
   },
   "id": "5e29843d9fab0c82"
  }
 ],
 "metadata": {
  "kernelspec": {
   "display_name": "Python 3",
   "language": "python",
   "name": "python3"
  },
  "language_info": {
   "codemirror_mode": {
    "name": "ipython",
    "version": 2
   },
   "file_extension": ".py",
   "mimetype": "text/x-python",
   "name": "python",
   "nbconvert_exporter": "python",
   "pygments_lexer": "ipython2",
   "version": "2.7.6"
  }
 },
 "nbformat": 4,
 "nbformat_minor": 5
}
