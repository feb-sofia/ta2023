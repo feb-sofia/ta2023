{
 "cells": [
  {
   "cell_type": "code",
   "execution_count": 5,
   "outputs": [],
   "source": [
    "import pandas as pd\n",
    "import numpy as np"
   ],
   "metadata": {
    "collapsed": false,
    "ExecuteTime": {
     "end_time": "2023-11-29T14:58:02.008229134Z",
     "start_time": "2023-11-29T14:58:01.887664842Z"
    }
   },
   "id": "46fa93ca6b813111"
  },
  {
   "cell_type": "markdown",
   "source": [
    "# Text Classification with TF-IDV"
   ],
   "metadata": {
    "collapsed": false
   },
   "id": "e353de43d740959d"
  },
  {
   "cell_type": "markdown",
   "source": [
    "As machine learning algorithms can only deal with numeric data we need to find a way to map\n",
    "text documents to a representation in a numeric space. The traditional approach to create such\n",
    "a map has been to create a vocabulary of the words (or a subset of the words) encountered in a corpus and\n",
    "map each word to a one hot encoded vectors of the dimension of the vocabulary.\n",
    "\n",
    "Consider a very small example of three documents containing a tiny vocabulary of just three words\n",
    "\n",
    "$$\n",
    "\\text{doc1} = [\\text{boy}, \\text{mouse}] \\\\\n",
    "\\text{doc2} = [\\text{mouse}] \\\\\n",
    "\\text{doc3} = [\\text{zoo}, \\text{boy}]\\\\\n",
    "\\text{doc4} = [\\text{zoo}, \\text{boy}, \\text{zoo}]\n",
    "$$\n",
    "\n",
    "Consider a very simple example with a vocabulary \\[\"boy\", \"mouse\", \"zoo\"\\]. One hot encoding each word will result in the following three vectors\n",
    "\n",
    "$$\n",
    "\\text{boy} \\to\n",
    "\\left(\n",
    "    \\begin{array}{c}\n",
    "        1 \\\\\n",
    "        0\\\\\n",
    "        0\n",
    "    \\end{array}\n",
    "\\right)\n",
    "\\quad\n",
    "\\text{mouse} \\to\n",
    "\\left(\n",
    "    \\begin{array}{c}\n",
    "        0 \\\\\n",
    "        1\\\\\n",
    "        0\n",
    "    \\end{array}\n",
    "\\right)\n",
    "\\quad\n",
    "\\text{zoo} \\to\n",
    "\\left(\n",
    "    \\begin{array}{c}\n",
    "        0 \\\\\n",
    "        0\\\\\n",
    "        1\n",
    "    \\end{array}\n",
    "\\right)\n",
    "$$\n",
    "\n",
    "Depending on how we combine the word vectors to a document vector.\n",
    "There are numerous possibilities to represent the documents in this three-dimensional space. A simple option is to sum the vectors in each document. This is what `CountVectorizer` does: the result is a $3 \\times 3$ matrix."
   ],
   "metadata": {
    "collapsed": false
   },
   "id": "85da08acd3a39f1e"
  },
  {
   "cell_type": "code",
   "execution_count": 6,
   "id": "initial_id",
   "metadata": {
    "collapsed": true,
    "ExecuteTime": {
     "end_time": "2023-11-29T14:58:02.041881669Z",
     "start_time": "2023-11-29T14:58:01.974637322Z"
    }
   },
   "outputs": [
    {
     "data": {
      "text/plain": "<4x3 sparse matrix of type '<class 'numpy.int64'>'\n\twith 7 stored elements in Compressed Sparse Row format>"
     },
     "execution_count": 6,
     "metadata": {},
     "output_type": "execute_result"
    }
   ],
   "source": [
    "from sklearn.feature_extraction.text import TfidfVectorizer, CountVectorizer\n",
    "\n",
    "toy_corpus = [\n",
    "    \"boy mouse boy\",\n",
    "    \"mouse\",\n",
    "    \"zoo boy\",\n",
    "    \"zoo boy zoo\"\n",
    "]\n",
    "\n",
    "c_vect = CountVectorizer()\n",
    "term_matrix = c_vect.fit_transform(toy_corpus)\n",
    "term_matrix"
   ]
  },
  {
   "cell_type": "code",
   "execution_count": 7,
   "outputs": [
    {
     "data": {
      "text/plain": "{'boy': 0, 'mouse': 1, 'zoo': 2}"
     },
     "execution_count": 7,
     "metadata": {},
     "output_type": "execute_result"
    }
   ],
   "source": [
    "# Check the vocabulary learned from the corpus\n",
    "c_vect.vocabulary_"
   ],
   "metadata": {
    "collapsed": false,
    "ExecuteTime": {
     "end_time": "2023-11-29T14:58:02.095107538Z",
     "start_time": "2023-11-29T14:58:02.036372890Z"
    }
   },
   "id": "da0c613eca0e719f"
  },
  {
   "cell_type": "code",
   "execution_count": 8,
   "outputs": [
    {
     "data": {
      "text/plain": "array(['boy', 'mouse', 'zoo'], dtype=object)"
     },
     "execution_count": 8,
     "metadata": {},
     "output_type": "execute_result"
    }
   ],
   "source": [
    "# Check the extracted features\n",
    "c_vect.get_feature_names_out()"
   ],
   "metadata": {
    "collapsed": false,
    "ExecuteTime": {
     "end_time": "2023-11-29T14:58:02.164991336Z",
     "start_time": "2023-11-29T14:58:02.084727169Z"
    }
   },
   "id": "7fc5d4c3667effcc"
  },
  {
   "cell_type": "code",
   "execution_count": 9,
   "outputs": [
    {
     "data": {
      "text/plain": "      boy  mouse  zoo\ndoc1    2      1    0\ndoc2    0      1    0\ndoc3    1      0    1\ndoc4    1      0    2",
      "text/html": "<div>\n<style scoped>\n    .dataframe tbody tr th:only-of-type {\n        vertical-align: middle;\n    }\n\n    .dataframe tbody tr th {\n        vertical-align: top;\n    }\n\n    .dataframe thead th {\n        text-align: right;\n    }\n</style>\n<table border=\"1\" class=\"dataframe\">\n  <thead>\n    <tr style=\"text-align: right;\">\n      <th></th>\n      <th>boy</th>\n      <th>mouse</th>\n      <th>zoo</th>\n    </tr>\n  </thead>\n  <tbody>\n    <tr>\n      <th>doc1</th>\n      <td>2</td>\n      <td>1</td>\n      <td>0</td>\n    </tr>\n    <tr>\n      <th>doc2</th>\n      <td>0</td>\n      <td>1</td>\n      <td>0</td>\n    </tr>\n    <tr>\n      <th>doc3</th>\n      <td>1</td>\n      <td>0</td>\n      <td>1</td>\n    </tr>\n    <tr>\n      <th>doc4</th>\n      <td>1</td>\n      <td>0</td>\n      <td>2</td>\n    </tr>\n  </tbody>\n</table>\n</div>"
     },
     "execution_count": 9,
     "metadata": {},
     "output_type": "execute_result"
    }
   ],
   "source": [
    "## Check the document representation\n",
    "term_matrix_dense = term_matrix.toarray()\n",
    "pd.DataFrame(term_matrix_dense,\n",
    "             columns=c_vect.get_feature_names_out(),\n",
    "             index=[f\"doc{i}\" for i in range(1, len(toy_corpus) + 1)]\n",
    "             )"
   ],
   "metadata": {
    "collapsed": false,
    "ExecuteTime": {
     "end_time": "2023-11-29T14:58:04.835337984Z",
     "start_time": "2023-11-29T14:58:04.770767294Z"
    }
   },
   "id": "626a85b63ff31779"
  },
  {
   "cell_type": "markdown",
   "source": [
    "## TF-IDF \n",
    "\n",
    "Often another aggregation of the word vectors is preferred, where\n",
    "the counts are weighted by the inverse document frequency.\n",
    "\n",
    "**Term frequency** ($TF(i)$) is the number of occurrences of word $i$ in document $D$. It depends strongly\n",
    "on how general a word is (e.g. \"has\" vs. \"cosine\" in general literature) and also on the length of the document.\n",
    "\n",
    "**Document frequency** ($DF(i)$ is the number of documents that contain word $i$.\n",
    "\n",
    "**Inverse document frequency** ($IDF(i)$ is simply the inverse relative frequency of the word in the set of documents.\n",
    "With $N$ documents the IDF is given by:\n",
    "\n",
    "$$\n",
    "    IDF(i) = \\frac{N}{DF(i)}\n",
    "$$\n",
    "\n",
    "It is large for words that occur in many documents, and it will be small for words that appear in only a few documents.\n",
    "\n",
    "A problem with this definition is that the IDF becomes very large for large corpora (large N) so it is commonly replaced\n",
    "by its logarithm.\n",
    "\n",
    "$$\n",
    "    IDF(i) = 1 + \\log\\left(\\frac{N}{DF(i)}\\right)\n",
    "$$\n",
    "\n",
    "The addition of 1 in the above equation serves to ensure that the words that occur in all documents are not entirely discarded. The default IDF used in `TfidfVectorizer` is:\n",
    "\n",
    "$$\n",
    "    IDF(i) = 1 + \\log\\left(\\frac{N + 1}{DF(i) + 1}\\right)\n",
    "$$\n",
    "\n",
    "$$\n",
    "    \\text{TF-IDF}(i, d) = TF(i, d) \\times IDF(i)\n",
    "$$\n",
    "\n",
    "Let us calculate the document frequencies from the term density matrix we just created:"
   ],
   "metadata": {
    "collapsed": false
   },
   "id": "c82b78295196faf6"
  },
  {
   "cell_type": "code",
   "execution_count": 14,
   "outputs": [
    {
     "data": {
      "text/plain": "       0\nboy    3\nmouse  2\nzoo    2",
      "text/html": "<div>\n<style scoped>\n    .dataframe tbody tr th:only-of-type {\n        vertical-align: middle;\n    }\n\n    .dataframe tbody tr th {\n        vertical-align: top;\n    }\n\n    .dataframe thead th {\n        text-align: right;\n    }\n</style>\n<table border=\"1\" class=\"dataframe\">\n  <thead>\n    <tr style=\"text-align: right;\">\n      <th></th>\n      <th>0</th>\n    </tr>\n  </thead>\n  <tbody>\n    <tr>\n      <th>boy</th>\n      <td>3</td>\n    </tr>\n    <tr>\n      <th>mouse</th>\n      <td>2</td>\n    </tr>\n    <tr>\n      <th>zoo</th>\n      <td>2</td>\n    </tr>\n  </tbody>\n</table>\n</div>"
     },
     "execution_count": 14,
     "metadata": {},
     "output_type": "execute_result"
    }
   ],
   "source": [
    "# First we limit the elements of the matrix to a maximum of 1,\n",
    "# and then sum the matrix column-wise\n",
    "doc_frequencies = np.clip(term_matrix_dense, None, 1).sum(axis=0)\n",
    "\n",
    "pd.DataFrame(doc_frequencies, index=c_vect.get_feature_names_out())"
   ],
   "metadata": {
    "collapsed": false,
    "ExecuteTime": {
     "end_time": "2023-11-27T16:22:21.839455832Z",
     "start_time": "2023-11-27T16:22:21.793170094Z"
    }
   },
   "id": "444b9b21b6521066"
  },
  {
   "cell_type": "code",
   "execution_count": 15,
   "outputs": [
    {
     "name": "stdout",
     "output_type": "stream",
     "text": [
      "1.2231435513142097\n"
     ]
    }
   ],
   "source": [
    "import math\n",
    "\n",
    "print(math.log((4 + 1) / (3 + 1)) + 1)\n"
   ],
   "metadata": {
    "collapsed": false,
    "ExecuteTime": {
     "end_time": "2023-11-27T16:22:57.916181541Z",
     "start_time": "2023-11-27T16:22:57.859519353Z"
    }
   },
   "id": "ace38c344c132bf0"
  },
  {
   "cell_type": "code",
   "execution_count": 16,
   "outputs": [
    {
     "data": {
      "text/plain": "           boy     mouse       zoo\ndoc1  2.446287  1.510826  0.000000\ndoc2  0.000000  1.510826  0.000000\ndoc3  1.223144  0.000000  1.510826\ndoc4  1.223144  0.000000  3.021651",
      "text/html": "<div>\n<style scoped>\n    .dataframe tbody tr th:only-of-type {\n        vertical-align: middle;\n    }\n\n    .dataframe tbody tr th {\n        vertical-align: top;\n    }\n\n    .dataframe thead th {\n        text-align: right;\n    }\n</style>\n<table border=\"1\" class=\"dataframe\">\n  <thead>\n    <tr style=\"text-align: right;\">\n      <th></th>\n      <th>boy</th>\n      <th>mouse</th>\n      <th>zoo</th>\n    </tr>\n  </thead>\n  <tbody>\n    <tr>\n      <th>doc1</th>\n      <td>2.446287</td>\n      <td>1.510826</td>\n      <td>0.000000</td>\n    </tr>\n    <tr>\n      <th>doc2</th>\n      <td>0.000000</td>\n      <td>1.510826</td>\n      <td>0.000000</td>\n    </tr>\n    <tr>\n      <th>doc3</th>\n      <td>1.223144</td>\n      <td>0.000000</td>\n      <td>1.510826</td>\n    </tr>\n    <tr>\n      <th>doc4</th>\n      <td>1.223144</td>\n      <td>0.000000</td>\n      <td>3.021651</td>\n    </tr>\n  </tbody>\n</table>\n</div>"
     },
     "execution_count": 16,
     "metadata": {},
     "output_type": "execute_result"
    }
   ],
   "source": [
    "tfidf_vect = TfidfVectorizer(smooth_idf=True, use_idf=True, norm=None)\n",
    "tfidf_term_matrix = tfidf_vect.fit_transform(toy_corpus)\n",
    "pd.DataFrame(tfidf_term_matrix.toarray(),\n",
    "             columns=c_vect.get_feature_names_out(),\n",
    "             index=[f\"doc{i}\" for i in range(1, len(toy_corpus) + 1)]\n",
    "             )"
   ],
   "metadata": {
    "collapsed": false,
    "ExecuteTime": {
     "end_time": "2023-11-27T16:24:14.946701659Z",
     "start_time": "2023-11-27T16:24:14.866956759Z"
    }
   },
   "id": "fec61986b6371a7b"
  },
  {
   "cell_type": "code",
   "execution_count": 17,
   "outputs": [
    {
     "data": {
      "text/plain": "array([1.22314355, 1.51082562, 1.51082562])"
     },
     "execution_count": 17,
     "metadata": {},
     "output_type": "execute_result"
    }
   ],
   "source": [
    "# Get the inverse document frequency\n",
    "tfidf_vect.idf_"
   ],
   "metadata": {
    "collapsed": false,
    "ExecuteTime": {
     "end_time": "2023-11-27T16:26:55.095465637Z",
     "start_time": "2023-11-27T16:26:55.031933342Z"
    }
   },
   "id": "4a98b43c87c4fa4"
  }
 ],
 "metadata": {
  "kernelspec": {
   "display_name": "Python 3",
   "language": "python",
   "name": "python3"
  },
  "language_info": {
   "codemirror_mode": {
    "name": "ipython",
    "version": 2
   },
   "file_extension": ".py",
   "mimetype": "text/x-python",
   "name": "python",
   "nbconvert_exporter": "python",
   "pygments_lexer": "ipython2",
   "version": "2.7.6"
  }
 },
 "nbformat": 4,
 "nbformat_minor": 5
}
