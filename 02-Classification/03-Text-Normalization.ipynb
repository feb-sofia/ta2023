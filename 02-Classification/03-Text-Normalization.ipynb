{
 "cells": [
  {
   "cell_type": "code",
   "execution_count": 13,
   "metadata": {
    "scrolled": true,
    "ExecuteTime": {
     "end_time": "2023-11-27T15:24:01.410937855Z",
     "start_time": "2023-11-27T15:23:52.548682679Z"
    }
   },
   "outputs": [
    {
     "name": "stderr",
     "output_type": "stream",
     "text": [
      "[nltk_data] Downloading package punkt to /home/amarov/nltk_data...\n",
      "[nltk_data]   Unzipping tokenizers/punkt.zip.\n",
      "[nltk_data] Downloading package stopwords to /home/amarov/nltk_data...\n",
      "[nltk_data]   Package stopwords is already up-to-date!\n",
      "[nltk_data] Downloading package wordnet to /home/amarov/nltk_data...\n",
      "[nltk_data]   Package wordnet is already up-to-date!\n",
      "[nltk_data] Downloading package omw-1.4 to /home/amarov/nltk_data...\n",
      "[nltk_data] Downloading package averaged_perceptron_tagger to\n",
      "[nltk_data]     /home/amarov/nltk_data...\n",
      "[nltk_data]   Unzipping taggers/averaged_perceptron_tagger.zip.\n"
     ]
    },
    {
     "data": {
      "text/plain": "True"
     },
     "execution_count": 13,
     "metadata": {},
     "output_type": "execute_result"
    }
   ],
   "source": [
    "from urllib import request\n",
    "import numpy as np\n",
    "import re\n",
    "import nltk\n",
    "from nltk.stem import PorterStemmer, LancasterStemmer\n",
    "\n",
    "nltk.download('punkt')\n",
    "nltk.download('stopwords')\n",
    "nltk.download('wordnet')\n",
    "nltk.download('omw-1.4')\n",
    "nltk.download('averaged_perceptron_tagger')"
   ]
  },
  {
   "cell_type": "markdown",
   "metadata": {},
   "source": [
    "First we divide the articles into individual sentences by splitting the string by \".\"."
   ]
  },
  {
   "cell_type": "markdown",
   "metadata": {},
   "source": [
    "## Text normalisation\n",
    "\n",
    "### Sentence tokenization\n"
   ]
  },
  {
   "cell_type": "code",
   "execution_count": 14,
   "metadata": {
    "ExecuteTime": {
     "end_time": "2023-11-27T15:24:01.650955018Z",
     "start_time": "2023-11-27T15:24:01.410508232Z"
    }
   },
   "outputs": [],
   "source": [
    "ballet_url = \"https://raw.githubusercontent.com/boyko/text-analytics-script/main/data/ballet.txt\"\n",
    "url_handle = request.urlopen(ballet_url)\n",
    "articles = url_handle.read().decode(\"utf-8\")"
   ]
  },
  {
   "cell_type": "code",
   "execution_count": 15,
   "metadata": {
    "ExecuteTime": {
     "end_time": "2023-11-27T15:24:02.833163880Z",
     "start_time": "2023-11-27T15:24:02.812675852Z"
    }
   },
   "outputs": [
    {
     "name": "stdout",
     "output_type": "stream",
     "text": [
      "['With apologies to James Brown, the hardest working people in show business may well be ballet dancers.', 'And at New York City Ballet, none work harder than the dancers in its lowest rank, the corps de ballet.', 'During the first week of the company’s winter season, Claire Kretzschmar, 24, a rising corps member, danced in all seven performances, appearing in five ballets, sometimes changing costumes at intermission to dance two roles in a night.', 'But her work onstage did not even begin to capture the stamina required to be in the corps.', 'Spending a week shadowing Ms. Kretzschmar was exhausting — she gave new meaning to the idea of being on your feet all day.', 'Twelve-hour days at the David H. Koch Theater, the company’s Lincoln Center home, were hardly unusual: Company class each morning was followed by back-to-back-to-back rehearsals, with occasional breaks for costume fittings or physical therapy, and then by the hair-makeup-costume-dance routine of daily performances.', 'Video\\nEvery day, Claire Kretzschmar of the New York City Ballet goes from class to rehearsal to performance at a breathless pace.', 'Dance alongside her busy day.', 'CREDIT PHOTOGRAPH BY SASHA ARUTYUNOVA FOR THE NEW YORK TIMES.', 'TECHNOLOGY BY SAMSUNG.']\n"
     ]
    }
   ],
   "source": [
    "\n",
    "naive_sentences = re.split(r\"[.!?] \", articles)\n",
    "sentences = nltk.sent_tokenize(articles)\n",
    "\n",
    "print(sentences[:10])"
   ]
  },
  {
   "cell_type": "code",
   "execution_count": 16,
   "metadata": {
    "ExecuteTime": {
     "end_time": "2023-11-27T15:24:11.186834633Z",
     "start_time": "2023-11-27T15:24:11.165832249Z"
    }
   },
   "outputs": [
    {
     "name": "stdout",
     "output_type": "stream",
     "text": [
      "Number of sentences from sent_tokenize: 91. Number of sentences from naive split: 116.\n"
     ]
    }
   ],
   "source": [
    "## Compare with naive split on \".\"\n",
    "print(\n",
    "    f\"Number of sentences from sent_tokenize: {len(sentences)}. Number of sentences from naive split: {len(naive_sentences)}.\"\n",
    ")"
   ]
  },
  {
   "cell_type": "markdown",
   "metadata": {},
   "source": [
    "\n",
    "### Word tokenization\n",
    "\n",
    "Splitting a sentence into tokens (words and punctuation)."
   ]
  },
  {
   "cell_type": "code",
   "execution_count": 17,
   "metadata": {
    "ExecuteTime": {
     "end_time": "2023-11-27T15:24:14.552840317Z",
     "start_time": "2023-11-27T15:24:14.521771285Z"
    }
   },
   "outputs": [
    {
     "data": {
      "text/plain": "[['With',\n  'apologies',\n  'to',\n  'James',\n  'Brown',\n  ',',\n  'the',\n  'hardest',\n  'working',\n  'people',\n  'in',\n  'show',\n  'business',\n  'may',\n  'well',\n  'be',\n  'ballet',\n  'dancers',\n  '.'],\n ['And',\n  'at',\n  'New',\n  'York',\n  'City',\n  'Ballet',\n  ',',\n  'none',\n  'work',\n  'harder',\n  'than',\n  'the',\n  'dancers',\n  'in',\n  'its',\n  'lowest',\n  'rank',\n  ',',\n  'the',\n  'corps',\n  'de',\n  'ballet',\n  '.'],\n ['During',\n  'the',\n  'first',\n  'week',\n  'of',\n  'the',\n  'company',\n  '’',\n  's',\n  'winter',\n  'season',\n  ',',\n  'Claire',\n  'Kretzschmar',\n  ',',\n  '24',\n  ',',\n  'a',\n  'rising',\n  'corps',\n  'member',\n  ',',\n  'danced',\n  'in',\n  'all',\n  'seven',\n  'performances',\n  ',',\n  'appearing',\n  'in',\n  'five',\n  'ballets',\n  ',',\n  'sometimes',\n  'changing',\n  'costumes',\n  'at',\n  'intermission',\n  'to',\n  'dance',\n  'two',\n  'roles',\n  'in',\n  'a',\n  'night',\n  '.'],\n ['But',\n  'her',\n  'work',\n  'onstage',\n  'did',\n  'not',\n  'even',\n  'begin',\n  'to',\n  'capture',\n  'the',\n  'stamina',\n  'required',\n  'to',\n  'be',\n  'in',\n  'the',\n  'corps',\n  '.'],\n ['Spending',\n  'a',\n  'week',\n  'shadowing',\n  'Ms.',\n  'Kretzschmar',\n  'was',\n  'exhausting',\n  '—',\n  'she',\n  'gave',\n  'new',\n  'meaning',\n  'to',\n  'the',\n  'idea',\n  'of',\n  'being',\n  'on',\n  'your',\n  'feet',\n  'all',\n  'day',\n  '.'],\n ['Twelve-hour',\n  'days',\n  'at',\n  'the',\n  'David',\n  'H.',\n  'Koch',\n  'Theater',\n  ',',\n  'the',\n  'company',\n  '’',\n  's',\n  'Lincoln',\n  'Center',\n  'home',\n  ',',\n  'were',\n  'hardly',\n  'unusual',\n  ':',\n  'Company',\n  'class',\n  'each',\n  'morning',\n  'was',\n  'followed',\n  'by',\n  'back-to-back-to-back',\n  'rehearsals',\n  ',',\n  'with',\n  'occasional',\n  'breaks',\n  'for',\n  'costume',\n  'fittings',\n  'or',\n  'physical',\n  'therapy',\n  ',',\n  'and',\n  'then',\n  'by',\n  'the',\n  'hair-makeup-costume-dance',\n  'routine',\n  'of',\n  'daily',\n  'performances',\n  '.'],\n ['Video',\n  'Every',\n  'day',\n  ',',\n  'Claire',\n  'Kretzschmar',\n  'of',\n  'the',\n  'New',\n  'York',\n  'City',\n  'Ballet',\n  'goes',\n  'from',\n  'class',\n  'to',\n  'rehearsal',\n  'to',\n  'performance',\n  'at',\n  'a',\n  'breathless',\n  'pace',\n  '.'],\n ['Dance', 'alongside', 'her', 'busy', 'day', '.'],\n ['CREDIT',\n  'PHOTOGRAPH',\n  'BY',\n  'SASHA',\n  'ARUTYUNOVA',\n  'FOR',\n  'THE',\n  'NEW',\n  'YORK',\n  'TIMES',\n  '.'],\n ['TECHNOLOGY', 'BY', 'SAMSUNG', '.'],\n ['PUBLISH',\n  'DATE',\n  'JANUARY',\n  '27',\n  ',',\n  '2017',\n  'This',\n  'weekend',\n  'will',\n  'be',\n  'even',\n  'more',\n  'frenetic',\n  '.'],\n ['Ms.',\n  'Kretzschmar',\n  'will',\n  'appear',\n  'in',\n  'seven',\n  'ballets',\n  'from',\n  'Friday',\n  'evening',\n  'to',\n  'Sunday',\n  'afternoon',\n  ',',\n  'when',\n  'she',\n  'faces',\n  'a',\n  'new',\n  'test',\n  ':',\n  'taking',\n  'on',\n  'the',\n  'title',\n  'role',\n  'of',\n  'the',\n  'Sleepwalker',\n  'in',\n  'George',\n  'Balanchine',\n  '’',\n  's',\n  'eerie',\n  ',',\n  'proto-goth',\n  'ballet',\n  '“',\n  'La',\n  'Sonnambula.',\n  '”',\n  'Balanchine',\n  ',',\n  'one',\n  'of',\n  'ballet',\n  '’',\n  's',\n  'most',\n  'important',\n  'choreographers',\n  ',',\n  'was',\n  'a',\n  'founder',\n  'of',\n  'City',\n  'Ballet',\n  ',',\n  'and',\n  'remains',\n  'its',\n  'guiding',\n  'spirit',\n  'more',\n  'than',\n  'three',\n  'decades',\n  'after',\n  'his',\n  'death',\n  '.'],\n ['Being',\n  'in',\n  'City',\n  'Ballet',\n  '’',\n  's',\n  'corps',\n  'is',\n  'not',\n  'like',\n  'being',\n  'a',\n  'member',\n  'of',\n  'a',\n  'chorus',\n  'line',\n  ',',\n  'or',\n  'a',\n  'backup',\n  'singer',\n  '.'],\n ['The',\n  'company',\n  'promotes',\n  'almost',\n  'all',\n  'of',\n  'its',\n  'stars',\n  ',',\n  'the',\n  'principal',\n  'dancers',\n  ',',\n  'from',\n  'within',\n  '.'],\n ['So',\n  'while',\n  'the',\n  'corps',\n  'is',\n  'expected',\n  'to',\n  'be',\n  'able',\n  'to',\n  'move',\n  'in',\n  'startling',\n  'unison',\n  ',',\n  'like',\n  'a',\n  'school',\n  'of',\n  'fish',\n  ',',\n  'and',\n  'to',\n  'assemble',\n  'in',\n  'straight',\n  'lines',\n  'and',\n  'keep',\n  'all',\n  'rippling',\n  'swan',\n  'arms',\n  'parallel',\n  ',',\n  'its',\n  '54',\n  'members',\n  'are',\n  'also',\n  'competing',\n  'for',\n  'bigger',\n  'roles',\n  'and',\n  'promotions',\n  '.'],\n ['“',\n  'There',\n  'is',\n  'an',\n  'element',\n  'of',\n  'competition',\n  ',',\n  'and',\n  'people',\n  'get',\n  'different',\n  'opportunities',\n  ',',\n  'but',\n  'everybody',\n  'just',\n  'wants',\n  'to',\n  'do',\n  'their',\n  'best',\n  'onstage',\n  ',',\n  'and',\n  'everyone',\n  'wants',\n  'each',\n  'other',\n  'to',\n  'just',\n  'do',\n  'their',\n  'best',\n  'onstage',\n  ',',\n  '”',\n  'Ms.',\n  'Kretzschmar',\n  'said',\n  'during',\n  'a',\n  'break',\n  'between',\n  'rehearsals',\n  'last',\n  'week',\n  '.'],\n ['“',\n  'We',\n  'have',\n  'all',\n  'experienced',\n  'so',\n  'many',\n  'extreme',\n  'highs',\n  'and',\n  'lows',\n  'that',\n  'it',\n  '’',\n  's',\n  'almost',\n  'that',\n  'you',\n  'have',\n  'to',\n  'bond',\n  'with',\n  'this',\n  'group',\n  'of',\n  'people.',\n  '”',\n  'Here',\n  'are',\n  'scenes',\n  'from',\n  'one',\n  'week',\n  'in',\n  'the',\n  'busy',\n  'life',\n  'of',\n  'a',\n  'corps',\n  'member',\n  '.'],\n ['Image',\n  'Ms.',\n  'Kretzschmar',\n  'at',\n  'a',\n  'morning',\n  'company',\n  'dance',\n  'class',\n  ',',\n  'followed',\n  'by',\n  'back-to-back-to-back',\n  'rehearsals',\n  '.'],\n ['CREDITSASHA',\n  'ARUTYUNOVA',\n  'FOR',\n  'THE',\n  'NEW',\n  'YORK',\n  'TIMES',\n  'Tuesday',\n  ',',\n  'Opening',\n  'Day',\n  '10:09',\n  'A.M.',\n  'COMPANY',\n  'CLASS',\n  ',',\n  '‘',\n  'NOTHING',\n  'FANCY',\n  '’',\n  'Ms.',\n  'Kretzschmar',\n  'arrives',\n  'early',\n  'in',\n  'the',\n  'large',\n  'studio',\n  'on',\n  'the',\n  'Koch',\n  '’',\n  's',\n  'fifth',\n  'floor',\n  ',',\n  'stakes',\n  'out',\n  'her',\n  'regular',\n  'spot',\n  'at',\n  'the',\n  'barre',\n  'in',\n  'the',\n  'back',\n  'corner',\n  ',',\n  'and',\n  'wraps',\n  'her',\n  'toes',\n  'in',\n  'paper',\n  'towels',\n  'before',\n  'slipping',\n  'on',\n  'her',\n  'point',\n  'shoes',\n  '.'],\n ['Dancers', 'soon', 'fill', 'the', 'room', '.'],\n ['Unity',\n  'Phelan',\n  'and',\n  'Brittany',\n  'Pollack',\n  'bring',\n  'their',\n  'dogs',\n  '.'],\n ['Peter',\n  'Martins',\n  ',',\n  'the',\n  'company',\n  '’',\n  's',\n  'ballet',\n  'master',\n  'in',\n  'chief',\n  ',',\n  'strides',\n  'in',\n  ',',\n  'coffee',\n  'cup',\n  'in',\n  'hand',\n  ',',\n  'and',\n  'puts',\n  'the',\n  'whole',\n  'company',\n  'through',\n  'its',\n  'paces',\n  ',',\n  'as',\n  'the',\n  'rehearsal',\n  'pianist',\n  'plays',\n  'Gershwin',\n  '.'],\n ['Later',\n  'he',\n  'says',\n  ':',\n  '“',\n  'George',\n  'Balanchine',\n  'used',\n  'to',\n  'tell',\n  'me',\n  ',',\n  '‘',\n  'You',\n  'know',\n  'what',\n  'class',\n  'is',\n  'about',\n  ',',\n  'dear',\n  '?',\n  '’',\n  'He',\n  'said',\n  ',',\n  '‘',\n  'What',\n  'we',\n  'do',\n  'is',\n  'we',\n  'brush',\n  'teeth',\n  ',',\n  'we',\n  'clean',\n  'teeth',\n  'every',\n  'morning',\n  '.'],\n ['Nothing',\n  'fancy',\n  ':',\n  'We',\n  'just',\n  'keep',\n  'the',\n  'essentials',\n  'pure.',\n  '’',\n  '”',\n  '11:30',\n  'A.M.',\n  'REHEARSAL',\n  'STUDIO',\n  'After',\n  'class',\n  ',',\n  'Ms.',\n  'Kretzschmar',\n  '—',\n  'who',\n  'studied',\n  'ballet',\n  'while',\n  'growing',\n  'up',\n  'in',\n  'North',\n  'Carolina',\n  ',',\n  'came',\n  'to',\n  'New',\n  'York',\n  'to',\n  'study',\n  'at',\n  'the',\n  'School',\n  'of',\n  'American',\n  'Ballet',\n  ',',\n  'the',\n  'company',\n  '’',\n  's',\n  'official',\n  'school',\n  ',',\n  'and',\n  'joined',\n  'the',\n  'corps',\n  'in',\n  '2011',\n  '—',\n  'stays',\n  'in',\n  'the',\n  'studio',\n  'to',\n  'observe',\n  'a',\n  'rehearsal',\n  'of',\n  'a',\n  'dance',\n  'she',\n  'is',\n  'learning',\n  ',',\n  'and',\n  'then',\n  'watches',\n  'a',\n  'new',\n  'Pontus',\n  'Lidberg',\n  'ballet',\n  'for',\n  'which',\n  'she',\n  'is',\n  'an',\n  'understudy',\n  '.'],\n ['At',\n  '1',\n  'p.m.',\n  ',',\n  'she',\n  'finally',\n  'gets',\n  'on',\n  'her',\n  'toes',\n  'for',\n  'a',\n  'rehearsal',\n  'of',\n  '“',\n  'Fearful',\n  'Symmetries',\n  ',',\n  '”',\n  'a',\n  'demanding',\n  ',',\n  'propulsive',\n  'ballet',\n  'choreographed',\n  'by',\n  'Mr.',\n  'Martins',\n  'that',\n  'she',\n  'was',\n  'given',\n  'a',\n  'principal',\n  'role',\n  'in',\n  '.'],\n ['She',\n  'pauses',\n  'to',\n  'ask',\n  'how',\n  'to',\n  'time',\n  'a',\n  'climactic',\n  'gesture',\n  'in',\n  'which',\n  'she',\n  'rests',\n  'her',\n  'head',\n  'on',\n  'her',\n  'partner',\n  '’',\n  's',\n  'palm',\n  '.'],\n ['“',\n  'It',\n  '’',\n  's',\n  'a',\n  'Hail',\n  'Mary',\n  ',',\n  '”',\n  'the',\n  'ballet',\n  'master',\n  ',',\n  'Kathleen',\n  'Tracey',\n  ',',\n  'tells',\n  'her',\n  '.'],\n ['“',\n  'Hope',\n  'for',\n  'the',\n  'best',\n  '!',\n  '”',\n  'Image',\n  'Ms.',\n  'Kretzschmar',\n  'in',\n  'a',\n  'rehearsal',\n  'at',\n  'the',\n  'David',\n  'H.',\n  'Koch',\n  'Theater',\n  '.'],\n ['“',\n  'There',\n  'is',\n  'an',\n  'element',\n  'of',\n  'competition',\n  ',',\n  '”',\n  'she',\n  'said',\n  ',',\n  '“',\n  'but',\n  'everybody',\n  'just',\n  'wants',\n  'to',\n  'do',\n  'their',\n  'best',\n  'onstage',\n  ',',\n  'and',\n  'everyone',\n  'wants',\n  'each',\n  'other',\n  'to',\n  'just',\n  'do',\n  'their',\n  'best',\n  'onstage.',\n  '”',\n  'CREDITSASHA',\n  'ARUTYUNOVA',\n  'FOR',\n  'THE',\n  'NEW',\n  'YORK',\n  'TIMES',\n  '2:20',\n  'P.M.',\n  'SLEEPWALKING',\n  'ONSTAGE',\n  'The',\n  'wig',\n  'needs',\n  'combing',\n  '.'],\n ['Few',\n  'characters',\n  'in',\n  'ballet',\n  'make',\n  'as',\n  'lasting',\n  'an',\n  'impression',\n  'as',\n  'the',\n  'Sleepwalker',\n  ',',\n  'an',\n  'enigmatic',\n  'character',\n  'with',\n  'long',\n  ',',\n  'flowing',\n  'hair',\n  'who',\n  'makes',\n  'her',\n  'unseeing',\n  'entrance',\n  'on',\n  'point',\n  ',',\n  'holding',\n  'a',\n  'candle',\n  '.'],\n ['But',\n  'when',\n  'Ms.',\n  'Kretzschmar',\n  'first',\n  'steps',\n  'out',\n  'onstage',\n  'in',\n  'her',\n  'new',\n  'wig',\n  ',',\n  'the',\n  'action',\n  'briefly',\n  'stops',\n  ',',\n  'as',\n  'the',\n  'ballet',\n  'masters',\n  'confer',\n  'with',\n  'Suzy',\n  'Alvarez',\n  ',',\n  'the',\n  'company',\n  '’',\n  's',\n  'hair',\n  'and',\n  'makeup',\n  'supervisor',\n  ',',\n  'about',\n  'how',\n  'they',\n  'want',\n  'the',\n  'wig',\n  'to',\n  'look',\n  '.'],\n ['It',\n  'was',\n  'the',\n  'wig',\n  'that',\n  'first',\n  'tipped',\n  'Ms.',\n  'Kretzschmar',\n  'off',\n  'that',\n  'she',\n  'was',\n  'getting',\n  'the',\n  'part',\n  ';',\n  'even',\n  'before',\n  'the',\n  'casting',\n  'was',\n  'announced',\n  'she',\n  'was',\n  'summoned',\n  'to',\n  'a',\n  'fitting',\n  '.'],\n ['“',\n  'I',\n  'don',\n  '’',\n  't',\n  'think',\n  'they',\n  'would',\n  'give',\n  'me',\n  'a',\n  'wig',\n  'if',\n  'I',\n  'wasn',\n  '’',\n  't',\n  'going',\n  'to',\n  'do',\n  'it',\n  ',',\n  '”',\n  'she',\n  'said',\n  '.'],\n ['The', 'dancers', 'work', 'on', 'one-year', 'contracts', '.'],\n ['Corps',\n  'members',\n  'earn',\n  'roughly',\n  '$',\n  '1,100',\n  'to',\n  '$',\n  '2,100',\n  'a',\n  'week',\n  ',',\n  'depending',\n  'on',\n  'seniority',\n  ',',\n  'and',\n  'are',\n  'typically',\n  'paid',\n  'for',\n  '37',\n  'to',\n  '39',\n  'weeks',\n  'a',\n  'year',\n  '.'],\n ['Since',\n  'ballet',\n  'careers',\n  'are',\n  'short',\n  ',',\n  'many',\n  'are',\n  'in',\n  'a',\n  'hurry',\n  'to',\n  'make',\n  'their',\n  'marks',\n  '.'],\n ['Giving',\n  'corps',\n  'members',\n  'a',\n  'shot',\n  'at',\n  'big',\n  'roles',\n  'like',\n  'this',\n  'is',\n  'part',\n  'of',\n  'the',\n  'ethos',\n  'of',\n  'City',\n  'Ballet',\n  '.'],\n ['“', 'You', 'test', 'them', ',', '”', 'Mr.', 'Martins', 'said', '.'],\n ['“', 'What', 'are', 'they', 'made', 'of', '?'],\n ['Am', 'I', 'wrong', ',', 'am', 'I', 'right', '?'],\n ['You',\n  'throw',\n  'little',\n  'bones',\n  'to',\n  'them',\n  'and',\n  'see',\n  'how',\n  'they',\n  'react.',\n  '”',\n  'Image',\n  'Ms.',\n  'Kretzschmar',\n  'at',\n  'a',\n  'dress',\n  'rehearsal',\n  'of',\n  '“',\n  'Swan',\n  'Lake.',\n  '”',\n  'CREDITSASHA',\n  'ARUTYUNOVA',\n  'FOR',\n  'THE',\n  'NEW',\n  'YORK',\n  'TIMES',\n  '3:10',\n  'P.M.',\n  'COSTUME',\n  'FITTING',\n  ':',\n  'TUTUS',\n  'AND',\n  'HOODIES',\n  'City',\n  'Ballet',\n  '’',\n  's',\n  'costume',\n  'shop',\n  '—',\n  'acres',\n  'of',\n  'tulle',\n  'and',\n  'tutus',\n  '—',\n  'is',\n  'tucked',\n  'away',\n  'on',\n  'the',\n  'eighth',\n  'floor',\n  'of',\n  'the',\n  'Rose',\n  'Building',\n  'at',\n  'Lincoln',\n  'Center',\n  '.'],\n ['Fittings',\n  'here',\n  'offer',\n  'a',\n  'brief',\n  'respite',\n  'from',\n  'the',\n  'theater',\n  'and',\n  'a',\n  'breath',\n  'of',\n  'fresh',\n  'air',\n  '.'],\n ['Ms.',\n  'Kretzschmar',\n  'tries',\n  'on',\n  'the',\n  'black',\n  'hoodie',\n  ',',\n  'skirt',\n  'and',\n  'high-top',\n  'sneakers',\n  'she',\n  'will',\n  'wear',\n  'in',\n  'Justin',\n  'Peck',\n  '’',\n  's',\n  'new',\n  'ballet',\n  ',',\n  '“',\n  'The',\n  'Times',\n  'Are',\n  'Racing.',\n  '”',\n  'Then',\n  'it',\n  'was',\n  'back',\n  'to',\n  'the',\n  'theater',\n  'for',\n  'one',\n  'more',\n  'rehearsal',\n  'and',\n  'then',\n  'opening',\n  'night',\n  ',',\n  'where',\n  'she',\n  'danced',\n  'in',\n  'Balanchine',\n  '’',\n  's',\n  '“',\n  'Firebird',\n  ',',\n  '”',\n  'the',\n  'last',\n  'ballet',\n  'on',\n  'the',\n  'evening',\n  '’',\n  's',\n  'triple',\n  'bill',\n  '.'],\n ['Image', 'A', '15-minute', 'physical', 'therapy', 'session', '.'],\n ['Her',\n  'left',\n  'foot',\n  ',',\n  'which',\n  'she',\n  'injured',\n  'in',\n  'the',\n  'past',\n  ',',\n  '“',\n  'gets',\n  'tighter',\n  'quicker',\n  'than',\n  'the',\n  'right',\n  'one',\n  ',',\n  '”',\n  'Ms.',\n  'Kretzschmar',\n  'says',\n  '.'],\n ['CREDITSASHA',\n  'ARUTYUNOVA',\n  'FOR',\n  'THE',\n  'NEW',\n  'YORK',\n  'TIMES',\n  'Wednesday',\n  '1:30',\n  'P.M',\n  '.'],\n ['PHYSICAL',\n  'THERAPY',\n  'Ballet',\n  'is',\n  'a',\n  'physically',\n  'punishing',\n  ',',\n  'sometimes',\n  'dangerous',\n  'business',\n  ':',\n  'Injuries',\n  'are',\n  'all',\n  'too',\n  'common',\n  'and',\n  'can',\n  'lead',\n  'to',\n  'missed',\n  'performances',\n  'and',\n  'careers',\n  'cut',\n  'short',\n  '.'],\n ['Ms.',\n  'Kretzschmar',\n  'signs',\n  'up',\n  'for',\n  '15-minute',\n  'physical',\n  'therapy',\n  'sessions',\n  'in',\n  'a',\n  'small',\n  'space',\n  'resembling',\n  'a',\n  'doctor',\n  '’',\n  's',\n  'office',\n  'on',\n  'the',\n  'fifth',\n  'floor',\n  'of',\n  'the',\n  'theater',\n  '.'],\n ['She',\n  'lies',\n  'on',\n  'a',\n  'table',\n  'and',\n  'Taryn',\n  'Khong',\n  ',',\n  'the',\n  'therapist',\n  ',',\n  'manipulates',\n  'her',\n  'left',\n  'foot',\n  ',',\n  'which',\n  'Ms.',\n  'Kretzschmar',\n  'has',\n  'injured',\n  'in',\n  'the',\n  'past',\n  '.'],\n ['“',\n  'It',\n  'gets',\n  'tighter',\n  'quicker',\n  'than',\n  'the',\n  'right',\n  'one',\n  ',',\n  '”',\n  'she',\n  'said',\n  '.'],\n ['4:18',\n  'P.M.',\n  ':',\n  '‘',\n  'FEARFUL',\n  'SYMMETRIES',\n  '’',\n  'REHEARSAL',\n  'Ms.',\n  'Kretzschmar',\n  'begins',\n  'her',\n  'third',\n  'stage',\n  'rehearsal',\n  'of',\n  'the',\n  'day',\n  '.'],\n ['Mr.',\n  'Martins',\n  ',',\n  'who',\n  'choreographed',\n  'the',\n  'piece',\n  ',',\n  'makes',\n  'a',\n  'request',\n  ':',\n  'At',\n  'one',\n  'point',\n  ',',\n  'when',\n  'she',\n  'thrusts',\n  'her',\n  'leg',\n  'behind',\n  'her',\n  ',',\n  'he',\n  'wants',\n  'her',\n  'to',\n  'bend',\n  'it',\n  'to',\n  'one',\n  'side',\n  ',',\n  'forming',\n  'a',\n  'sort',\n  'of',\n  'arabesque-with-a-twist',\n  '.'],\n ['Ms.',\n  'Tracey',\n  ',',\n  'the',\n  'ballet',\n  'master',\n  'leading',\n  'the',\n  'rehearsal',\n  ',',\n  'demonstrates',\n  '.'],\n ['“', 'That', ',', 'exactly', ',', '”', 'Mr.', 'Martins', 'says', '.'],\n ['Ms.',\n  'Kretzschmar',\n  'tries',\n  'once',\n  'more',\n  'to',\n  'execute',\n  'the',\n  'twisting',\n  'step',\n  ',',\n  'which',\n  'some',\n  'dancers',\n  'call',\n  '“',\n  'crack',\n  'your',\n  'back',\n  '”',\n  'because',\n  'it',\n  'looks',\n  'as',\n  'if',\n  'it',\n  'might',\n  '.'],\n ['Image',\n  'A',\n  'makeup',\n  'session',\n  'before',\n  'dancing',\n  '“',\n  'Swan',\n  'Lake.',\n  '”',\n  'CREDITSASHA',\n  'ARUTYUNOVA',\n  'FOR',\n  'THE',\n  'NEW',\n  'YORK',\n  'TIMES',\n  '6:40',\n  'P.M',\n  '.'],\n ['HAIR',\n  'AND',\n  'MAKEUP',\n  ':',\n  'HEAD',\n  ',',\n  'MEET',\n  'BUN',\n  'Time',\n  'to',\n  'become',\n  'a',\n  'swan',\n  '.'],\n ['“',\n  'Swan',\n  'Lake',\n  '”',\n  'is',\n  'one',\n  'of',\n  'the',\n  'most',\n  'famous',\n  'ballets',\n  'of',\n  'them',\n  'all',\n  ',',\n  'and',\n  'Balanchine',\n  '’',\n  's',\n  'unusual',\n  'one-act',\n  'take',\n  'on',\n  'it',\n  'has',\n  'plenty',\n  'of',\n  'dancing',\n  'for',\n  'the',\n  'corps',\n  'members',\n  'playing',\n  'swans',\n  '.'],\n ['Sitting',\n  'at',\n  'a',\n  'light-bulb-ringed',\n  'mirror',\n  'in',\n  'the',\n  'hair',\n  'and',\n  'makeup',\n  'room',\n  ',',\n  'Ms.',\n  'Kretzschmar',\n  'applies',\n  'eyeliner',\n  'and',\n  'puts',\n  'her',\n  'hair',\n  'in',\n  'a',\n  'neat',\n  'bun',\n  '.'],\n ['A',\n  'hairdresser',\n  'calls',\n  'across',\n  'the',\n  'room',\n  'to',\n  'ask',\n  'all',\n  'the',\n  'swans',\n  'to',\n  'make',\n  'sure',\n  'that',\n  'some',\n  'hair',\n  'can',\n  'be',\n  'seen',\n  'beneath',\n  'their',\n  'matching',\n  'black',\n  'headdresses',\n  ',',\n  'which',\n  'come',\n  'to',\n  'a',\n  'point',\n  'in',\n  'the',\n  'center',\n  'of',\n  'their',\n  'foreheads',\n  '—',\n  'lest',\n  'they',\n  'start',\n  'to',\n  'look',\n  'like',\n  'a',\n  'member',\n  'of',\n  '“',\n  'The',\n  'Munsters',\n  '”',\n  'family',\n  'with',\n  'widow',\n  '’',\n  's',\n  'peaks',\n  '.'],\n ['“',\n  'Good',\n  'evening',\n  'everyone',\n  ',',\n  'this',\n  'is',\n  'your',\n  'half-hour',\n  'call',\n  ',',\n  '”',\n  'a',\n  'voice',\n  'says',\n  'over',\n  'a',\n  'loudspeaker',\n  '.'],\n ['7',\n  'P.M.',\n  'DRESSING',\n  'ROOM',\n  ':',\n  'LIVING',\n  'OUT',\n  'OF',\n  'A',\n  'THEATER',\n  'CASE',\n  'In',\n  'the',\n  'fourth-floor',\n  'dressing',\n  'room',\n  'she',\n  'shares',\n  'with',\n  'other',\n  'corps',\n  'women',\n  ',',\n  'Ms.',\n  'Kretzschmar',\n  'pins',\n  'on',\n  'her',\n  'headdress',\n  '.'],\n ['This', 'is', 'her', 'corner', 'of', 'the', 'theater', '.'],\n ['It',\n  'consists',\n  'of',\n  'a',\n  'mirror',\n  ',',\n  'a',\n  'hanging',\n  'closet',\n  'shelf',\n  'crammed',\n  'with',\n  'leotards',\n  ',',\n  'tights',\n  'and',\n  'clothes',\n  ',',\n  'and',\n  'her',\n  'theater',\n  'case',\n  '—',\n  'one',\n  'of',\n  'the',\n  'old-fashioned',\n  'black',\n  'rectangular',\n  'cases',\n  'that',\n  'dancers',\n  'live',\n  'out',\n  'of',\n  'and',\n  'tour',\n  'with',\n  '.'],\n ['Hers',\n  'sits',\n  'open',\n  'on',\n  'a',\n  'luggage',\n  'rack',\n  ';',\n  'as',\n  'is',\n  'traditional',\n  ',',\n  'the',\n  'inside',\n  'lid',\n  'is',\n  'decorated',\n  'with',\n  'personal',\n  'mementos',\n  '.'],\n ['Image',\n  'Claire',\n  'Kretzschmar',\n  'of',\n  'New',\n  'York',\n  'City',\n  'Ballet',\n  'preparing',\n  'for',\n  'a',\n  'rehearsal',\n  'of',\n  '“',\n  'The',\n  'Four',\n  'Temperaments',\n  '”',\n  'at',\n  'the',\n  'David',\n  'H.',\n  'Koch',\n  'Theater',\n  '.'],\n ['CREDITPHOTOGRAPH',\n  'BY',\n  'SASHA',\n  'ARUTYUNOVA',\n  'FOR',\n  'THE',\n  'NEW',\n  'YORK',\n  'TIMES',\n  '.'],\n ['TECHNOLOGY', 'BY', 'SAMSUNG', '.'],\n ['7:25', 'P.M', '.'],\n ['THE',\n  'WINGS',\n  'The',\n  'space',\n  'off',\n  'stage',\n  'right',\n  'resembles',\n  'a',\n  'mini',\n  'ballet',\n  'studio',\n  ':',\n  'There',\n  'is',\n  'a',\n  'barre',\n  ',',\n  'a',\n  'small',\n  'dance',\n  'floor',\n  ',',\n  'and',\n  'an',\n  'area',\n  'for',\n  'dancers',\n  'to',\n  'fix',\n  'their',\n  'shoes',\n  '.'],\n ['Although',\n  'she',\n  'is',\n  'not',\n  'in',\n  'the',\n  'evening',\n  '’',\n  's',\n  'first',\n  'ballet',\n  ',',\n  'Ms.',\n  'Kretzschmar',\n  'arrives',\n  'before',\n  'it',\n  'begins',\n  'and',\n  'uses',\n  'a',\n  'rasplike',\n  'tool',\n  'to',\n  'scuff',\n  'the',\n  'soles',\n  'of',\n  'her',\n  'point',\n  'shoes',\n  'so',\n  'they',\n  'won',\n  '’',\n  't',\n  'slip',\n  '.'],\n ['“',\n  'I',\n  'don',\n  '’',\n  't',\n  'like',\n  'to',\n  'feel',\n  'rushed',\n  'before',\n  'the',\n  'show',\n  ',',\n  'because',\n  'that',\n  'just',\n  'makes',\n  'me',\n  'more',\n  'stressed',\n  ',',\n  '”',\n  'she',\n  'explains',\n  'later',\n  '.'],\n ['“',\n  'For',\n  'me',\n  ',',\n  'I',\n  'take',\n  'that',\n  'time',\n  'so',\n  'I',\n  'can',\n  'kind',\n  'of',\n  'calm',\n  'down.',\n  '”',\n  'Next',\n  'to',\n  'her',\n  ',',\n  'Tiler',\n  'Peck',\n  ',',\n  'one',\n  'of',\n  'the',\n  'company',\n  '’',\n  's',\n  'biggest',\n  'stars',\n  ',',\n  'prepares',\n  'her',\n  'own',\n  'shoes',\n  '.'],\n ['The',\n  'company',\n  '’',\n  's',\n  'music',\n  'director',\n  ',',\n  'Andrew',\n  'Litton',\n  ',',\n  'arrives',\n  'in',\n  'his',\n  'tuxedo',\n  'before',\n  'heading',\n  'down',\n  'to',\n  'the',\n  'pit',\n  '.'],\n ['“',\n  'Hey',\n  'Tiler',\n  ',',\n  'merde',\n  ',',\n  '”',\n  'he',\n  'says',\n  ',',\n  'employing',\n  'the',\n  'earthy',\n  'French',\n  'expression',\n  'ballet',\n  'dancers',\n  'use',\n  'to',\n  'wish',\n  'each',\n  'other',\n  'luck',\n  '.'],\n ['“',\n  'Any',\n  'last',\n  'requests',\n  '?',\n  '”',\n  'Then',\n  ',',\n  'although',\n  'she',\n  'has',\n  'been',\n  'dancing',\n  'much',\n  'of',\n  'the',\n  'day',\n  ',',\n  'she',\n  'warms',\n  'up',\n  'again',\n  ',',\n  'seemingly',\n  'oblivious',\n  'to',\n  'the',\n  'performance',\n  'taking',\n  'place',\n  'onstage',\n  '30',\n  'feet',\n  'away',\n  '.'],\n ['Image',\n  'Ms.',\n  'Kretzschmar',\n  'in',\n  '“',\n  'Swan',\n  'Lake.',\n  '”',\n  'CREDITSASHA',\n  'ARUTYUNOVA',\n  'FOR',\n  'THE',\n  'NEW',\n  'YORK',\n  'TIMES',\n  '8:13',\n  'P.M.',\n  'SHOWTIME',\n  'Now',\n  'it',\n  '’',\n  's',\n  'time',\n  'to',\n  'use',\n  'those',\n  'muscles',\n  ':',\n  'first',\n  'as',\n  'a',\n  'swan',\n  'in',\n  '“',\n  'Swan',\n  'Lake',\n  ',',\n  '”',\n  'the',\n  'evening',\n  '’',\n  's',\n  'second',\n  'ballet',\n  ',',\n  'and',\n  ',',\n  'after',\n  'changing',\n  'into',\n  'a',\n  'modern',\n  'leotard',\n  ',',\n  'in',\n  'Balanchine',\n  '’',\n  's',\n  '“',\n  'The',\n  'Four',\n  'Temperaments.',\n  '”',\n  '9:40',\n  'P.M.',\n  'CURTAIN',\n  'DOWN',\n  ',',\n  'HOME',\n  'LEAVE',\n  'After',\n  'the',\n  'curtain',\n  'falls',\n  ',',\n  'she',\n  'goes',\n  'home',\n  'for',\n  'a',\n  'dinner',\n  'of',\n  'leftover',\n  'pulled',\n  'pork',\n  'and',\n  'macaroni',\n  'and',\n  'cheese',\n  ',',\n  'and',\n  'a',\n  'little',\n  'television',\n  '—',\n  'which',\n  'she',\n  'watches',\n  'with',\n  'her',\n  'feet',\n  'in',\n  'an',\n  'ice',\n  'bucket',\n  '.'],\n ['Friday',\n  '12:02',\n  'P.M.',\n  'PECK',\n  'REHEARSALS',\n  ':',\n  'HOODIES',\n  'ON',\n  'As',\n  'Donald',\n  'J.',\n  'Trump',\n  'is',\n  'being',\n  'inaugurated',\n  'in',\n  'Washington',\n  'and',\n  'marchers',\n  'are',\n  'preparing',\n  'for',\n  'a',\n  'weekend',\n  'of',\n  'mass',\n  'protests',\n  ',',\n  'Ms.',\n  'Kretzschmar',\n  'is',\n  'onstage',\n  'rehearsing',\n  'the',\n  'new',\n  'Justin',\n  'Peck',\n  'ballet',\n  '—',\n  'which',\n  'feels',\n  'timely',\n  ',',\n  'with',\n  'its',\n  'dancers',\n  'clad',\n  'in',\n  'shirts',\n  'and',\n  'hoodies',\n  'emblazoned',\n  'with',\n  'messages',\n  'including',\n  '“',\n  'Protest',\n  ',',\n  '”',\n  '“',\n  'Act',\n  '”',\n  'and',\n  '“',\n  'Unite.',\n  '”',\n  'Experimenting',\n  ',',\n  'she',\n  'flips',\n  'up',\n  'her',\n  'hood',\n  'as',\n  'she',\n  'dances',\n  '.'],\n ['“', 'Try', 'it', '!', '”', 'Mr.', 'Peck', 'says', 'encouragingly', '.'],\n ['“',\n  'I',\n  'don',\n  '’',\n  't',\n  'mind',\n  'if',\n  'it',\n  'comes',\n  'off.',\n  '”',\n  'Saturday',\n  '6:30',\n  'P.M.',\n  'SLEEPWALKING',\n  'BETWEEN',\n  'SHOWS',\n  'Although',\n  'she',\n  'has',\n  'just',\n  'danced',\n  'in',\n  'a',\n  'matinee',\n  'and',\n  'has',\n  'another',\n  'performance',\n  'that',\n  'evening',\n  ',',\n  'Ms.',\n  'Kretzschmar',\n  'requests',\n  'another',\n  '“',\n  'Sonnambula',\n  '”',\n  'rehearsal',\n  'sandwiched',\n  'between',\n  'shows',\n  '.'],\n ['Glenn',\n  'Keenan',\n  ',',\n  'the',\n  'ballet',\n  'master',\n  ',',\n  'walks',\n  'her',\n  'through',\n  'it',\n  'again',\n  'and',\n  'again',\n  '.'],\n ['Ms.',\n  'Keenan',\n  'asks',\n  'the',\n  'pianist',\n  ',',\n  'Elaine',\n  'Chelton',\n  ',',\n  'to',\n  'pick',\n  'up',\n  'at',\n  'the',\n  'moment',\n  'the',\n  'Sleepwalker',\n  'touches',\n  'the',\n  'body',\n  'of',\n  'the',\n  'Poet',\n  '.'],\n ['“',\n  'Do',\n  'you',\n  'have',\n  'where',\n  'she',\n  'bumps',\n  'into',\n  'the',\n  'body',\n  '?',\n  '”',\n  'she',\n  'asks',\n  '.'],\n ['Ms.',\n  'Chelton',\n  'scans',\n  'her',\n  'piano',\n  'score',\n  ',',\n  'which',\n  'is',\n  'annotated',\n  'with',\n  'all',\n  'manner',\n  'of',\n  'steps',\n  'and',\n  'stage',\n  'actions',\n  '.'],\n ['“',\n  'I',\n  'have',\n  'where',\n  'she',\n  'steps',\n  'over',\n  ',',\n  '”',\n  'she',\n  'replies',\n  ',',\n  'and',\n  'begins',\n  'playing',\n  'a',\n  'little',\n  'before',\n  'that',\n  '.'],\n ['Image',\n  'Ms.',\n  'Kretzschmar',\n  ',',\n  'right',\n  ',',\n  'during',\n  'a',\n  'rehearsal',\n  'for',\n  'Justin',\n  'Peck',\n  '’',\n  's',\n  '“',\n  'Scherzo',\n  'Fantastique',\n  '”',\n  'at',\n  'the',\n  'David',\n  'H.',\n  'Koch',\n  'Theater',\n  '.'],\n ['CREDITSASHA',\n  'ARUTYUNOVA',\n  'FOR',\n  'THE',\n  'NEW',\n  'YORK',\n  'TIMES',\n  'Sunday',\n  '5:15',\n  'P.M.',\n  'ONE',\n  'WEEK',\n  'DOWN',\n  ',',\n  'TWO',\n  'DEBUTS',\n  'TO',\n  'COME',\n  'After',\n  'dancing',\n  'two',\n  'more',\n  'roles',\n  'at',\n  'the',\n  'matinee',\n  '—',\n  'as',\n  'a',\n  'male-eating',\n  'insect',\n  'in',\n  'Jerome',\n  'Robbins',\n  '’',\n  's',\n  '“',\n  'The',\n  'Cage',\n  ',',\n  '”',\n  'and',\n  'in',\n  'the',\n  'corps',\n  'of',\n  'Mr.',\n  'Peck',\n  '’',\n  's',\n  '“',\n  'Scherzo',\n  'Fantastique',\n  '”',\n  '—',\n  'her',\n  'week',\n  'comes',\n  'to',\n  'an',\n  'end',\n  '.'],\n ['She',\n  'pauses',\n  'to',\n  'reflect',\n  'on',\n  'the',\n  'week',\n  'ahead',\n  ':',\n  'On',\n  'Monday',\n  ',',\n  'the',\n  'company',\n  '’',\n  's',\n  'day',\n  'off',\n  ',',\n  'she',\n  'will',\n  'start',\n  'a',\n  'class',\n  'at',\n  'Fordham',\n  ',',\n  'where',\n  'she',\n  'is',\n  'close',\n  'to',\n  'earning',\n  'a',\n  'degree',\n  'in',\n  'communications',\n  ',',\n  'with',\n  'a',\n  'minor',\n  'in',\n  'English',\n  '.'],\n ['Then',\n  'back',\n  'to',\n  'dancing',\n  ',',\n  'and',\n  'the',\n  'debuts',\n  'of',\n  'her',\n  'two',\n  'big',\n  'roles',\n  ',',\n  'which',\n  'she',\n  'said',\n  'she',\n  'would',\n  'keep',\n  'honing',\n  'between',\n  'all',\n  'her',\n  'other',\n  'roles',\n  '.'],\n ['“',\n  'I',\n  'want',\n  'to',\n  'feel',\n  'really',\n  'prepared',\n  ',',\n  '”',\n  'she',\n  'said',\n  ',',\n  'adding',\n  'that',\n  'she',\n  'would',\n  'take',\n  'care',\n  'not',\n  'to',\n  'overdo',\n  'it',\n  '.'],\n ['“',\n  'I',\n  'try',\n  'to',\n  'take',\n  'a',\n  'day-by-day',\n  ',',\n  'hour-by-hour',\n  'approach',\n  '.',\n  '”']]"
     },
     "execution_count": 17,
     "metadata": {},
     "output_type": "execute_result"
    }
   ],
   "source": [
    "words = [nltk.word_tokenize(w) for w in sentences]\n",
    "words"
   ]
  },
  {
   "cell_type": "markdown",
   "metadata": {},
   "source": [
    "### Stemming and Lemmatization\n",
    "\n",
    "The basic independent unit in natural languages are the _morphemes_. These arise by inflecting\n",
    "a stem with some affix (e.g. prefixes, suffixes)\n",
    "\n",
    "- *Stemming*: find the stem of the word\n",
    "- *Lemmatization*: find the base form (lemma) of the word by removing affixes. The root form of the word must be present in the dictionary."
   ]
  },
  {
   "cell_type": "code",
   "execution_count": 18,
   "metadata": {
    "ExecuteTime": {
     "end_time": "2023-11-27T15:24:20.600944788Z",
     "start_time": "2023-11-27T15:24:20.558759911Z"
    }
   },
   "outputs": [
    {
     "data": {
      "text/plain": "'went'"
     },
     "execution_count": 18,
     "metadata": {},
     "output_type": "execute_result"
    }
   ],
   "source": [
    "p_stemmer = PorterStemmer()\n",
    "lc_stemmer = LancasterStemmer()\n",
    "\n",
    "p_stemmer.stem(\"strange\")\n",
    "lc_stemmer.stem(\"went\")"
   ]
  },
  {
   "cell_type": "markdown",
   "metadata": {},
   "source": [
    "To reduce all words to their base form we can use a lemmatizer. The `nltk` package provides\n"
   ]
  },
  {
   "cell_type": "markdown",
   "metadata": {},
   "source": [
    "In order for the lemmatizer to work it requires the POS tags of the words in the sentence.\n",
    "The `WorldNetLemmatizer`"
   ]
  },
  {
   "cell_type": "code",
   "execution_count": 34,
   "metadata": {
    "ExecuteTime": {
     "end_time": "2023-11-27T15:32:10.623609217Z",
     "start_time": "2023-11-27T15:32:10.615723916Z"
    }
   },
   "outputs": [
    {
     "data": {
      "text/plain": "'car'"
     },
     "execution_count": 34,
     "metadata": {},
     "output_type": "execute_result"
    }
   ],
   "source": [
    "wn_lemmatizer = nltk.WordNetLemmatizer()\n",
    "wn_lemmatizer.lemmatize('cars', 'n')"
   ]
  },
  {
   "cell_type": "code",
   "execution_count": 35,
   "metadata": {
    "ExecuteTime": {
     "end_time": "2023-11-27T15:32:13.166248023Z",
     "start_time": "2023-11-27T15:32:13.158311642Z"
    }
   },
   "outputs": [
    {
     "data": {
      "text/plain": "'run'"
     },
     "execution_count": 35,
     "metadata": {},
     "output_type": "execute_result"
    }
   ],
   "source": [
    "wn_lemmatizer.lemmatize('running', 'v')"
   ]
  },
  {
   "cell_type": "markdown",
   "metadata": {},
   "source": [
    "The word is returned unchanged if no match is found. The default pos tag is \"n\" (noun)."
   ]
  },
  {
   "cell_type": "code",
   "execution_count": 36,
   "metadata": {
    "ExecuteTime": {
     "end_time": "2023-11-27T15:32:16.395783729Z",
     "start_time": "2023-11-27T15:32:16.349562477Z"
    }
   },
   "outputs": [
    {
     "data": {
      "text/plain": "'gsdgfsdf'"
     },
     "execution_count": 36,
     "metadata": {},
     "output_type": "execute_result"
    }
   ],
   "source": [
    "wn_lemmatizer.lemmatize(\"gsdgfsdf\")"
   ]
  },
  {
   "cell_type": "markdown",
   "source": [
    "## What is WordNet?\n",
    "\n",
    "WordNet is a manually constructed lexical database that groups words into set of synonyms (synsets). Furthermore, it describes a hierarchical relationships (is part of) between words. "
   ],
   "metadata": {
    "collapsed": false
   }
  },
  {
   "cell_type": "code",
   "execution_count": 47,
   "outputs": [
    {
     "name": "stdout",
     "output_type": "stream",
     "text": [
      "Name of the synset lion.n.01\n",
      "Meaning of the synset :  large gregarious predatory feline of Africa and India having a tawny coat with a shaggy mane in the male\n",
      "Hypernyms  [Synset('big_cat.n.01')]\n"
     ]
    }
   ],
   "source": [
    "from nltk.corpus import wordnet as wn\n",
    "\n",
    "synset = wn.synsets('lion')[0]\n",
    "\n",
    "print(\"Name of the synset\", synset.name())\n",
    "print(\"Meaning of the synset : \", synset.definition())\n",
    "print(\"Hypernyms \", synset.hypernyms())"
   ],
   "metadata": {
    "collapsed": false,
    "ExecuteTime": {
     "end_time": "2023-11-27T15:37:47.416972470Z",
     "start_time": "2023-11-27T15:37:47.371435707Z"
    }
   }
  },
  {
   "cell_type": "markdown",
   "metadata": {},
   "source": [
    "## Part of speech tagging\n",
    "\n",
    "Part of speech (POS) tagging refers to determining the role of each word within a sentence, e.g.:\n",
    "\n",
    "1. CD  Cardinal number\n",
    "    e.g. 1, 20\n",
    "2. DT  Determiner\n",
    "    e.g. a/an, the, 2, some, many\n",
    "3. JJ  Adjective\n",
    "    e.g. good, big, red\n",
    "4. JJR Adjective, comparative\n",
    "5. MD  Modal\n",
    "    e.g. can, must, may, might, will, would, should\n",
    "6. NN  Noun, singular or mass\n",
    "    e.g. day, cat\n",
    "7. NNS Noun, plural\n",
    "    e.g. cats, dogs\n",
    "8. RB  Adverb\n",
    "    e.g. quickly, silently, well, badly, very, really\n",
    "9. RBR Adverb, comparative\n",
    "    e.g. cheaper/more cheaply, slower/more slowly\n",
    "10. RBS Adverb, superlative\n",
    "    e.g. fastest, hardest\n",
    "11. VB  Verb, base form\n",
    "    e.g. be, have\n",
    "12. WP  Wh-pronoun\n",
    "    e.g. I, you, he, she, some\n",
    "13. WP$ Possessive wh-pronoun\n",
    "    e.g. mine, his, her, your, yours\n",
    "\n",
    "for the full list of Penn Treebank POS tags see their [website](https://www.ling.upenn.edu/courses/Fall_2003/ling001/penn_treebank_pos.html).\n",
    "\n",
    "Here we use the default POS tagger from `nltk` to label each word."
   ]
  },
  {
   "cell_type": "code",
   "execution_count": 37,
   "metadata": {
    "ExecuteTime": {
     "end_time": "2023-11-27T15:32:31.977287404Z",
     "start_time": "2023-11-27T15:32:31.962724531Z"
    }
   },
   "outputs": [
    {
     "name": "stdout",
     "output_type": "stream",
     "text": [
      "It         PRP        It\n",
      "is         VBZ        is\n",
      "better     RBR        better\n",
      "to         TO         to\n",
      "be         VB         be\n",
      "hated      VBN        hated\n",
      "for        IN         for\n",
      "what       WP         what\n",
      "you        PRP        you\n",
      "are        VBP        are\n",
      "than       IN         than\n",
      "to         TO         to\n",
      "be         VB         be\n",
      "loved      VBN        loved\n",
      "for        IN         for\n",
      "what       WP         what\n",
      "you        PRP        you\n",
      "are        VBP        are\n",
      "not        RB         not\n",
      ".          .          .\n"
     ]
    }
   ],
   "source": [
    "from nltk.corpus import wordnet as wn\n",
    "from nltk.stem.wordnet import WordNetLemmatizer\n",
    "from collections import defaultdict\n",
    "\n",
    "tag_map = defaultdict(lambda: wn.NOUN, J=wn.ADV, V=wn.VERB, R=wn.ADV)\n",
    "\n",
    "sentence = \"It is better to be hated for what you are than to be loved for what you are not.\"\n",
    "\n",
    "tokens = nltk.word_tokenize(sentence)\n",
    "\n",
    "for token, tag in nltk.pos_tag(tokens):\n",
    "    lemma = wn_lemmatizer.lemmatize(token)\n",
    "    print(f\"{token:10} {tag:10} {lemma}\")"
   ]
  },
  {
   "cell_type": "code",
   "execution_count": 30,
   "metadata": {
    "ExecuteTime": {
     "end_time": "2023-11-27T15:30:58.304899426Z",
     "start_time": "2023-11-27T15:30:58.297373566Z"
    }
   },
   "outputs": [
    {
     "data": {
      "text/plain": "defaultdict(<function __main__.<lambda>()>,\n            {'J': 'r',\n             'V': 'v',\n             'R': 'r',\n             'P': 'n',\n             'T': 'n',\n             'I': 'n',\n             'W': 'n',\n             '.': 'n'})"
     },
     "execution_count": 30,
     "metadata": {},
     "output_type": "execute_result"
    }
   ],
   "source": [
    "tag_map"
   ]
  },
  {
   "cell_type": "markdown",
   "metadata": {},
   "source": [
    "### Stop words\n",
    "\n",
    "Natural language contains a lot of words that appear very frequently in all text but that contribute little\n",
    "to the meaning of the text, for example: \"and\", \"the\", etc. Such words are commonly removed from the text in the process of normalization.\n"
   ]
  },
  {
   "cell_type": "code",
   "execution_count": 18,
   "metadata": {},
   "outputs": [
    {
     "data": {
      "text/plain": [
       "['i',\n",
       " 'me',\n",
       " 'my',\n",
       " 'myself',\n",
       " 'we',\n",
       " 'our',\n",
       " 'ours',\n",
       " 'ourselves',\n",
       " 'you',\n",
       " \"you're\",\n",
       " \"you've\",\n",
       " \"you'll\",\n",
       " \"you'd\",\n",
       " 'your',\n",
       " 'yours',\n",
       " 'yourself',\n",
       " 'yourselves',\n",
       " 'he',\n",
       " 'him',\n",
       " 'his',\n",
       " 'himself',\n",
       " 'she',\n",
       " \"she's\",\n",
       " 'her',\n",
       " 'hers',\n",
       " 'herself',\n",
       " 'it',\n",
       " \"it's\",\n",
       " 'its',\n",
       " 'itself',\n",
       " 'they',\n",
       " 'them',\n",
       " 'their',\n",
       " 'theirs',\n",
       " 'themselves',\n",
       " 'what',\n",
       " 'which',\n",
       " 'who',\n",
       " 'whom',\n",
       " 'this',\n",
       " 'that',\n",
       " \"that'll\",\n",
       " 'these',\n",
       " 'those',\n",
       " 'am',\n",
       " 'is',\n",
       " 'are',\n",
       " 'was',\n",
       " 'were',\n",
       " 'be',\n",
       " 'been',\n",
       " 'being',\n",
       " 'have',\n",
       " 'has',\n",
       " 'had',\n",
       " 'having',\n",
       " 'do',\n",
       " 'does',\n",
       " 'did',\n",
       " 'doing',\n",
       " 'a',\n",
       " 'an',\n",
       " 'the',\n",
       " 'and',\n",
       " 'but',\n",
       " 'if',\n",
       " 'or',\n",
       " 'because',\n",
       " 'as',\n",
       " 'until',\n",
       " 'while',\n",
       " 'of',\n",
       " 'at',\n",
       " 'by',\n",
       " 'for',\n",
       " 'with',\n",
       " 'about',\n",
       " 'against',\n",
       " 'between',\n",
       " 'into',\n",
       " 'through',\n",
       " 'during',\n",
       " 'before',\n",
       " 'after',\n",
       " 'above',\n",
       " 'below',\n",
       " 'to',\n",
       " 'from',\n",
       " 'up',\n",
       " 'down',\n",
       " 'in',\n",
       " 'out',\n",
       " 'on',\n",
       " 'off',\n",
       " 'over',\n",
       " 'under',\n",
       " 'again',\n",
       " 'further',\n",
       " 'then',\n",
       " 'once',\n",
       " 'here',\n",
       " 'there',\n",
       " 'when',\n",
       " 'where',\n",
       " 'why',\n",
       " 'how',\n",
       " 'all',\n",
       " 'any',\n",
       " 'both',\n",
       " 'each',\n",
       " 'few',\n",
       " 'more',\n",
       " 'most',\n",
       " 'other',\n",
       " 'some',\n",
       " 'such',\n",
       " 'no',\n",
       " 'nor',\n",
       " 'not',\n",
       " 'only',\n",
       " 'own',\n",
       " 'same',\n",
       " 'so',\n",
       " 'than',\n",
       " 'too',\n",
       " 'very',\n",
       " 's',\n",
       " 't',\n",
       " 'can',\n",
       " 'will',\n",
       " 'just',\n",
       " 'don',\n",
       " \"don't\",\n",
       " 'should',\n",
       " \"should've\",\n",
       " 'now',\n",
       " 'd',\n",
       " 'll',\n",
       " 'm',\n",
       " 'o',\n",
       " 're',\n",
       " 've',\n",
       " 'y',\n",
       " 'ain',\n",
       " 'aren',\n",
       " \"aren't\",\n",
       " 'couldn',\n",
       " \"couldn't\",\n",
       " 'didn',\n",
       " \"didn't\",\n",
       " 'doesn',\n",
       " \"doesn't\",\n",
       " 'hadn',\n",
       " \"hadn't\",\n",
       " 'hasn',\n",
       " \"hasn't\",\n",
       " 'haven',\n",
       " \"haven't\",\n",
       " 'isn',\n",
       " \"isn't\",\n",
       " 'ma',\n",
       " 'mightn',\n",
       " \"mightn't\",\n",
       " 'mustn',\n",
       " \"mustn't\",\n",
       " 'needn',\n",
       " \"needn't\",\n",
       " 'shan',\n",
       " \"shan't\",\n",
       " 'shouldn',\n",
       " \"shouldn't\",\n",
       " 'wasn',\n",
       " \"wasn't\",\n",
       " 'weren',\n",
       " \"weren't\",\n",
       " 'won',\n",
       " \"won't\",\n",
       " 'wouldn',\n",
       " \"wouldn't\"]"
      ]
     },
     "execution_count": 18,
     "metadata": {},
     "output_type": "execute_result"
    }
   ],
   "source": [
    "stopwords_en = nltk.corpus.stopwords.words(\"english\")\n",
    "stopwords_en"
   ]
  },
  {
   "cell_type": "markdown",
   "metadata": {},
   "source": [
    "One way to remove the stop words from a list of words is to simply use list comprehension."
   ]
  },
  {
   "cell_type": "code",
   "execution_count": 19,
   "metadata": {},
   "outputs": [
    {
     "data": {
      "text/plain": [
       "['room', 'without', 'books', 'like', 'body', 'without', 'soul.', 'cicero.']"
      ]
     },
     "execution_count": 19,
     "metadata": {},
     "output_type": "execute_result"
    }
   ],
   "source": [
    "words = \"A room without books is like a body without a soul. Cicero.\".lower()\n",
    "list_of_words = words.split(\" \")\n",
    "\n",
    "list_of_words_filtered = list([w for w in list_of_words if w not in stopwords_en])\n",
    "list_of_words_filtered"
   ]
  },
  {
   "cell_type": "code",
   "execution_count": null,
   "metadata": {
    "pycharm": {
     "is_executing": true
    }
   },
   "outputs": [],
   "source": [
    "import re\n",
    "import string\n",
    "from nltk import tokenize\n",
    "from nltk.stem import PorterStemmer\n",
    "from nltk.corpus import stopwords\n",
    "\n",
    "stemmer = PorterStemmer()\n",
    "punct_table = str.maketrans('', '', string.punctuation)\n",
    "stop_words = set(stopwords.words('english'))\n",
    "\n",
    "\n",
    "def tokenize_text(text):\n",
    "    normalized_sentences = []\n",
    "    text = text.strip()\n",
    "    text = re.sub(r'\\s+', ' ', text)\n",
    "    text = text.lower()\n",
    "\n",
    "    sents = tokenize.sent_tokenize(text)\n",
    "\n",
    "    for sent in sents:\n",
    "        # remove punctuation\n",
    "        sent = sent.translate(punct_table)\n",
    "        # strip leading/trailing whitespace\n",
    "        sent = sent.strip()\n",
    "        wrds = tokenize.word_tokenize(sent)\n",
    "        # apply a stemmer\n",
    "        wrds_without_stopwords = [stemmer.stem(wrd) for wrd in wrds if wrd not in stop_words]\n",
    "        # new_sentence = ' '.join(filtered)\n",
    "        normalized_sentences.append(wrds_without_stopwords)\n",
    "\n",
    "    return normalized_sentences\n",
    "\n",
    "\n",
    "def tokenize_corpus(corpus):\n",
    "    sents = []\n",
    "    for text in corpus:\n",
    "        sents.extend(tokenize_text(text))\n",
    "\n",
    "    return sents\n"
   ]
  },
  {
   "cell_type": "markdown",
   "source": [
    "## spaCy\n"
   ],
   "metadata": {
    "collapsed": false
   }
  },
  {
   "cell_type": "code",
   "execution_count": 2,
   "outputs": [],
   "source": [
    "import spacy\n",
    "\n",
    "nlp = spacy.load('en_core_web_sm')"
   ],
   "metadata": {
    "collapsed": false,
    "ExecuteTime": {
     "end_time": "2023-11-27T15:41:15.885925026Z",
     "start_time": "2023-11-27T15:41:15.137091101Z"
    }
   }
  },
  {
   "cell_type": "code",
   "execution_count": 17,
   "outputs": [],
   "source": [
    "doc = nlp(\n",
    "    \"The U.S. negotiated truce is set to end on November 28th, after four days of quiet meant to facilitate the exchange of 50 Israeli hostages held in Gaza for 150 Palestinian prisoners in Israeli jails.\")"
   ],
   "metadata": {
    "collapsed": false,
    "ExecuteTime": {
     "end_time": "2023-11-27T15:42:25.788784121Z",
     "start_time": "2023-11-27T15:42:25.741812141Z"
    }
   }
  },
  {
   "cell_type": "code",
   "execution_count": 18,
   "outputs": [
    {
     "name": "stdout",
     "output_type": "stream",
     "text": [
      "The | U.S. | negotiated | truce | is | set | to | end | on | November | 28th | , | after | four | days | of | quiet | meant | to | facilitate | the | exchange | of | 50 | Israeli | hostages | held | in | Gaza | for | 150 | Palestinian | prisoners | in | Israeli | jails | . | "
     ]
    }
   ],
   "source": [
    "for token in doc:\n",
    "    print(token.text, end=' | ')"
   ],
   "metadata": {
    "collapsed": false,
    "ExecuteTime": {
     "end_time": "2023-11-27T15:42:27.154448683Z",
     "start_time": "2023-11-27T15:42:27.129672005Z"
    }
   }
  },
  {
   "cell_type": "code",
   "execution_count": 19,
   "outputs": [
    {
     "name": "stdout",
     "output_type": "stream",
     "text": [
      "The        DET        the\n",
      "U.S.       PROPN      U.S.\n",
      "negotiated VERB       negotiate\n",
      "truce      NOUN       truce\n",
      "is         AUX        be\n",
      "set        VERB       set\n",
      "to         PART       to\n",
      "end        VERB       end\n",
      "on         ADP        on\n",
      "November   PROPN      November\n",
      "28th       NOUN       28th\n",
      ",          PUNCT      ,\n",
      "after      ADP        after\n",
      "four       NUM        four\n",
      "days       NOUN       day\n",
      "of         ADP        of\n",
      "quiet      ADJ        quiet\n",
      "meant      VERB       mean\n",
      "to         PART       to\n",
      "facilitate VERB       facilitate\n",
      "the        DET        the\n",
      "exchange   NOUN       exchange\n",
      "of         ADP        of\n",
      "50         NUM        50\n",
      "Israeli    ADJ        israeli\n",
      "hostages   NOUN       hostage\n",
      "held       VERB       hold\n",
      "in         ADP        in\n",
      "Gaza       PROPN      Gaza\n",
      "for        ADP        for\n",
      "150        NUM        150\n",
      "Palestinian ADJ        palestinian\n",
      "prisoners  NOUN       prisoner\n",
      "in         ADP        in\n",
      "Israeli    ADJ        israeli\n",
      "jails      NOUN       jail\n",
      ".          PUNCT      .\n"
     ]
    }
   ],
   "source": [
    "for token in doc:\n",
    "    print(f\"{token.text:10} {token.pos_:10} {token.lemma_}\")"
   ],
   "metadata": {
    "collapsed": false,
    "ExecuteTime": {
     "end_time": "2023-11-27T15:42:29.970340588Z",
     "start_time": "2023-11-27T15:42:29.965979138Z"
    }
   }
  },
  {
   "cell_type": "code",
   "execution_count": 21,
   "outputs": [
    {
     "name": "stdout",
     "output_type": "stream",
     "text": [
      "False\n",
      "True\n",
      "True\n"
     ]
    }
   ],
   "source": [
    "# Stopwords\n",
    "\n",
    "print(nlp.vocab['dog'].is_stop)\n",
    "print(nlp.vocab['the'].is_stop)\n",
    "print(doc[0].is_stop)"
   ],
   "metadata": {
    "collapsed": false,
    "ExecuteTime": {
     "end_time": "2023-11-27T15:42:35.336701186Z",
     "start_time": "2023-11-27T15:42:35.318582625Z"
    }
   }
  }
 ],
 "metadata": {
  "kernelspec": {
   "display_name": "Python 3 (ipykernel)",
   "language": "python",
   "name": "python3"
  },
  "language_info": {
   "codemirror_mode": {
    "name": "ipython",
    "version": 3
   },
   "file_extension": ".py",
   "mimetype": "text/x-python",
   "name": "python",
   "nbconvert_exporter": "python",
   "pygments_lexer": "ipython3",
   "version": "3.8.13"
  }
 },
 "nbformat": 4,
 "nbformat_minor": 1
}
