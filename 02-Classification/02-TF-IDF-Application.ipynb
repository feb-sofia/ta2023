{
 "cells": [
  {
   "cell_type": "markdown",
   "metadata": {},
   "source": [
    "# Case Study: Sentiment Analysis"
   ]
  },
  {
   "cell_type": "markdown",
   "metadata": {
    "pycharm": {
     "is_executing": false
    }
   },
   "source": [
    "### Setup\n",
    "\n",
    "Import modules, read data"
   ]
  },
  {
   "cell_type": "code",
   "execution_count": 27,
   "metadata": {
    "ExecuteTime": {
     "end_time": "2023-11-27T15:02:26.473833552Z",
     "start_time": "2023-11-27T15:02:25.754952234Z"
    }
   },
   "outputs": [
    {
     "name": "stderr",
     "output_type": "stream",
     "text": [
      "[nltk_data] Downloading package stopwords to /home/amarov/nltk_data...\n",
      "[nltk_data]   Unzipping corpora/stopwords.zip.\n"
     ]
    },
    {
     "data": {
      "text/plain": "   Unnamed: 0                                       Product Name Brand Name  \\\n0      394349  Sony XPERIA Z2 D6503 FACTORY UNLOCKED Internat...        NaN   \n1       34377      Apple iPhone 5c 8GB (Pink) - Verizon Wireless      Apple   \n2      248521  Motorola Droid RAZR MAXX XT912 M Verizon Smart...   Motorola   \n3      167661  CNPGD [U.S. Office Extended Warranty] Smartwat...      CNPGD   \n4       73287  Apple iPhone 7 Unlocked Phone 256 GB - US Vers...      Apple   \n\n    Price  Rating                                            Reviews  \\\n0  244.95       5  Very good one! Better than Samsung S and iphon...   \n1  194.99       1  The phone needed a SIM card, would have been n...   \n2  174.99       5  I was 3 months away from my upgrade and my Str...   \n3   49.99       1                     an experience i want to forget   \n4  922.00       5        GREAT PHONE WORK ACCORDING MY EXPECTATIONS.   \n\n   Review Votes  \n0           0.0  \n1           1.0  \n2           3.0  \n3           0.0  \n4           1.0  ",
      "text/html": "<div>\n<style scoped>\n    .dataframe tbody tr th:only-of-type {\n        vertical-align: middle;\n    }\n\n    .dataframe tbody tr th {\n        vertical-align: top;\n    }\n\n    .dataframe thead th {\n        text-align: right;\n    }\n</style>\n<table border=\"1\" class=\"dataframe\">\n  <thead>\n    <tr style=\"text-align: right;\">\n      <th></th>\n      <th>Unnamed: 0</th>\n      <th>Product Name</th>\n      <th>Brand Name</th>\n      <th>Price</th>\n      <th>Rating</th>\n      <th>Reviews</th>\n      <th>Review Votes</th>\n    </tr>\n  </thead>\n  <tbody>\n    <tr>\n      <th>0</th>\n      <td>394349</td>\n      <td>Sony XPERIA Z2 D6503 FACTORY UNLOCKED Internat...</td>\n      <td>NaN</td>\n      <td>244.95</td>\n      <td>5</td>\n      <td>Very good one! Better than Samsung S and iphon...</td>\n      <td>0.0</td>\n    </tr>\n    <tr>\n      <th>1</th>\n      <td>34377</td>\n      <td>Apple iPhone 5c 8GB (Pink) - Verizon Wireless</td>\n      <td>Apple</td>\n      <td>194.99</td>\n      <td>1</td>\n      <td>The phone needed a SIM card, would have been n...</td>\n      <td>1.0</td>\n    </tr>\n    <tr>\n      <th>2</th>\n      <td>248521</td>\n      <td>Motorola Droid RAZR MAXX XT912 M Verizon Smart...</td>\n      <td>Motorola</td>\n      <td>174.99</td>\n      <td>5</td>\n      <td>I was 3 months away from my upgrade and my Str...</td>\n      <td>3.0</td>\n    </tr>\n    <tr>\n      <th>3</th>\n      <td>167661</td>\n      <td>CNPGD [U.S. Office Extended Warranty] Smartwat...</td>\n      <td>CNPGD</td>\n      <td>49.99</td>\n      <td>1</td>\n      <td>an experience i want to forget</td>\n      <td>0.0</td>\n    </tr>\n    <tr>\n      <th>4</th>\n      <td>73287</td>\n      <td>Apple iPhone 7 Unlocked Phone 256 GB - US Vers...</td>\n      <td>Apple</td>\n      <td>922.00</td>\n      <td>5</td>\n      <td>GREAT PHONE WORK ACCORDING MY EXPECTATIONS.</td>\n      <td>1.0</td>\n    </tr>\n  </tbody>\n</table>\n</div>"
     },
     "execution_count": 27,
     "metadata": {},
     "output_type": "execute_result"
    }
   ],
   "source": [
    "import pandas as pd\n",
    "import numpy as np\n",
    "import seaborn as sns\n",
    "from sklearn.model_selection import train_test_split\n",
    "from sklearn.feature_extraction.text import CountVectorizer\n",
    "from sklearn.linear_model import LogisticRegression\n",
    "from sklearn.metrics import roc_auc_score, roc_curve\n",
    "from sklearn.feature_extraction.text import TfidfVectorizer\n",
    "import matplotlib.pyplot as plt\n",
    "import nltk\n",
    "\n",
    "sns.set()\n",
    "\n",
    "# Read in the data\n",
    "df = pd.read_csv(\"https://raw.githubusercontent.com/feb-sofia/ta2023/main/data/reviews.csv\")\n",
    "# Sample the data to speed up computation\n",
    "# Comment out this line to match with lecture\n",
    "\n",
    "df.head()\n"
   ]
  },
  {
   "cell_type": "code",
   "execution_count": 28,
   "metadata": {
    "scrolled": true,
    "ExecuteTime": {
     "end_time": "2023-11-27T15:02:31.691482737Z",
     "start_time": "2023-11-27T15:02:31.665674269Z"
    }
   },
   "outputs": [
    {
     "data": {
      "text/plain": "1     The phone needed a SIM card, would have been n...\n2     I was 3 months away from my upgrade and my Str...\n3                        an experience i want to forget\n4           GREAT PHONE WORK ACCORDING MY EXPECTATIONS.\n5     I fell in love with this phone because it did ...\n6     I am pleased with this Blackberry phone! The p...\n7     Great product, best value for money smartphone...\n9             I've bought 3 no problems. Fast delivery.\n10                         Great phone for the price...\n11    My mom is not good with new technoloy but this...\n12    The charger didnt work, I suppose that it mean...\n13    I loved it and thanks so much because you made...\n14    Amazing phone especially for the price. I love...\n16    I purchase it for my friend, she like it alot ...\n17    I generally dont write reviews but this phone ...\n18    I bought this phone for my mom and sent it to ...\n19                                         got me going\n20    Happy to be back! I broke my Lumia 1520.3 and ...\n21    This phone is amazing. Beautiful camera qualit...\n22    The cell didn't work more than one months. It ...\n23                             The camera does not work\n24    The phone looks nice and attractive but I can'...\n25    Storm 9530 purchase 3 wks ago not working anym...\n26    person I bought it for thought it was a nice p...\n27    The was wonderful but the power button stopped...\n28    This phone has been pretty disappointing for m...\n29    This is a nice phone, only two things disappoi...\n31    Phone was NOT NEW as described. Phone stopped ...\n32    The phone display stopped working in 6 months ...\n35    Gets too hot and battery life doesn't last mor...\n36    Bad experience.The stop working 5 days a go I ...\n37                                                 GOOD\n38    Did exactly what it was supposed to do. Previo...\n39    Excellent Phone!... Fast, can take a \"loading\"...\n40                                   excelente producto\n41              The phone broke a month after having it\n42                                good phoneworks great\n43    It would be hard to find a comparable device f...\n44    Excellent phone, Only minor issue is getting b...\n45    We bought this watch 2 months ago and it alrea...\n46    The phone is ok apple could've done better wit...\n47    this is a great phone I did a lot of research ...\n48                                            excelente\n49    Happy with the phone, the product is as descri...\n53    Simply excellent, very responsive to touch, ea...\n54    I'm so in love with my new phone. I watched an...\n55    The watch is internally set for GMT in which N...\n60                                     would buy again.\n61    Im loving it....So far it works very good no p...\n62                                                 Good\nName: Reviews, dtype: object"
     },
     "execution_count": 28,
     "metadata": {},
     "output_type": "execute_result"
    }
   ],
   "source": [
    "# Remove missing values\n",
    "df.dropna(inplace=True)\n",
    "\n",
    "# Drop reviews with neutral ratings\n",
    "df = df[df['Rating'] != 3]\n",
    "\n",
    "\"Super! No problem with the phone\"\n",
    "\"Many problems with the phone\"\n",
    "\n",
    "# Map ratings 4 and 5 to \"positive\" \n",
    "# Map ratings 1 and 2 to \"negative\"\n",
    "df[\"positive\"] = np.where(df['Rating'] > 3, 1, 0)\n",
    "df.Reviews.head(50)"
   ]
  },
  {
   "cell_type": "code",
   "execution_count": 10,
   "metadata": {
    "ExecuteTime": {
     "end_time": "2023-11-27T15:00:24.461262628Z",
     "start_time": "2023-11-27T15:00:24.455772516Z"
    }
   },
   "outputs": [
    {
     "data": {
      "text/plain": "0.7475259604695931"
     },
     "execution_count": 10,
     "metadata": {},
     "output_type": "execute_result"
    }
   ],
   "source": [
    "# Most ratings are positive\n",
    "df['positive'].mean()"
   ]
  },
  {
   "cell_type": "code",
   "execution_count": 11,
   "metadata": {
    "ExecuteTime": {
     "end_time": "2023-11-27T15:00:27.358321119Z",
     "start_time": "2023-11-27T15:00:27.342630991Z"
    }
   },
   "outputs": [],
   "source": [
    "\n",
    "# Split data into training and test sets\n",
    "X_train, X_test, y_train, y_test = train_test_split(df['Reviews'],\n",
    "                                                    df['positive'],\n",
    "                                                    random_state=0)"
   ]
  },
  {
   "cell_type": "code",
   "execution_count": 12,
   "metadata": {
    "ExecuteTime": {
     "end_time": "2023-11-27T15:00:30.509325212Z",
     "start_time": "2023-11-27T15:00:30.502723155Z"
    }
   },
   "outputs": [
    {
     "name": "stdout",
     "output_type": "stream",
     "text": [
      "X_train first entry:\n",
      "\n",
      " Broke in like 20 mins\n",
      "\n",
      "\n",
      "X_train shape:  (27662,)\n"
     ]
    }
   ],
   "source": [
    "print('X_train first entry:\\n\\n', X_train.iloc[0])\n",
    "print('\\n\\nX_train shape: ', X_train.shape)"
   ]
  },
  {
   "cell_type": "markdown",
   "metadata": {
    "pycharm": {
     "is_executing": false
    }
   },
   "source": [
    "# CountVectorizer"
   ]
  },
  {
   "cell_type": "code",
   "execution_count": 17,
   "metadata": {
    "ExecuteTime": {
     "end_time": "2023-11-27T15:01:04.649024149Z",
     "start_time": "2023-11-27T15:01:04.084756099Z"
    }
   },
   "outputs": [],
   "source": [
    "# Fit the CountVectorizer to the training data\n",
    "vect = CountVectorizer().fit(X_train)"
   ]
  },
  {
   "cell_type": "code",
   "execution_count": null,
   "metadata": {},
   "outputs": [],
   "source": []
  },
  {
   "cell_type": "code",
   "execution_count": 18,
   "metadata": {
    "ExecuteTime": {
     "end_time": "2023-11-27T15:01:07.508042229Z",
     "start_time": "2023-11-27T15:01:07.485157382Z"
    }
   },
   "outputs": [
    {
     "data": {
      "text/plain": "array(['00', 'antennae', 'changer', 'dijeron', 'flickering',\n       'incremental', 'metter', 'phoblem', 'resold', 'states', 'untimely'],\n      dtype=object)"
     },
     "execution_count": 18,
     "metadata": {},
     "output_type": "execute_result"
    }
   ],
   "source": [
    "vect.get_feature_names_out()[::2000]\n",
    "vect.get_feature_names_out()[::2000]"
   ]
  },
  {
   "cell_type": "markdown",
   "metadata": {},
   "source": [
    "Number of features generated"
   ]
  },
  {
   "cell_type": "code",
   "execution_count": 19,
   "metadata": {
    "ExecuteTime": {
     "end_time": "2023-11-27T15:01:10.781542933Z",
     "start_time": "2023-11-27T15:01:10.768419395Z"
    }
   },
   "outputs": [
    {
     "data": {
      "text/plain": "21374"
     },
     "execution_count": 19,
     "metadata": {},
     "output_type": "execute_result"
    }
   ],
   "source": [
    "len(vect.get_feature_names_out())"
   ]
  },
  {
   "cell_type": "code",
   "execution_count": 20,
   "metadata": {
    "ExecuteTime": {
     "end_time": "2023-11-27T15:01:16.304061161Z",
     "start_time": "2023-11-27T15:01:15.844542757Z"
    }
   },
   "outputs": [
    {
     "data": {
      "text/plain": "<27662x21374 sparse matrix of type '<class 'numpy.int64'>'\n\twith 736995 stored elements in Compressed Sparse Row format>"
     },
     "execution_count": 20,
     "metadata": {},
     "output_type": "execute_result"
    }
   ],
   "source": [
    "# transform the documents in the training data to a document-term matrix\n",
    "X_train_vectorized = vect.transform(X_train)\n",
    "X_train_vectorized"
   ]
  },
  {
   "cell_type": "code",
   "execution_count": 33,
   "metadata": {
    "ExecuteTime": {
     "end_time": "2023-11-27T15:03:28.287121523Z",
     "start_time": "2023-11-27T15:03:23.698611707Z"
    }
   },
   "outputs": [
    {
     "data": {
      "text/plain": "LogisticRegression(max_iter=2000)",
      "text/html": "<style>#sk-container-id-3 {color: black;}#sk-container-id-3 pre{padding: 0;}#sk-container-id-3 div.sk-toggleable {background-color: white;}#sk-container-id-3 label.sk-toggleable__label {cursor: pointer;display: block;width: 100%;margin-bottom: 0;padding: 0.3em;box-sizing: border-box;text-align: center;}#sk-container-id-3 label.sk-toggleable__label-arrow:before {content: \"▸\";float: left;margin-right: 0.25em;color: #696969;}#sk-container-id-3 label.sk-toggleable__label-arrow:hover:before {color: black;}#sk-container-id-3 div.sk-estimator:hover label.sk-toggleable__label-arrow:before {color: black;}#sk-container-id-3 div.sk-toggleable__content {max-height: 0;max-width: 0;overflow: hidden;text-align: left;background-color: #f0f8ff;}#sk-container-id-3 div.sk-toggleable__content pre {margin: 0.2em;color: black;border-radius: 0.25em;background-color: #f0f8ff;}#sk-container-id-3 input.sk-toggleable__control:checked~div.sk-toggleable__content {max-height: 200px;max-width: 100%;overflow: auto;}#sk-container-id-3 input.sk-toggleable__control:checked~label.sk-toggleable__label-arrow:before {content: \"▾\";}#sk-container-id-3 div.sk-estimator input.sk-toggleable__control:checked~label.sk-toggleable__label {background-color: #d4ebff;}#sk-container-id-3 div.sk-label input.sk-toggleable__control:checked~label.sk-toggleable__label {background-color: #d4ebff;}#sk-container-id-3 input.sk-hidden--visually {border: 0;clip: rect(1px 1px 1px 1px);clip: rect(1px, 1px, 1px, 1px);height: 1px;margin: -1px;overflow: hidden;padding: 0;position: absolute;width: 1px;}#sk-container-id-3 div.sk-estimator {font-family: monospace;background-color: #f0f8ff;border: 1px dotted black;border-radius: 0.25em;box-sizing: border-box;margin-bottom: 0.5em;}#sk-container-id-3 div.sk-estimator:hover {background-color: #d4ebff;}#sk-container-id-3 div.sk-parallel-item::after {content: \"\";width: 100%;border-bottom: 1px solid gray;flex-grow: 1;}#sk-container-id-3 div.sk-label:hover label.sk-toggleable__label {background-color: #d4ebff;}#sk-container-id-3 div.sk-serial::before {content: \"\";position: absolute;border-left: 1px solid gray;box-sizing: border-box;top: 0;bottom: 0;left: 50%;z-index: 0;}#sk-container-id-3 div.sk-serial {display: flex;flex-direction: column;align-items: center;background-color: white;padding-right: 0.2em;padding-left: 0.2em;position: relative;}#sk-container-id-3 div.sk-item {position: relative;z-index: 1;}#sk-container-id-3 div.sk-parallel {display: flex;align-items: stretch;justify-content: center;background-color: white;position: relative;}#sk-container-id-3 div.sk-item::before, #sk-container-id-3 div.sk-parallel-item::before {content: \"\";position: absolute;border-left: 1px solid gray;box-sizing: border-box;top: 0;bottom: 0;left: 50%;z-index: -1;}#sk-container-id-3 div.sk-parallel-item {display: flex;flex-direction: column;z-index: 1;position: relative;background-color: white;}#sk-container-id-3 div.sk-parallel-item:first-child::after {align-self: flex-end;width: 50%;}#sk-container-id-3 div.sk-parallel-item:last-child::after {align-self: flex-start;width: 50%;}#sk-container-id-3 div.sk-parallel-item:only-child::after {width: 0;}#sk-container-id-3 div.sk-dashed-wrapped {border: 1px dashed gray;margin: 0 0.4em 0.5em 0.4em;box-sizing: border-box;padding-bottom: 0.4em;background-color: white;}#sk-container-id-3 div.sk-label label {font-family: monospace;font-weight: bold;display: inline-block;line-height: 1.2em;}#sk-container-id-3 div.sk-label-container {text-align: center;}#sk-container-id-3 div.sk-container {/* jupyter's `normalize.less` sets `[hidden] { display: none; }` but bootstrap.min.css set `[hidden] { display: none !important; }` so we also need the `!important` here to be able to override the default hidden behavior on the sphinx rendered scikit-learn.org. See: https://github.com/scikit-learn/scikit-learn/issues/21755 */display: inline-block !important;position: relative;}#sk-container-id-3 div.sk-text-repr-fallback {display: none;}</style><div id=\"sk-container-id-3\" class=\"sk-top-container\"><div class=\"sk-text-repr-fallback\"><pre>LogisticRegression(max_iter=2000)</pre><b>In a Jupyter environment, please rerun this cell to show the HTML representation or trust the notebook. <br />On GitHub, the HTML representation is unable to render, please try loading this page with nbviewer.org.</b></div><div class=\"sk-container\" hidden><div class=\"sk-item\"><div class=\"sk-estimator sk-toggleable\"><input class=\"sk-toggleable__control sk-hidden--visually\" id=\"sk-estimator-id-3\" type=\"checkbox\" checked><label for=\"sk-estimator-id-3\" class=\"sk-toggleable__label sk-toggleable__label-arrow\">LogisticRegression</label><div class=\"sk-toggleable__content\"><pre>LogisticRegression(max_iter=2000)</pre></div></div></div></div></div>"
     },
     "execution_count": 33,
     "metadata": {},
     "output_type": "execute_result"
    }
   ],
   "source": [
    "# Train the model\n",
    "logreg = LogisticRegression(max_iter=2000)\n",
    "logreg.fit(X_train_vectorized, y_train)"
   ]
  },
  {
   "cell_type": "markdown",
   "metadata": {},
   "source": [
    "Compute the ROC curve and plot it. Compute the area under the ROC curve."
   ]
  },
  {
   "cell_type": "code",
   "execution_count": 34,
   "metadata": {
    "ExecuteTime": {
     "end_time": "2023-11-27T15:03:31.728394108Z",
     "start_time": "2023-11-27T15:03:31.262602340Z"
    }
   },
   "outputs": [
    {
     "name": "stdout",
     "output_type": "stream",
     "text": [
      "AUC:  0.8959253676234809\n"
     ]
    },
    {
     "data": {
      "text/plain": "<Figure size 640x480 with 1 Axes>",
      "image/png": "[encoded data removed]"
     },
     "metadata": {},
     "output_type": "display_data"
    }
   ],
   "source": [
    "# Predict the transformed test documents\n",
    "predictions = logreg.predict(vect.transform(X_test))\n",
    "logreg_probs = logreg.predict_proba(vect.transform(X_test))\n",
    "logreg_positive_probs = [p[1] for p in logreg_probs]\n",
    "\n",
    "fpr, tpr, thresholds = roc_curve(y_test, logreg_positive_probs)\n",
    "\n",
    "## Predicted probabilities from the logistic regression model\n",
    "print('AUC: ', roc_auc_score(y_test, predictions))\n",
    "\n",
    "\n",
    "def plot_roc(fpr, tpr):\n",
    "    plt.plot(fpr, tpr, color='orange', label='ROC')\n",
    "    plt.plot([0, 1], [0, 1], color='black', linestyle='--')\n",
    "    plt.xlabel('False Positive Rate')\n",
    "    plt.ylabel('True Positive Rate')\n",
    "    plt.title('Logistic regression model: ROC curve')\n",
    "    plt.legend()\n",
    "    plt.show()\n",
    "\n",
    "\n",
    "plot_roc(fpr, tpr)"
   ]
  },
  {
   "cell_type": "code",
   "execution_count": 35,
   "metadata": {
    "scrolled": false,
    "ExecuteTime": {
     "end_time": "2023-11-27T15:03:36.729745103Z",
     "start_time": "2023-11-27T15:03:36.719633137Z"
    }
   },
   "outputs": [
    {
     "name": "stdout",
     "output_type": "stream",
     "text": [
      "Smallest Coefs:\n",
      "['worst' 'terrible' 'waste' 'sucks' 'junk' 'poor' 'useless' 'broken'\n",
      " 'slow' 'garbage']\n",
      "\n",
      "Largest Coefs: \n",
      "['excelent' 'excelente' 'excellent' 'love' 'perfectly' 'perfect' 'loves'\n",
      " 'amazing' 'exactly' 'great']\n"
     ]
    }
   ],
   "source": [
    "# get the feature names as numpy array\n",
    "feature_names = np.array(vect.get_feature_names_out())\n",
    "\n",
    "# Sort the coefficients from the model\n",
    "sorted_coef_index = logreg.coef_[0].argsort()\n",
    "\n",
    "# Find the 10 smallest and 10 largest coefficients\n",
    "# The 10 largest coefficients are being indexed using [:-11:-1] \n",
    "# so the list returned is in order of largest to smallest\n",
    "print('Smallest Coefs:\\n{}\\n'.format(feature_names[sorted_coef_index[:10]]))\n",
    "print('Largest Coefs: \\n{}'.format(feature_names[sorted_coef_index[:-11:-1]]))"
   ]
  },
  {
   "cell_type": "markdown",
   "metadata": {},
   "source": [
    "# TF-IDF\n",
    "\n",
    "Fit another logistic regression model. This time vectorize using the DF-IDF vectorization."
   ]
  },
  {
   "cell_type": "code",
   "execution_count": 42,
   "metadata": {
    "ExecuteTime": {
     "end_time": "2023-11-27T15:05:42.385065586Z",
     "start_time": "2023-11-27T15:05:41.848174596Z"
    }
   },
   "outputs": [
    {
     "data": {
      "text/plain": "21374"
     },
     "execution_count": 42,
     "metadata": {},
     "output_type": "execute_result"
    }
   ],
   "source": [
    "stopwords_en = nltk.corpus.stopwords.words(\"english\")\n",
    "\n",
    "# Fit the TfidfVectorizer to the training data specifying a minimum document frequency of 5\n",
    "idf_vect = TfidfVectorizer()\n",
    "idf_vect.fit(X_train)\n",
    "len(idf_vect.get_feature_names_out())"
   ]
  },
  {
   "cell_type": "code",
   "execution_count": 43,
   "metadata": {
    "scrolled": true,
    "ExecuteTime": {
     "end_time": "2023-11-27T15:05:45.945105707Z",
     "start_time": "2023-11-27T15:05:44.574319625Z"
    }
   },
   "outputs": [
    {
     "name": "stdout",
     "output_type": "stream",
     "text": [
      "AUC:  0.8959253676234809\n",
      "AUC:  0.8948881392277619\n"
     ]
    }
   ],
   "source": [
    "X_train_vectorized_idf = idf_vect.transform(X_train)\n",
    "\n",
    "model = LogisticRegression(max_iter=2000)\n",
    "model.fit(X_train_vectorized_idf, y_train)\n",
    "\n",
    "predictions_idf = model.predict(idf_vect.transform(X_test))\n",
    "\n",
    "print('AUC: ', roc_auc_score(y_test, predictions))\n",
    "print('AUC: ', roc_auc_score(y_test, predictions_idf))"
   ]
  },
  {
   "cell_type": "code",
   "execution_count": 46,
   "metadata": {
    "scrolled": true,
    "ExecuteTime": {
     "end_time": "2023-11-27T15:06:49.933085483Z",
     "start_time": "2023-11-27T15:06:49.888856852Z"
    }
   },
   "outputs": [
    {
     "name": "stdout",
     "output_type": "stream",
     "text": [
      "Smallest tfidf:\n",
      "['jumped' 'outta' 'outstand' 'outsources' 'outsource' 'outsmarts'\n",
      " 'outshines' 'outter' 'outshine' 'outs']\n",
      "\n",
      "Largest tfidf: \n",
      "['the' 'and' 'this' 'phone' 'to' 'it' 'is' 'you' 'iphone' 'of']\n"
     ]
    }
   ],
   "source": [
    "feature_names = np.array(vect.get_feature_names_out())\n",
    "\n",
    "sorted_tfidf_index = X_train_vectorized.max(0).toarray()[0].argsort()\n",
    "\n",
    "print('Smallest tfidf:\\n{}\\n'.format(feature_names[sorted_tfidf_index[:10]]))\n",
    "print('Largest tfidf: \\n{}'.format(feature_names[sorted_tfidf_index[:-11:-1]]))"
   ]
  },
  {
   "cell_type": "code",
   "execution_count": 47,
   "metadata": {
    "ExecuteTime": {
     "end_time": "2023-11-27T15:06:53.825810308Z",
     "start_time": "2023-11-27T15:06:53.819039090Z"
    }
   },
   "outputs": [
    {
     "name": "stdout",
     "output_type": "stream",
     "text": [
      "Smallest Coefs:\n",
      "['not' 'slow' 'doesn' 'worst' 'disappointed' 'terrible' 'return' 'never'\n",
      " 'waste' 'poor']\n",
      "\n",
      "Largest Coefs: \n",
      "['great' 'love' 'excellent' 'best' 'good' 'perfect' 'price' 'awesome'\n",
      " 'far' 'amazing']\n"
     ]
    }
   ],
   "source": [
    "sorted_coef_index = model.coef_[0].argsort()\n",
    "\n",
    "print('Smallest Coefs:\\n{}\\n'.format(feature_names[sorted_coef_index[:10]]))\n",
    "print('Largest Coefs: \\n{}'.format(feature_names[sorted_coef_index[:-11:-1]]))"
   ]
  },
  {
   "cell_type": "code",
   "execution_count": 51,
   "metadata": {
    "ExecuteTime": {
     "end_time": "2023-11-27T15:07:21.905113366Z",
     "start_time": "2023-11-27T15:07:21.860585718Z"
    }
   },
   "outputs": [
    {
     "name": "stdout",
     "output_type": "stream",
     "text": [
      "[0 1]\n"
     ]
    }
   ],
   "source": [
    "# These reviews are treated the same by our current model\n",
    "print(model.predict(idf_vect.transform(['not an issue',\n",
    "                                        'an issue'])))"
   ]
  },
  {
   "cell_type": "markdown",
   "metadata": {},
   "source": [
    "# N-grams\n",
    "\n",
    "Fit a third logistic regression model using the TF-IDF vectorization. This time include\n",
    "bi-grams as features and exclude features with document frequency less than 5."
   ]
  },
  {
   "cell_type": "code",
   "execution_count": 52,
   "metadata": {
    "ExecuteTime": {
     "end_time": "2023-11-27T15:07:29.969109910Z",
     "start_time": "2023-11-27T15:07:27.832291511Z"
    }
   },
   "outputs": [
    {
     "data": {
      "text/plain": "33883"
     },
     "execution_count": 52,
     "metadata": {},
     "output_type": "execute_result"
    }
   ],
   "source": [
    "# Fit the CountVectorizer to the training data specifiying a minimum \n",
    "# document frequency of 5 and extracting unigrams and bigrams\n",
    "\n",
    "vect = CountVectorizer(min_df=5, ngram_range=(1, 2)).fit(X_train)\n",
    "\n",
    "X_train_vectorized = vect.transform(X_train)\n",
    "\n",
    "len(vect.get_feature_names_out())"
   ]
  },
  {
   "cell_type": "code",
   "execution_count": 53,
   "metadata": {
    "ExecuteTime": {
     "end_time": "2023-11-27T15:07:39.820804660Z",
     "start_time": "2023-11-27T15:07:35.209435983Z"
    }
   },
   "outputs": [
    {
     "name": "stdout",
     "output_type": "stream",
     "text": [
      "AUC:  0.9150383329628612\n"
     ]
    }
   ],
   "source": [
    "model = LogisticRegression(max_iter=5000)\n",
    "model.fit(X_train_vectorized, y_train)\n",
    "\n",
    "predictions = model.predict(vect.transform(X_test))\n",
    "\n",
    "print('AUC: ', roc_auc_score(y_test, predictions))"
   ]
  },
  {
   "cell_type": "code",
   "execution_count": 54,
   "metadata": {
    "ExecuteTime": {
     "end_time": "2023-11-27T15:07:44.644616219Z",
     "start_time": "2023-11-27T15:07:44.618889059Z"
    }
   },
   "outputs": [
    {
     "name": "stdout",
     "output_type": "stream",
     "text": [
      "Smallest Coefs:\n",
      "['no good' 'junk' 'worst' 'broken' 'sucks' 'poor' 'terrible' 'horrible'\n",
      " 'not good' 'not']\n",
      "\n",
      "Largest Coefs: \n",
      "['excellent' 'excelente' 'excelent' 'perfect' 'great' 'not bad'\n",
      " 'no problems' 'love' 'awesome' 'amazing']\n"
     ]
    }
   ],
   "source": [
    "feature_names = np.array(vect.get_feature_names_out())\n",
    "\n",
    "sorted_coef_index = model.coef_[0].argsort()\n",
    "\n",
    "print('Smallest Coefs:\\n{}\\n'.format(feature_names[sorted_coef_index[:10]]))\n",
    "print('Largest Coefs: \\n{}'.format(feature_names[sorted_coef_index[:-11:-1]]))"
   ]
  },
  {
   "cell_type": "code",
   "execution_count": 55,
   "metadata": {
    "ExecuteTime": {
     "end_time": "2023-11-27T15:07:47.433433308Z",
     "start_time": "2023-11-27T15:07:47.428461246Z"
    }
   },
   "outputs": [
    {
     "name": "stdout",
     "output_type": "stream",
     "text": [
      "[1 1]\n"
     ]
    }
   ],
   "source": [
    "# These reviews are now correctly identified\n",
    "print(\n",
    "    model.predict(\n",
    "        vect.transform(['not an issue',\n",
    "                        'an issue']))\n",
    ")"
   ]
  }
 ],
 "metadata": {
  "kernelspec": {
   "display_name": "Python 3 (ipykernel)",
   "language": "python",
   "name": "python3"
  },
  "language_info": {
   "codemirror_mode": {
    "name": "ipython",
    "version": 3
   },
   "file_extension": ".py",
   "mimetype": "text/x-python",
   "name": "python",
   "nbconvert_exporter": "python",
   "pygments_lexer": "ipython3",
   "version": "3.8.13"
  }
 },
 "nbformat": 4,
 "nbformat_minor": 1
}
